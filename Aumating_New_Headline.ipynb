{
  "nbformat": 4,
  "nbformat_minor": 0,
  "metadata": {
    "colab": {
      "provenance": [],
      "authorship_tag": "ABX9TyNEeXITv6nFrD7AGzvS5KcE",
      "include_colab_link": true
    },
    "kernelspec": {
      "name": "python3",
      "display_name": "Python 3"
    },
    "language_info": {
      "name": "python"
    }
  },
  "cells": [
    {
      "cell_type": "markdown",
      "metadata": {
        "id": "view-in-github",
        "colab_type": "text"
      },
      "source": [
        "<a href=\"https://colab.research.google.com/github/ajeevansiva/stock_news_summarizer/blob/main/Aumating_New_Headline.ipynb\" target=\"_parent\"><img src=\"https://colab.research.google.com/assets/colab-badge.svg\" alt=\"Open In Colab\"/></a>"
      ]
    },
    {
      "cell_type": "code",
      "execution_count": 40,
      "metadata": {
        "colab": {
          "base_uri": "https://localhost:8080/"
        },
        "id": "m8N0VlxA5Moo",
        "outputId": "ac1d2d1e-d156-4252-c3af-c989e00fcd64"
      },
      "outputs": [
        {
          "output_type": "stream",
          "name": "stdout",
          "text": [
            "News headlines:\n",
            "- Tesla (TSLA) has seen share declines of over 33% in 2024 year-to-date, becoming a top laggard in the Magnificent Seven group of tech stocks. The EV maker is fighting an uphill battle as EV demand in the US wanes while the company has resorted to price cuts in Chinese markets.\n",
            "- Gerber Kawasaki Wealth & Investment Management CEO Ross Gerber, a long-time Tesla investor and critic of CEO Elon Musk, discusses the demand headwinds Tesla faces, his own leadership concerns, and how Tesla is being evaluated as a tech company rather than a traditional auto manufacturer.\n",
            "- \"The original story that I think most investors bought into with Tesla didn't really include Elon and Twitter. And... for a long time, we all hoped that it really wouldn't affect Tesla and the demand for its products,\" Gerber says. \"We all know that that has now happened. The demand for Tesla products is obviously lower. They've had to discount and do many things that hurt margins and returns and, ultimately, profits for Tesla.\"\n",
            "- For more expert insight and the latest market action, click here to watch this full episode of Yahoo Finance Live.\n",
            "- Editor's note: This article was written by Luke Carberry Mogan.\n",
            "- AKIKO FUJITA: Well, Tesla shares falling more than 30% since the start of the year with a number of factors leading to that decline. The EV giant has received several analyst downgrades, including one from Wells Fargo on Wednesday. There's also concerns about a slowdown in EV demand. Let's talk about where investor sentiment is likely to lead to.\n",
            "- Now, Ross Gerber, Gerber Kawasaki Wealth and Investment Management CEO joining us now. Ross, we always like to talk Tesla with you. But I wonder where you think about where Tesla has fallen right now. Is this just about Tesla coming back down to reality where fair value should be? Or are there fundamental questions about its growth potential now?\n",
            "- ROSS GERBER: Well, unfortunately, I think it's kind of both in that, the original story that I think most investors bought into with Tesla didn't really include Elon and Twitter. And I think for a long time, we all hoped that it really wouldn't affect Tesla and the demand for its products. But we all know that has now happened, and the demand for Tesla products is obviously lower.\n",
            "- And they've had to discount and do many things that hurt margins and returns and ultimately, you know, profits for Tesla. So you've got that problem, which is where's the bottom when they don't advertise and they don't do anything to create demand. But the CEO of the company every day goes out and hurts demand through his actions. Literally, every day.\n",
            "- Yesterday, it was Don Lemon and Mr. Free Speech. You know, oh, but don't like the guy who interviewed me, so he's fired. That's not free speech. So I think investors have had enough. And we see the fallacy in this business model now where the king of advertising the brand is now the devil advertising the brand basically.\n",
            "- RACHELLE AKUFFO: So Ross, I mean, this is tough. But I know you're someone who-- I mean, this is a company that you like, that you follow.\n",
            "- ROSS GERBER: I love the company.\n",
            "- RACHELLE AKUFFO: Exactly. So how hard is it then to try and value this company that started off as a car company then is considered more of a software company, and then you bring in some of the personality of the CEO as well coming into the mix? How do you end up valuing accurately Tesla?\n",
            "- ROSS GERBER: Well, the way we've always valued Tesla is a tech company, first of all. And in its heyday, it traded 100 times forward earnings in the end of '21 when things were as good as they could be for Tesla. And you know, so part of it is a valuation coming back down to Earth.\n",
            "- And when you align it with forward multiples from Microsoft, NVIDIA, Google, Apple, the Mag Seven, let's say, 35 to 40 times forward earnings makes a lot of sense. So if you're looking at $3 for this year, that's how the Wells Fargo guy gets to 125. And so 40 times earnings seems like a fair multiple for a company that isn't growing earnings but has an incredible potential future.\n",
            "- But this could turn around very quickly if either-- like Tesla gets a real CEO who's actually going to help the company or Elon changes his tune and actually comes back to working at Tesla and promoting the brand in a positive way. So they've got great products, the Cybertruck is amazing. But it's just literally a business lesson of an amazing company being brought down by its CEO.\n",
            "- AKIKO FUJITA: Yeah. But Ross, you said you value it as a tech company. I mean, what's the tech catalyst here? For months, we heard from so many Tesla bulls who said, look, this is an AI company. But there's not an AI product out there. When you think about autopilot, it's not at the level five that was claimed to be before.\n",
            "- ROSS GERBER: It's not an AI company. And Elon's made it clear he's not going to build AI at Tesla, which is even more upsetting to me, especially because Tesla could have owned OpenAI in hindsight. And boy, that's worth now $100 billion. So there's a lot of stuff going on here.\n",
            "- But Tesla's technology, its battery technology and scaling advanced battery technology for megapacks, for example, for utilities, the technology behind the Tesla manufacturing process as well as the battery production process, not to mention full self-driving, which is still an impressive piece of technology, but what they've done is they've been able to scale EVs like no other company has been able to do in the world.\n",
            "- And so we now see for sure the moat that Tesla's built is pretty deep, being able to make tow million cars and nobody's even close. So I think it's not a car company. That's for sure. I mean, can you call a Cybertruck like a regular truck? It's not a truck company. So I think it's a tech company.\n",
            "- But it still doesn't change the reality that companies trade based off the perception of its future earnings. And now that perception is changed to a much lower perception of future earnings. And that's why there's so much pressure on the stock. And once again, it could be reversed immediately if Tesla took actions to improve the brand and advertise its products.\n",
            "- Related Quotes\n"
          ]
        }
      ],
      "source": [
        "import requests\n",
        "from bs4 import BeautifulSoup\n",
        "import time\n",
        "# ticker = ['BTC']\n",
        "# def search_for_stock_news_urls(ticker):\n",
        "#     search_url = \"https://www.google.com/search?q=yahoo+finance+{}&tbm=nws\".format(ticker)\n",
        "#     r = requests.get(search_url)\n",
        "#     soup = BeautifulSoup(r.text, 'html.parser')\n",
        "#     atags = soup.find_all('a')\n",
        "#     hrefs = [link['href'] for link in atags]\n",
        "#     return hrefs\n",
        "\n",
        "def scrape_news(url):\n",
        "    try:\n",
        "        # Define headers\n",
        "        headers = {\n",
        "            \"User-Agent\": \"Mozilla/5.0 (Windows NT 10.0; Win64; x64) AppleWebKit/537.36 (KHTML, like Gecko) Chrome/96.0.4664.110 Safari/537.36\"\n",
        "        }\n",
        "\n",
        "        # Send a GET request to the URL with headers\n",
        "        r = requests.get(url, headers=headers)\n",
        "        r.raise_for_status()  # Raise an error for bad status codes\n",
        "\n",
        "        # Parse the HTML content of the page\n",
        "        soup = BeautifulSoup(r.text, 'html.parser')\n",
        "\n",
        "        # Find all paragraphs and filter out messages\n",
        "        paragraphs = soup.find_all('p')\n",
        "        filtered_paragraphs = [p.text.strip() for p in paragraphs if \"Thank you for your patience.\" not in p.text.strip()]\n",
        "\n",
        "        return filtered_paragraphs\n",
        "    except Exception as e:\n",
        "        print(\"Error occurred:\", e)\n",
        "        return None\n",
        "\n",
        "# for item in href:\n",
        "\n",
        "#   while base:\n",
        "#     news = scrape_news(raw_urls)\n",
        "#     if news:\n",
        "#         print(\"News headlines:\")\n",
        "#         for headline in news:\n",
        "#             print(\"-\", headline)\n",
        "#         base = False\n",
        "#     else:\n",
        "#         print(\"No news scraped.\")\n",
        "\n",
        "\n",
        "url = \"https://finance.yahoo.com/video/tesla-ceo-elon-musk-hurting-165507347.html\"\n",
        "base = True; #flag\n",
        "\n",
        "news = scrape_news(url)\n",
        "newsString = ' '.join(news)\n",
        "if news:\n",
        "    print(\"News headlines:\")\n",
        "    for headline in news:\n",
        "\n",
        "        print(\"-\", headline)\n",
        "    base = False\n",
        "else:\n",
        "    print(\"No news scraped.\")\n"
      ]
    },
    {
      "cell_type": "code",
      "source": [
        "from transformers import pipeline\n",
        "\n",
        "def summarize_text(input_text, model_name=\"Ajeevan123/NewsSummarization\", max_chunk_len=510):\n",
        "    summarization_pipeline = pipeline(\"summarization\", model=model_name, tokenizer=model_name)\n",
        "\n",
        "    # Split input text into chunks\n",
        "    input_chunks = input_text\n",
        "\n",
        "    summarized_output = summarization_pipeline(input_chunks, max_length=510, min_length=40, do_sample=False)\n",
        "\n",
        "    # Summarize each chunk and concatenate summaries\n",
        "    # concatenated_summary = \"\"\n",
        "    # for chunk in input_chunks:\n",
        "    #     summarized_output = summarization_pipeline(chunk, max_length=510, min_length=40, do_sample=False)\n",
        "    #     for output in summarized_output:\n",
        "    #         concatenated_summary += output['summary_text'] + \" \"\n",
        "\n",
        "    return summarized_output\n",
        "\n",
        "# Example input text\n",
        "input_text = newsString\n",
        "\n",
        "# Summarize the input text\n",
        "summary = summarize_text(input_text)\n",
        "\n",
        "# Print the summary\n",
        "print(\"Summary:\")\n",
        "print(summary)"
      ],
      "metadata": {
        "colab": {
          "base_uri": "https://localhost:8080/"
        },
        "id": "6c4cM7v6VQKR",
        "outputId": "da91aea3-7358-46b6-8b31-da6ec2957f7f"
      },
      "execution_count": 42,
      "outputs": [
        {
          "output_type": "stream",
          "name": "stderr",
          "text": [
            "Token indices sequence length is longer than the specified maximum sequence length for this model (1507 > 512). Running this sequence through the model will result in indexing errors\n"
          ]
        },
        {
          "output_type": "stream",
          "name": "stdout",
          "text": [
            "Summary:\n",
            "[{'summary_text': 'TSLA has seen share declines of over 33% in 2024 year-to-date, becoming a top laggard in the Magnificent Seven group of tech stocks . the EV maker is fighting an uphill battle as EV demand in the US wanes while the company has resorted to price cuts in Chinese markets . Ross Gerber, a long-time Tesla investor and critic of CEO Elon Musk, discusses the demand headwinds Tesla faces, his own leadership concerns, and how Tesla is being'}]\n"
          ]
        }
      ]
    }
  ]
}