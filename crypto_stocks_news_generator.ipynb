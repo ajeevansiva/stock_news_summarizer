{
  "nbformat": 4,
  "nbformat_minor": 0,
  "metadata": {
    "colab": {
      "provenance": [],
      "gpuType": "T4",
      "authorship_tag": "ABX9TyOj73yITC40CC1Osfme3v0r",
      "include_colab_link": true
    },
    "kernelspec": {
      "name": "python3",
      "display_name": "Python 3"
    },
    "language_info": {
      "name": "python"
    },
    "accelerator": "GPU",
    "widgets": {
      "application/vnd.jupyter.widget-state+json": {
        "bba921d4fcab45f6b6a1864ca151df23": {
          "model_module": "@jupyter-widgets/controls",
          "model_name": "HBoxModel",
          "model_module_version": "1.5.0",
          "state": {
            "_dom_classes": [],
            "_model_module": "@jupyter-widgets/controls",
            "_model_module_version": "1.5.0",
            "_model_name": "HBoxModel",
            "_view_count": null,
            "_view_module": "@jupyter-widgets/controls",
            "_view_module_version": "1.5.0",
            "_view_name": "HBoxView",
            "box_style": "",
            "children": [
              "IPY_MODEL_449045f196184027952ff9947a7ed66f",
              "IPY_MODEL_226c0769102f463dbd431423d3d9cc7b",
              "IPY_MODEL_34e9ed1ffb894a57a9cae6e354a0be56"
            ],
            "layout": "IPY_MODEL_7bdfa7e1885b429cb1e5646fc5e08c55"
          }
        },
        "449045f196184027952ff9947a7ed66f": {
          "model_module": "@jupyter-widgets/controls",
          "model_name": "HTMLModel",
          "model_module_version": "1.5.0",
          "state": {
            "_dom_classes": [],
            "_model_module": "@jupyter-widgets/controls",
            "_model_module_version": "1.5.0",
            "_model_name": "HTMLModel",
            "_view_count": null,
            "_view_module": "@jupyter-widgets/controls",
            "_view_module_version": "1.5.0",
            "_view_name": "HTMLView",
            "description": "",
            "description_tooltip": null,
            "layout": "IPY_MODEL_c2e49c6598944c71b94f4e70221f20dd",
            "placeholder": "​",
            "style": "IPY_MODEL_252cf7e03ae14d299e9c2d47504f9b7e",
            "value": "tokenizer_config.json: 100%"
          }
        },
        "226c0769102f463dbd431423d3d9cc7b": {
          "model_module": "@jupyter-widgets/controls",
          "model_name": "FloatProgressModel",
          "model_module_version": "1.5.0",
          "state": {
            "_dom_classes": [],
            "_model_module": "@jupyter-widgets/controls",
            "_model_module_version": "1.5.0",
            "_model_name": "FloatProgressModel",
            "_view_count": null,
            "_view_module": "@jupyter-widgets/controls",
            "_view_module_version": "1.5.0",
            "_view_name": "ProgressView",
            "bar_style": "success",
            "description": "",
            "description_tooltip": null,
            "layout": "IPY_MODEL_f84cbf374e854db4ab9b8c01a9a1e341",
            "max": 1436,
            "min": 0,
            "orientation": "horizontal",
            "style": "IPY_MODEL_aab5db21c0eb421db2c0ccb2ce78c513",
            "value": 1436
          }
        },
        "34e9ed1ffb894a57a9cae6e354a0be56": {
          "model_module": "@jupyter-widgets/controls",
          "model_name": "HTMLModel",
          "model_module_version": "1.5.0",
          "state": {
            "_dom_classes": [],
            "_model_module": "@jupyter-widgets/controls",
            "_model_module_version": "1.5.0",
            "_model_name": "HTMLModel",
            "_view_count": null,
            "_view_module": "@jupyter-widgets/controls",
            "_view_module_version": "1.5.0",
            "_view_name": "HTMLView",
            "description": "",
            "description_tooltip": null,
            "layout": "IPY_MODEL_7eec85ef24ad4323b7d931a38227a7a7",
            "placeholder": "​",
            "style": "IPY_MODEL_4f73ba628aec49a78d920a5095a672c0",
            "value": " 1.44k/1.44k [00:00&lt;00:00, 50.1kB/s]"
          }
        },
        "7bdfa7e1885b429cb1e5646fc5e08c55": {
          "model_module": "@jupyter-widgets/base",
          "model_name": "LayoutModel",
          "model_module_version": "1.2.0",
          "state": {
            "_model_module": "@jupyter-widgets/base",
            "_model_module_version": "1.2.0",
            "_model_name": "LayoutModel",
            "_view_count": null,
            "_view_module": "@jupyter-widgets/base",
            "_view_module_version": "1.2.0",
            "_view_name": "LayoutView",
            "align_content": null,
            "align_items": null,
            "align_self": null,
            "border": null,
            "bottom": null,
            "display": null,
            "flex": null,
            "flex_flow": null,
            "grid_area": null,
            "grid_auto_columns": null,
            "grid_auto_flow": null,
            "grid_auto_rows": null,
            "grid_column": null,
            "grid_gap": null,
            "grid_row": null,
            "grid_template_areas": null,
            "grid_template_columns": null,
            "grid_template_rows": null,
            "height": null,
            "justify_content": null,
            "justify_items": null,
            "left": null,
            "margin": null,
            "max_height": null,
            "max_width": null,
            "min_height": null,
            "min_width": null,
            "object_fit": null,
            "object_position": null,
            "order": null,
            "overflow": null,
            "overflow_x": null,
            "overflow_y": null,
            "padding": null,
            "right": null,
            "top": null,
            "visibility": null,
            "width": null
          }
        },
        "c2e49c6598944c71b94f4e70221f20dd": {
          "model_module": "@jupyter-widgets/base",
          "model_name": "LayoutModel",
          "model_module_version": "1.2.0",
          "state": {
            "_model_module": "@jupyter-widgets/base",
            "_model_module_version": "1.2.0",
            "_model_name": "LayoutModel",
            "_view_count": null,
            "_view_module": "@jupyter-widgets/base",
            "_view_module_version": "1.2.0",
            "_view_name": "LayoutView",
            "align_content": null,
            "align_items": null,
            "align_self": null,
            "border": null,
            "bottom": null,
            "display": null,
            "flex": null,
            "flex_flow": null,
            "grid_area": null,
            "grid_auto_columns": null,
            "grid_auto_flow": null,
            "grid_auto_rows": null,
            "grid_column": null,
            "grid_gap": null,
            "grid_row": null,
            "grid_template_areas": null,
            "grid_template_columns": null,
            "grid_template_rows": null,
            "height": null,
            "justify_content": null,
            "justify_items": null,
            "left": null,
            "margin": null,
            "max_height": null,
            "max_width": null,
            "min_height": null,
            "min_width": null,
            "object_fit": null,
            "object_position": null,
            "order": null,
            "overflow": null,
            "overflow_x": null,
            "overflow_y": null,
            "padding": null,
            "right": null,
            "top": null,
            "visibility": null,
            "width": null
          }
        },
        "252cf7e03ae14d299e9c2d47504f9b7e": {
          "model_module": "@jupyter-widgets/controls",
          "model_name": "DescriptionStyleModel",
          "model_module_version": "1.5.0",
          "state": {
            "_model_module": "@jupyter-widgets/controls",
            "_model_module_version": "1.5.0",
            "_model_name": "DescriptionStyleModel",
            "_view_count": null,
            "_view_module": "@jupyter-widgets/base",
            "_view_module_version": "1.2.0",
            "_view_name": "StyleView",
            "description_width": ""
          }
        },
        "f84cbf374e854db4ab9b8c01a9a1e341": {
          "model_module": "@jupyter-widgets/base",
          "model_name": "LayoutModel",
          "model_module_version": "1.2.0",
          "state": {
            "_model_module": "@jupyter-widgets/base",
            "_model_module_version": "1.2.0",
            "_model_name": "LayoutModel",
            "_view_count": null,
            "_view_module": "@jupyter-widgets/base",
            "_view_module_version": "1.2.0",
            "_view_name": "LayoutView",
            "align_content": null,
            "align_items": null,
            "align_self": null,
            "border": null,
            "bottom": null,
            "display": null,
            "flex": null,
            "flex_flow": null,
            "grid_area": null,
            "grid_auto_columns": null,
            "grid_auto_flow": null,
            "grid_auto_rows": null,
            "grid_column": null,
            "grid_gap": null,
            "grid_row": null,
            "grid_template_areas": null,
            "grid_template_columns": null,
            "grid_template_rows": null,
            "height": null,
            "justify_content": null,
            "justify_items": null,
            "left": null,
            "margin": null,
            "max_height": null,
            "max_width": null,
            "min_height": null,
            "min_width": null,
            "object_fit": null,
            "object_position": null,
            "order": null,
            "overflow": null,
            "overflow_x": null,
            "overflow_y": null,
            "padding": null,
            "right": null,
            "top": null,
            "visibility": null,
            "width": null
          }
        },
        "aab5db21c0eb421db2c0ccb2ce78c513": {
          "model_module": "@jupyter-widgets/controls",
          "model_name": "ProgressStyleModel",
          "model_module_version": "1.5.0",
          "state": {
            "_model_module": "@jupyter-widgets/controls",
            "_model_module_version": "1.5.0",
            "_model_name": "ProgressStyleModel",
            "_view_count": null,
            "_view_module": "@jupyter-widgets/base",
            "_view_module_version": "1.2.0",
            "_view_name": "StyleView",
            "bar_color": null,
            "description_width": ""
          }
        },
        "7eec85ef24ad4323b7d931a38227a7a7": {
          "model_module": "@jupyter-widgets/base",
          "model_name": "LayoutModel",
          "model_module_version": "1.2.0",
          "state": {
            "_model_module": "@jupyter-widgets/base",
            "_model_module_version": "1.2.0",
            "_model_name": "LayoutModel",
            "_view_count": null,
            "_view_module": "@jupyter-widgets/base",
            "_view_module_version": "1.2.0",
            "_view_name": "LayoutView",
            "align_content": null,
            "align_items": null,
            "align_self": null,
            "border": null,
            "bottom": null,
            "display": null,
            "flex": null,
            "flex_flow": null,
            "grid_area": null,
            "grid_auto_columns": null,
            "grid_auto_flow": null,
            "grid_auto_rows": null,
            "grid_column": null,
            "grid_gap": null,
            "grid_row": null,
            "grid_template_areas": null,
            "grid_template_columns": null,
            "grid_template_rows": null,
            "height": null,
            "justify_content": null,
            "justify_items": null,
            "left": null,
            "margin": null,
            "max_height": null,
            "max_width": null,
            "min_height": null,
            "min_width": null,
            "object_fit": null,
            "object_position": null,
            "order": null,
            "overflow": null,
            "overflow_x": null,
            "overflow_y": null,
            "padding": null,
            "right": null,
            "top": null,
            "visibility": null,
            "width": null
          }
        },
        "4f73ba628aec49a78d920a5095a672c0": {
          "model_module": "@jupyter-widgets/controls",
          "model_name": "DescriptionStyleModel",
          "model_module_version": "1.5.0",
          "state": {
            "_model_module": "@jupyter-widgets/controls",
            "_model_module_version": "1.5.0",
            "_model_name": "DescriptionStyleModel",
            "_view_count": null,
            "_view_module": "@jupyter-widgets/base",
            "_view_module_version": "1.2.0",
            "_view_name": "StyleView",
            "description_width": ""
          }
        },
        "2d7a9365b7314778b6e4924ef0abc2e4": {
          "model_module": "@jupyter-widgets/controls",
          "model_name": "HBoxModel",
          "model_module_version": "1.5.0",
          "state": {
            "_dom_classes": [],
            "_model_module": "@jupyter-widgets/controls",
            "_model_module_version": "1.5.0",
            "_model_name": "HBoxModel",
            "_view_count": null,
            "_view_module": "@jupyter-widgets/controls",
            "_view_module_version": "1.5.0",
            "_view_name": "HBoxView",
            "box_style": "",
            "children": [
              "IPY_MODEL_bb5c3851904d413abadcf1ff0d50c863",
              "IPY_MODEL_97d9492ff11f48749998758ac0899255",
              "IPY_MODEL_e46c4415970a422990047b5b073425b0"
            ],
            "layout": "IPY_MODEL_e7d09f93a8b5430880785e132a8c854d"
          }
        },
        "bb5c3851904d413abadcf1ff0d50c863": {
          "model_module": "@jupyter-widgets/controls",
          "model_name": "HTMLModel",
          "model_module_version": "1.5.0",
          "state": {
            "_dom_classes": [],
            "_model_module": "@jupyter-widgets/controls",
            "_model_module_version": "1.5.0",
            "_model_name": "HTMLModel",
            "_view_count": null,
            "_view_module": "@jupyter-widgets/controls",
            "_view_module_version": "1.5.0",
            "_view_name": "HTMLView",
            "description": "",
            "description_tooltip": null,
            "layout": "IPY_MODEL_2f4c4b1c647a4fe2a09ca0387751e3fc",
            "placeholder": "​",
            "style": "IPY_MODEL_46dea7fd722849dcb07a32f0e721cffe",
            "value": "spiece.model: 100%"
          }
        },
        "97d9492ff11f48749998758ac0899255": {
          "model_module": "@jupyter-widgets/controls",
          "model_name": "FloatProgressModel",
          "model_module_version": "1.5.0",
          "state": {
            "_dom_classes": [],
            "_model_module": "@jupyter-widgets/controls",
            "_model_module_version": "1.5.0",
            "_model_name": "FloatProgressModel",
            "_view_count": null,
            "_view_module": "@jupyter-widgets/controls",
            "_view_module_version": "1.5.0",
            "_view_name": "ProgressView",
            "bar_style": "success",
            "description": "",
            "description_tooltip": null,
            "layout": "IPY_MODEL_85f1b2f670e24b498ae2a8d2aabcb922",
            "max": 1912529,
            "min": 0,
            "orientation": "horizontal",
            "style": "IPY_MODEL_50f13f2ec6d0419982961ed5c004a794",
            "value": 1912529
          }
        },
        "e46c4415970a422990047b5b073425b0": {
          "model_module": "@jupyter-widgets/controls",
          "model_name": "HTMLModel",
          "model_module_version": "1.5.0",
          "state": {
            "_dom_classes": [],
            "_model_module": "@jupyter-widgets/controls",
            "_model_module_version": "1.5.0",
            "_model_name": "HTMLModel",
            "_view_count": null,
            "_view_module": "@jupyter-widgets/controls",
            "_view_module_version": "1.5.0",
            "_view_name": "HTMLView",
            "description": "",
            "description_tooltip": null,
            "layout": "IPY_MODEL_9ca183c54f7347a4a29f24de90b9542a",
            "placeholder": "​",
            "style": "IPY_MODEL_08ec1145c69042f4a48d84120c5c347a",
            "value": " 1.91M/1.91M [00:00&lt;00:00, 19.6MB/s]"
          }
        },
        "e7d09f93a8b5430880785e132a8c854d": {
          "model_module": "@jupyter-widgets/base",
          "model_name": "LayoutModel",
          "model_module_version": "1.2.0",
          "state": {
            "_model_module": "@jupyter-widgets/base",
            "_model_module_version": "1.2.0",
            "_model_name": "LayoutModel",
            "_view_count": null,
            "_view_module": "@jupyter-widgets/base",
            "_view_module_version": "1.2.0",
            "_view_name": "LayoutView",
            "align_content": null,
            "align_items": null,
            "align_self": null,
            "border": null,
            "bottom": null,
            "display": null,
            "flex": null,
            "flex_flow": null,
            "grid_area": null,
            "grid_auto_columns": null,
            "grid_auto_flow": null,
            "grid_auto_rows": null,
            "grid_column": null,
            "grid_gap": null,
            "grid_row": null,
            "grid_template_areas": null,
            "grid_template_columns": null,
            "grid_template_rows": null,
            "height": null,
            "justify_content": null,
            "justify_items": null,
            "left": null,
            "margin": null,
            "max_height": null,
            "max_width": null,
            "min_height": null,
            "min_width": null,
            "object_fit": null,
            "object_position": null,
            "order": null,
            "overflow": null,
            "overflow_x": null,
            "overflow_y": null,
            "padding": null,
            "right": null,
            "top": null,
            "visibility": null,
            "width": null
          }
        },
        "2f4c4b1c647a4fe2a09ca0387751e3fc": {
          "model_module": "@jupyter-widgets/base",
          "model_name": "LayoutModel",
          "model_module_version": "1.2.0",
          "state": {
            "_model_module": "@jupyter-widgets/base",
            "_model_module_version": "1.2.0",
            "_model_name": "LayoutModel",
            "_view_count": null,
            "_view_module": "@jupyter-widgets/base",
            "_view_module_version": "1.2.0",
            "_view_name": "LayoutView",
            "align_content": null,
            "align_items": null,
            "align_self": null,
            "border": null,
            "bottom": null,
            "display": null,
            "flex": null,
            "flex_flow": null,
            "grid_area": null,
            "grid_auto_columns": null,
            "grid_auto_flow": null,
            "grid_auto_rows": null,
            "grid_column": null,
            "grid_gap": null,
            "grid_row": null,
            "grid_template_areas": null,
            "grid_template_columns": null,
            "grid_template_rows": null,
            "height": null,
            "justify_content": null,
            "justify_items": null,
            "left": null,
            "margin": null,
            "max_height": null,
            "max_width": null,
            "min_height": null,
            "min_width": null,
            "object_fit": null,
            "object_position": null,
            "order": null,
            "overflow": null,
            "overflow_x": null,
            "overflow_y": null,
            "padding": null,
            "right": null,
            "top": null,
            "visibility": null,
            "width": null
          }
        },
        "46dea7fd722849dcb07a32f0e721cffe": {
          "model_module": "@jupyter-widgets/controls",
          "model_name": "DescriptionStyleModel",
          "model_module_version": "1.5.0",
          "state": {
            "_model_module": "@jupyter-widgets/controls",
            "_model_module_version": "1.5.0",
            "_model_name": "DescriptionStyleModel",
            "_view_count": null,
            "_view_module": "@jupyter-widgets/base",
            "_view_module_version": "1.2.0",
            "_view_name": "StyleView",
            "description_width": ""
          }
        },
        "85f1b2f670e24b498ae2a8d2aabcb922": {
          "model_module": "@jupyter-widgets/base",
          "model_name": "LayoutModel",
          "model_module_version": "1.2.0",
          "state": {
            "_model_module": "@jupyter-widgets/base",
            "_model_module_version": "1.2.0",
            "_model_name": "LayoutModel",
            "_view_count": null,
            "_view_module": "@jupyter-widgets/base",
            "_view_module_version": "1.2.0",
            "_view_name": "LayoutView",
            "align_content": null,
            "align_items": null,
            "align_self": null,
            "border": null,
            "bottom": null,
            "display": null,
            "flex": null,
            "flex_flow": null,
            "grid_area": null,
            "grid_auto_columns": null,
            "grid_auto_flow": null,
            "grid_auto_rows": null,
            "grid_column": null,
            "grid_gap": null,
            "grid_row": null,
            "grid_template_areas": null,
            "grid_template_columns": null,
            "grid_template_rows": null,
            "height": null,
            "justify_content": null,
            "justify_items": null,
            "left": null,
            "margin": null,
            "max_height": null,
            "max_width": null,
            "min_height": null,
            "min_width": null,
            "object_fit": null,
            "object_position": null,
            "order": null,
            "overflow": null,
            "overflow_x": null,
            "overflow_y": null,
            "padding": null,
            "right": null,
            "top": null,
            "visibility": null,
            "width": null
          }
        },
        "50f13f2ec6d0419982961ed5c004a794": {
          "model_module": "@jupyter-widgets/controls",
          "model_name": "ProgressStyleModel",
          "model_module_version": "1.5.0",
          "state": {
            "_model_module": "@jupyter-widgets/controls",
            "_model_module_version": "1.5.0",
            "_model_name": "ProgressStyleModel",
            "_view_count": null,
            "_view_module": "@jupyter-widgets/base",
            "_view_module_version": "1.2.0",
            "_view_name": "StyleView",
            "bar_color": null,
            "description_width": ""
          }
        },
        "9ca183c54f7347a4a29f24de90b9542a": {
          "model_module": "@jupyter-widgets/base",
          "model_name": "LayoutModel",
          "model_module_version": "1.2.0",
          "state": {
            "_model_module": "@jupyter-widgets/base",
            "_model_module_version": "1.2.0",
            "_model_name": "LayoutModel",
            "_view_count": null,
            "_view_module": "@jupyter-widgets/base",
            "_view_module_version": "1.2.0",
            "_view_name": "LayoutView",
            "align_content": null,
            "align_items": null,
            "align_self": null,
            "border": null,
            "bottom": null,
            "display": null,
            "flex": null,
            "flex_flow": null,
            "grid_area": null,
            "grid_auto_columns": null,
            "grid_auto_flow": null,
            "grid_auto_rows": null,
            "grid_column": null,
            "grid_gap": null,
            "grid_row": null,
            "grid_template_areas": null,
            "grid_template_columns": null,
            "grid_template_rows": null,
            "height": null,
            "justify_content": null,
            "justify_items": null,
            "left": null,
            "margin": null,
            "max_height": null,
            "max_width": null,
            "min_height": null,
            "min_width": null,
            "object_fit": null,
            "object_position": null,
            "order": null,
            "overflow": null,
            "overflow_x": null,
            "overflow_y": null,
            "padding": null,
            "right": null,
            "top": null,
            "visibility": null,
            "width": null
          }
        },
        "08ec1145c69042f4a48d84120c5c347a": {
          "model_module": "@jupyter-widgets/controls",
          "model_name": "DescriptionStyleModel",
          "model_module_version": "1.5.0",
          "state": {
            "_model_module": "@jupyter-widgets/controls",
            "_model_module_version": "1.5.0",
            "_model_name": "DescriptionStyleModel",
            "_view_count": null,
            "_view_module": "@jupyter-widgets/base",
            "_view_module_version": "1.2.0",
            "_view_name": "StyleView",
            "description_width": ""
          }
        },
        "52e1ca3a6af747ada50797ae40eb89e6": {
          "model_module": "@jupyter-widgets/controls",
          "model_name": "HBoxModel",
          "model_module_version": "1.5.0",
          "state": {
            "_dom_classes": [],
            "_model_module": "@jupyter-widgets/controls",
            "_model_module_version": "1.5.0",
            "_model_name": "HBoxModel",
            "_view_count": null,
            "_view_module": "@jupyter-widgets/controls",
            "_view_module_version": "1.5.0",
            "_view_name": "HBoxView",
            "box_style": "",
            "children": [
              "IPY_MODEL_6f1e40e597a14ee2a22f4ac5fc7f346e",
              "IPY_MODEL_0288872847a44ec5aca6f76f385be6eb",
              "IPY_MODEL_46995eb01afd421aa2e0f1163bb0a0f1"
            ],
            "layout": "IPY_MODEL_03b82e018f324277bfe4f461e89b591b"
          }
        },
        "6f1e40e597a14ee2a22f4ac5fc7f346e": {
          "model_module": "@jupyter-widgets/controls",
          "model_name": "HTMLModel",
          "model_module_version": "1.5.0",
          "state": {
            "_dom_classes": [],
            "_model_module": "@jupyter-widgets/controls",
            "_model_module_version": "1.5.0",
            "_model_name": "HTMLModel",
            "_view_count": null,
            "_view_module": "@jupyter-widgets/controls",
            "_view_module_version": "1.5.0",
            "_view_name": "HTMLView",
            "description": "",
            "description_tooltip": null,
            "layout": "IPY_MODEL_d3051947330b45e08d69d5423bbd2add",
            "placeholder": "​",
            "style": "IPY_MODEL_b70e59d44fe9421b93b449a2c7b0edcc",
            "value": "special_tokens_map.json: 100%"
          }
        },
        "0288872847a44ec5aca6f76f385be6eb": {
          "model_module": "@jupyter-widgets/controls",
          "model_name": "FloatProgressModel",
          "model_module_version": "1.5.0",
          "state": {
            "_dom_classes": [],
            "_model_module": "@jupyter-widgets/controls",
            "_model_module_version": "1.5.0",
            "_model_name": "FloatProgressModel",
            "_view_count": null,
            "_view_module": "@jupyter-widgets/controls",
            "_view_module_version": "1.5.0",
            "_view_name": "ProgressView",
            "bar_style": "success",
            "description": "",
            "description_tooltip": null,
            "layout": "IPY_MODEL_cdf94054ecd34526ac2ac6c4d8e260f0",
            "max": 1341,
            "min": 0,
            "orientation": "horizontal",
            "style": "IPY_MODEL_6bf32f817ebc4e3989b8b2a0bec5f9a2",
            "value": 1341
          }
        },
        "46995eb01afd421aa2e0f1163bb0a0f1": {
          "model_module": "@jupyter-widgets/controls",
          "model_name": "HTMLModel",
          "model_module_version": "1.5.0",
          "state": {
            "_dom_classes": [],
            "_model_module": "@jupyter-widgets/controls",
            "_model_module_version": "1.5.0",
            "_model_name": "HTMLModel",
            "_view_count": null,
            "_view_module": "@jupyter-widgets/controls",
            "_view_module_version": "1.5.0",
            "_view_name": "HTMLView",
            "description": "",
            "description_tooltip": null,
            "layout": "IPY_MODEL_0a9f72aa1c7a4410a301ad82d78a6362",
            "placeholder": "​",
            "style": "IPY_MODEL_5faa6fb142004faca5e9f12c35646c9f",
            "value": " 1.34k/1.34k [00:00&lt;00:00, 71.2kB/s]"
          }
        },
        "03b82e018f324277bfe4f461e89b591b": {
          "model_module": "@jupyter-widgets/base",
          "model_name": "LayoutModel",
          "model_module_version": "1.2.0",
          "state": {
            "_model_module": "@jupyter-widgets/base",
            "_model_module_version": "1.2.0",
            "_model_name": "LayoutModel",
            "_view_count": null,
            "_view_module": "@jupyter-widgets/base",
            "_view_module_version": "1.2.0",
            "_view_name": "LayoutView",
            "align_content": null,
            "align_items": null,
            "align_self": null,
            "border": null,
            "bottom": null,
            "display": null,
            "flex": null,
            "flex_flow": null,
            "grid_area": null,
            "grid_auto_columns": null,
            "grid_auto_flow": null,
            "grid_auto_rows": null,
            "grid_column": null,
            "grid_gap": null,
            "grid_row": null,
            "grid_template_areas": null,
            "grid_template_columns": null,
            "grid_template_rows": null,
            "height": null,
            "justify_content": null,
            "justify_items": null,
            "left": null,
            "margin": null,
            "max_height": null,
            "max_width": null,
            "min_height": null,
            "min_width": null,
            "object_fit": null,
            "object_position": null,
            "order": null,
            "overflow": null,
            "overflow_x": null,
            "overflow_y": null,
            "padding": null,
            "right": null,
            "top": null,
            "visibility": null,
            "width": null
          }
        },
        "d3051947330b45e08d69d5423bbd2add": {
          "model_module": "@jupyter-widgets/base",
          "model_name": "LayoutModel",
          "model_module_version": "1.2.0",
          "state": {
            "_model_module": "@jupyter-widgets/base",
            "_model_module_version": "1.2.0",
            "_model_name": "LayoutModel",
            "_view_count": null,
            "_view_module": "@jupyter-widgets/base",
            "_view_module_version": "1.2.0",
            "_view_name": "LayoutView",
            "align_content": null,
            "align_items": null,
            "align_self": null,
            "border": null,
            "bottom": null,
            "display": null,
            "flex": null,
            "flex_flow": null,
            "grid_area": null,
            "grid_auto_columns": null,
            "grid_auto_flow": null,
            "grid_auto_rows": null,
            "grid_column": null,
            "grid_gap": null,
            "grid_row": null,
            "grid_template_areas": null,
            "grid_template_columns": null,
            "grid_template_rows": null,
            "height": null,
            "justify_content": null,
            "justify_items": null,
            "left": null,
            "margin": null,
            "max_height": null,
            "max_width": null,
            "min_height": null,
            "min_width": null,
            "object_fit": null,
            "object_position": null,
            "order": null,
            "overflow": null,
            "overflow_x": null,
            "overflow_y": null,
            "padding": null,
            "right": null,
            "top": null,
            "visibility": null,
            "width": null
          }
        },
        "b70e59d44fe9421b93b449a2c7b0edcc": {
          "model_module": "@jupyter-widgets/controls",
          "model_name": "DescriptionStyleModel",
          "model_module_version": "1.5.0",
          "state": {
            "_model_module": "@jupyter-widgets/controls",
            "_model_module_version": "1.5.0",
            "_model_name": "DescriptionStyleModel",
            "_view_count": null,
            "_view_module": "@jupyter-widgets/base",
            "_view_module_version": "1.2.0",
            "_view_name": "StyleView",
            "description_width": ""
          }
        },
        "cdf94054ecd34526ac2ac6c4d8e260f0": {
          "model_module": "@jupyter-widgets/base",
          "model_name": "LayoutModel",
          "model_module_version": "1.2.0",
          "state": {
            "_model_module": "@jupyter-widgets/base",
            "_model_module_version": "1.2.0",
            "_model_name": "LayoutModel",
            "_view_count": null,
            "_view_module": "@jupyter-widgets/base",
            "_view_module_version": "1.2.0",
            "_view_name": "LayoutView",
            "align_content": null,
            "align_items": null,
            "align_self": null,
            "border": null,
            "bottom": null,
            "display": null,
            "flex": null,
            "flex_flow": null,
            "grid_area": null,
            "grid_auto_columns": null,
            "grid_auto_flow": null,
            "grid_auto_rows": null,
            "grid_column": null,
            "grid_gap": null,
            "grid_row": null,
            "grid_template_areas": null,
            "grid_template_columns": null,
            "grid_template_rows": null,
            "height": null,
            "justify_content": null,
            "justify_items": null,
            "left": null,
            "margin": null,
            "max_height": null,
            "max_width": null,
            "min_height": null,
            "min_width": null,
            "object_fit": null,
            "object_position": null,
            "order": null,
            "overflow": null,
            "overflow_x": null,
            "overflow_y": null,
            "padding": null,
            "right": null,
            "top": null,
            "visibility": null,
            "width": null
          }
        },
        "6bf32f817ebc4e3989b8b2a0bec5f9a2": {
          "model_module": "@jupyter-widgets/controls",
          "model_name": "ProgressStyleModel",
          "model_module_version": "1.5.0",
          "state": {
            "_model_module": "@jupyter-widgets/controls",
            "_model_module_version": "1.5.0",
            "_model_name": "ProgressStyleModel",
            "_view_count": null,
            "_view_module": "@jupyter-widgets/base",
            "_view_module_version": "1.2.0",
            "_view_name": "StyleView",
            "bar_color": null,
            "description_width": ""
          }
        },
        "0a9f72aa1c7a4410a301ad82d78a6362": {
          "model_module": "@jupyter-widgets/base",
          "model_name": "LayoutModel",
          "model_module_version": "1.2.0",
          "state": {
            "_model_module": "@jupyter-widgets/base",
            "_model_module_version": "1.2.0",
            "_model_name": "LayoutModel",
            "_view_count": null,
            "_view_module": "@jupyter-widgets/base",
            "_view_module_version": "1.2.0",
            "_view_name": "LayoutView",
            "align_content": null,
            "align_items": null,
            "align_self": null,
            "border": null,
            "bottom": null,
            "display": null,
            "flex": null,
            "flex_flow": null,
            "grid_area": null,
            "grid_auto_columns": null,
            "grid_auto_flow": null,
            "grid_auto_rows": null,
            "grid_column": null,
            "grid_gap": null,
            "grid_row": null,
            "grid_template_areas": null,
            "grid_template_columns": null,
            "grid_template_rows": null,
            "height": null,
            "justify_content": null,
            "justify_items": null,
            "left": null,
            "margin": null,
            "max_height": null,
            "max_width": null,
            "min_height": null,
            "min_width": null,
            "object_fit": null,
            "object_position": null,
            "order": null,
            "overflow": null,
            "overflow_x": null,
            "overflow_y": null,
            "padding": null,
            "right": null,
            "top": null,
            "visibility": null,
            "width": null
          }
        },
        "5faa6fb142004faca5e9f12c35646c9f": {
          "model_module": "@jupyter-widgets/controls",
          "model_name": "DescriptionStyleModel",
          "model_module_version": "1.5.0",
          "state": {
            "_model_module": "@jupyter-widgets/controls",
            "_model_module_version": "1.5.0",
            "_model_name": "DescriptionStyleModel",
            "_view_count": null,
            "_view_module": "@jupyter-widgets/base",
            "_view_module_version": "1.2.0",
            "_view_name": "StyleView",
            "description_width": ""
          }
        },
        "a95024e0185d47b3aebe745f6172ba9e": {
          "model_module": "@jupyter-widgets/controls",
          "model_name": "HBoxModel",
          "model_module_version": "1.5.0",
          "state": {
            "_dom_classes": [],
            "_model_module": "@jupyter-widgets/controls",
            "_model_module_version": "1.5.0",
            "_model_name": "HBoxModel",
            "_view_count": null,
            "_view_module": "@jupyter-widgets/controls",
            "_view_module_version": "1.5.0",
            "_view_name": "HBoxView",
            "box_style": "",
            "children": [
              "IPY_MODEL_a07dbbc6f50a48f2b0b4039202942404",
              "IPY_MODEL_077388aa50de4c46aa7640575f625437",
              "IPY_MODEL_1adc2c0aa54646599d3456a3e41ea770"
            ],
            "layout": "IPY_MODEL_800ba53ca60a4b7ca7f0406d581b5612"
          }
        },
        "a07dbbc6f50a48f2b0b4039202942404": {
          "model_module": "@jupyter-widgets/controls",
          "model_name": "HTMLModel",
          "model_module_version": "1.5.0",
          "state": {
            "_dom_classes": [],
            "_model_module": "@jupyter-widgets/controls",
            "_model_module_version": "1.5.0",
            "_model_name": "HTMLModel",
            "_view_count": null,
            "_view_module": "@jupyter-widgets/controls",
            "_view_module_version": "1.5.0",
            "_view_name": "HTMLView",
            "description": "",
            "description_tooltip": null,
            "layout": "IPY_MODEL_4f040b64e068464aadbc9e27065d5504",
            "placeholder": "​",
            "style": "IPY_MODEL_cbeca477ba4940e287c2e81dc0669c84",
            "value": "config.json: 100%"
          }
        },
        "077388aa50de4c46aa7640575f625437": {
          "model_module": "@jupyter-widgets/controls",
          "model_name": "FloatProgressModel",
          "model_module_version": "1.5.0",
          "state": {
            "_dom_classes": [],
            "_model_module": "@jupyter-widgets/controls",
            "_model_module_version": "1.5.0",
            "_model_name": "FloatProgressModel",
            "_view_count": null,
            "_view_module": "@jupyter-widgets/controls",
            "_view_module_version": "1.5.0",
            "_view_name": "ProgressView",
            "bar_style": "success",
            "description": "",
            "description_tooltip": null,
            "layout": "IPY_MODEL_61cd9996c31b4c21af989cc57a353118",
            "max": 1274,
            "min": 0,
            "orientation": "horizontal",
            "style": "IPY_MODEL_caf6493453e745e09182ce0beda9f793",
            "value": 1274
          }
        },
        "1adc2c0aa54646599d3456a3e41ea770": {
          "model_module": "@jupyter-widgets/controls",
          "model_name": "HTMLModel",
          "model_module_version": "1.5.0",
          "state": {
            "_dom_classes": [],
            "_model_module": "@jupyter-widgets/controls",
            "_model_module_version": "1.5.0",
            "_model_name": "HTMLModel",
            "_view_count": null,
            "_view_module": "@jupyter-widgets/controls",
            "_view_module_version": "1.5.0",
            "_view_name": "HTMLView",
            "description": "",
            "description_tooltip": null,
            "layout": "IPY_MODEL_47021730b9d84976b25e822627bee843",
            "placeholder": "​",
            "style": "IPY_MODEL_f5ccf6d0f26f4ea2a747be450fa1b7d1",
            "value": " 1.27k/1.27k [00:00&lt;00:00, 99.8kB/s]"
          }
        },
        "800ba53ca60a4b7ca7f0406d581b5612": {
          "model_module": "@jupyter-widgets/base",
          "model_name": "LayoutModel",
          "model_module_version": "1.2.0",
          "state": {
            "_model_module": "@jupyter-widgets/base",
            "_model_module_version": "1.2.0",
            "_model_name": "LayoutModel",
            "_view_count": null,
            "_view_module": "@jupyter-widgets/base",
            "_view_module_version": "1.2.0",
            "_view_name": "LayoutView",
            "align_content": null,
            "align_items": null,
            "align_self": null,
            "border": null,
            "bottom": null,
            "display": null,
            "flex": null,
            "flex_flow": null,
            "grid_area": null,
            "grid_auto_columns": null,
            "grid_auto_flow": null,
            "grid_auto_rows": null,
            "grid_column": null,
            "grid_gap": null,
            "grid_row": null,
            "grid_template_areas": null,
            "grid_template_columns": null,
            "grid_template_rows": null,
            "height": null,
            "justify_content": null,
            "justify_items": null,
            "left": null,
            "margin": null,
            "max_height": null,
            "max_width": null,
            "min_height": null,
            "min_width": null,
            "object_fit": null,
            "object_position": null,
            "order": null,
            "overflow": null,
            "overflow_x": null,
            "overflow_y": null,
            "padding": null,
            "right": null,
            "top": null,
            "visibility": null,
            "width": null
          }
        },
        "4f040b64e068464aadbc9e27065d5504": {
          "model_module": "@jupyter-widgets/base",
          "model_name": "LayoutModel",
          "model_module_version": "1.2.0",
          "state": {
            "_model_module": "@jupyter-widgets/base",
            "_model_module_version": "1.2.0",
            "_model_name": "LayoutModel",
            "_view_count": null,
            "_view_module": "@jupyter-widgets/base",
            "_view_module_version": "1.2.0",
            "_view_name": "LayoutView",
            "align_content": null,
            "align_items": null,
            "align_self": null,
            "border": null,
            "bottom": null,
            "display": null,
            "flex": null,
            "flex_flow": null,
            "grid_area": null,
            "grid_auto_columns": null,
            "grid_auto_flow": null,
            "grid_auto_rows": null,
            "grid_column": null,
            "grid_gap": null,
            "grid_row": null,
            "grid_template_areas": null,
            "grid_template_columns": null,
            "grid_template_rows": null,
            "height": null,
            "justify_content": null,
            "justify_items": null,
            "left": null,
            "margin": null,
            "max_height": null,
            "max_width": null,
            "min_height": null,
            "min_width": null,
            "object_fit": null,
            "object_position": null,
            "order": null,
            "overflow": null,
            "overflow_x": null,
            "overflow_y": null,
            "padding": null,
            "right": null,
            "top": null,
            "visibility": null,
            "width": null
          }
        },
        "cbeca477ba4940e287c2e81dc0669c84": {
          "model_module": "@jupyter-widgets/controls",
          "model_name": "DescriptionStyleModel",
          "model_module_version": "1.5.0",
          "state": {
            "_model_module": "@jupyter-widgets/controls",
            "_model_module_version": "1.5.0",
            "_model_name": "DescriptionStyleModel",
            "_view_count": null,
            "_view_module": "@jupyter-widgets/base",
            "_view_module_version": "1.2.0",
            "_view_name": "StyleView",
            "description_width": ""
          }
        },
        "61cd9996c31b4c21af989cc57a353118": {
          "model_module": "@jupyter-widgets/base",
          "model_name": "LayoutModel",
          "model_module_version": "1.2.0",
          "state": {
            "_model_module": "@jupyter-widgets/base",
            "_model_module_version": "1.2.0",
            "_model_name": "LayoutModel",
            "_view_count": null,
            "_view_module": "@jupyter-widgets/base",
            "_view_module_version": "1.2.0",
            "_view_name": "LayoutView",
            "align_content": null,
            "align_items": null,
            "align_self": null,
            "border": null,
            "bottom": null,
            "display": null,
            "flex": null,
            "flex_flow": null,
            "grid_area": null,
            "grid_auto_columns": null,
            "grid_auto_flow": null,
            "grid_auto_rows": null,
            "grid_column": null,
            "grid_gap": null,
            "grid_row": null,
            "grid_template_areas": null,
            "grid_template_columns": null,
            "grid_template_rows": null,
            "height": null,
            "justify_content": null,
            "justify_items": null,
            "left": null,
            "margin": null,
            "max_height": null,
            "max_width": null,
            "min_height": null,
            "min_width": null,
            "object_fit": null,
            "object_position": null,
            "order": null,
            "overflow": null,
            "overflow_x": null,
            "overflow_y": null,
            "padding": null,
            "right": null,
            "top": null,
            "visibility": null,
            "width": null
          }
        },
        "caf6493453e745e09182ce0beda9f793": {
          "model_module": "@jupyter-widgets/controls",
          "model_name": "ProgressStyleModel",
          "model_module_version": "1.5.0",
          "state": {
            "_model_module": "@jupyter-widgets/controls",
            "_model_module_version": "1.5.0",
            "_model_name": "ProgressStyleModel",
            "_view_count": null,
            "_view_module": "@jupyter-widgets/base",
            "_view_module_version": "1.2.0",
            "_view_name": "StyleView",
            "bar_color": null,
            "description_width": ""
          }
        },
        "47021730b9d84976b25e822627bee843": {
          "model_module": "@jupyter-widgets/base",
          "model_name": "LayoutModel",
          "model_module_version": "1.2.0",
          "state": {
            "_model_module": "@jupyter-widgets/base",
            "_model_module_version": "1.2.0",
            "_model_name": "LayoutModel",
            "_view_count": null,
            "_view_module": "@jupyter-widgets/base",
            "_view_module_version": "1.2.0",
            "_view_name": "LayoutView",
            "align_content": null,
            "align_items": null,
            "align_self": null,
            "border": null,
            "bottom": null,
            "display": null,
            "flex": null,
            "flex_flow": null,
            "grid_area": null,
            "grid_auto_columns": null,
            "grid_auto_flow": null,
            "grid_auto_rows": null,
            "grid_column": null,
            "grid_gap": null,
            "grid_row": null,
            "grid_template_areas": null,
            "grid_template_columns": null,
            "grid_template_rows": null,
            "height": null,
            "justify_content": null,
            "justify_items": null,
            "left": null,
            "margin": null,
            "max_height": null,
            "max_width": null,
            "min_height": null,
            "min_width": null,
            "object_fit": null,
            "object_position": null,
            "order": null,
            "overflow": null,
            "overflow_x": null,
            "overflow_y": null,
            "padding": null,
            "right": null,
            "top": null,
            "visibility": null,
            "width": null
          }
        },
        "f5ccf6d0f26f4ea2a747be450fa1b7d1": {
          "model_module": "@jupyter-widgets/controls",
          "model_name": "DescriptionStyleModel",
          "model_module_version": "1.5.0",
          "state": {
            "_model_module": "@jupyter-widgets/controls",
            "_model_module_version": "1.5.0",
            "_model_name": "DescriptionStyleModel",
            "_view_count": null,
            "_view_module": "@jupyter-widgets/base",
            "_view_module_version": "1.2.0",
            "_view_name": "StyleView",
            "description_width": ""
          }
        },
        "7e37243bfb1341269efd15a6ee69ef41": {
          "model_module": "@jupyter-widgets/controls",
          "model_name": "HBoxModel",
          "model_module_version": "1.5.0",
          "state": {
            "_dom_classes": [],
            "_model_module": "@jupyter-widgets/controls",
            "_model_module_version": "1.5.0",
            "_model_name": "HBoxModel",
            "_view_count": null,
            "_view_module": "@jupyter-widgets/controls",
            "_view_module_version": "1.5.0",
            "_view_name": "HBoxView",
            "box_style": "",
            "children": [
              "IPY_MODEL_225e52aa0bf1457799054768e3eed9bc",
              "IPY_MODEL_bffbdfbeea274fe6b6ebcb3ddc88b2c1",
              "IPY_MODEL_c32518ba9e554da7b7abd13edb7b5ff9"
            ],
            "layout": "IPY_MODEL_e08ef725fd1d4481a0bbc957422df5e9"
          }
        },
        "225e52aa0bf1457799054768e3eed9bc": {
          "model_module": "@jupyter-widgets/controls",
          "model_name": "HTMLModel",
          "model_module_version": "1.5.0",
          "state": {
            "_dom_classes": [],
            "_model_module": "@jupyter-widgets/controls",
            "_model_module_version": "1.5.0",
            "_model_name": "HTMLModel",
            "_view_count": null,
            "_view_module": "@jupyter-widgets/controls",
            "_view_module_version": "1.5.0",
            "_view_name": "HTMLView",
            "description": "",
            "description_tooltip": null,
            "layout": "IPY_MODEL_f6a41d1c2b62464da59f34ca613f4aaa",
            "placeholder": "​",
            "style": "IPY_MODEL_f8eb2f185c704cc589d73a15f38eeb9d",
            "value": "model.safetensors: 100%"
          }
        },
        "bffbdfbeea274fe6b6ebcb3ddc88b2c1": {
          "model_module": "@jupyter-widgets/controls",
          "model_name": "FloatProgressModel",
          "model_module_version": "1.5.0",
          "state": {
            "_dom_classes": [],
            "_model_module": "@jupyter-widgets/controls",
            "_model_module_version": "1.5.0",
            "_model_name": "FloatProgressModel",
            "_view_count": null,
            "_view_module": "@jupyter-widgets/controls",
            "_view_module_version": "1.5.0",
            "_view_name": "ProgressView",
            "bar_style": "success",
            "description": "",
            "description_tooltip": null,
            "layout": "IPY_MODEL_d3734d4d012c47ca87d402accf54ef53",
            "max": 2275264008,
            "min": 0,
            "orientation": "horizontal",
            "style": "IPY_MODEL_a4d55a711e6d4537aa640fd66e709b98",
            "value": 2275264008
          }
        },
        "c32518ba9e554da7b7abd13edb7b5ff9": {
          "model_module": "@jupyter-widgets/controls",
          "model_name": "HTMLModel",
          "model_module_version": "1.5.0",
          "state": {
            "_dom_classes": [],
            "_model_module": "@jupyter-widgets/controls",
            "_model_module_version": "1.5.0",
            "_model_name": "HTMLModel",
            "_view_count": null,
            "_view_module": "@jupyter-widgets/controls",
            "_view_module_version": "1.5.0",
            "_view_name": "HTMLView",
            "description": "",
            "description_tooltip": null,
            "layout": "IPY_MODEL_af28b6b6942141e78793317f661f77d2",
            "placeholder": "​",
            "style": "IPY_MODEL_66be0b3d185e4b41b54aa1fb8bc297e5",
            "value": " 2.28G/2.28G [00:20&lt;00:00, 67.0MB/s]"
          }
        },
        "e08ef725fd1d4481a0bbc957422df5e9": {
          "model_module": "@jupyter-widgets/base",
          "model_name": "LayoutModel",
          "model_module_version": "1.2.0",
          "state": {
            "_model_module": "@jupyter-widgets/base",
            "_model_module_version": "1.2.0",
            "_model_name": "LayoutModel",
            "_view_count": null,
            "_view_module": "@jupyter-widgets/base",
            "_view_module_version": "1.2.0",
            "_view_name": "LayoutView",
            "align_content": null,
            "align_items": null,
            "align_self": null,
            "border": null,
            "bottom": null,
            "display": null,
            "flex": null,
            "flex_flow": null,
            "grid_area": null,
            "grid_auto_columns": null,
            "grid_auto_flow": null,
            "grid_auto_rows": null,
            "grid_column": null,
            "grid_gap": null,
            "grid_row": null,
            "grid_template_areas": null,
            "grid_template_columns": null,
            "grid_template_rows": null,
            "height": null,
            "justify_content": null,
            "justify_items": null,
            "left": null,
            "margin": null,
            "max_height": null,
            "max_width": null,
            "min_height": null,
            "min_width": null,
            "object_fit": null,
            "object_position": null,
            "order": null,
            "overflow": null,
            "overflow_x": null,
            "overflow_y": null,
            "padding": null,
            "right": null,
            "top": null,
            "visibility": null,
            "width": null
          }
        },
        "f6a41d1c2b62464da59f34ca613f4aaa": {
          "model_module": "@jupyter-widgets/base",
          "model_name": "LayoutModel",
          "model_module_version": "1.2.0",
          "state": {
            "_model_module": "@jupyter-widgets/base",
            "_model_module_version": "1.2.0",
            "_model_name": "LayoutModel",
            "_view_count": null,
            "_view_module": "@jupyter-widgets/base",
            "_view_module_version": "1.2.0",
            "_view_name": "LayoutView",
            "align_content": null,
            "align_items": null,
            "align_self": null,
            "border": null,
            "bottom": null,
            "display": null,
            "flex": null,
            "flex_flow": null,
            "grid_area": null,
            "grid_auto_columns": null,
            "grid_auto_flow": null,
            "grid_auto_rows": null,
            "grid_column": null,
            "grid_gap": null,
            "grid_row": null,
            "grid_template_areas": null,
            "grid_template_columns": null,
            "grid_template_rows": null,
            "height": null,
            "justify_content": null,
            "justify_items": null,
            "left": null,
            "margin": null,
            "max_height": null,
            "max_width": null,
            "min_height": null,
            "min_width": null,
            "object_fit": null,
            "object_position": null,
            "order": null,
            "overflow": null,
            "overflow_x": null,
            "overflow_y": null,
            "padding": null,
            "right": null,
            "top": null,
            "visibility": null,
            "width": null
          }
        },
        "f8eb2f185c704cc589d73a15f38eeb9d": {
          "model_module": "@jupyter-widgets/controls",
          "model_name": "DescriptionStyleModel",
          "model_module_version": "1.5.0",
          "state": {
            "_model_module": "@jupyter-widgets/controls",
            "_model_module_version": "1.5.0",
            "_model_name": "DescriptionStyleModel",
            "_view_count": null,
            "_view_module": "@jupyter-widgets/base",
            "_view_module_version": "1.2.0",
            "_view_name": "StyleView",
            "description_width": ""
          }
        },
        "d3734d4d012c47ca87d402accf54ef53": {
          "model_module": "@jupyter-widgets/base",
          "model_name": "LayoutModel",
          "model_module_version": "1.2.0",
          "state": {
            "_model_module": "@jupyter-widgets/base",
            "_model_module_version": "1.2.0",
            "_model_name": "LayoutModel",
            "_view_count": null,
            "_view_module": "@jupyter-widgets/base",
            "_view_module_version": "1.2.0",
            "_view_name": "LayoutView",
            "align_content": null,
            "align_items": null,
            "align_self": null,
            "border": null,
            "bottom": null,
            "display": null,
            "flex": null,
            "flex_flow": null,
            "grid_area": null,
            "grid_auto_columns": null,
            "grid_auto_flow": null,
            "grid_auto_rows": null,
            "grid_column": null,
            "grid_gap": null,
            "grid_row": null,
            "grid_template_areas": null,
            "grid_template_columns": null,
            "grid_template_rows": null,
            "height": null,
            "justify_content": null,
            "justify_items": null,
            "left": null,
            "margin": null,
            "max_height": null,
            "max_width": null,
            "min_height": null,
            "min_width": null,
            "object_fit": null,
            "object_position": null,
            "order": null,
            "overflow": null,
            "overflow_x": null,
            "overflow_y": null,
            "padding": null,
            "right": null,
            "top": null,
            "visibility": null,
            "width": null
          }
        },
        "a4d55a711e6d4537aa640fd66e709b98": {
          "model_module": "@jupyter-widgets/controls",
          "model_name": "ProgressStyleModel",
          "model_module_version": "1.5.0",
          "state": {
            "_model_module": "@jupyter-widgets/controls",
            "_model_module_version": "1.5.0",
            "_model_name": "ProgressStyleModel",
            "_view_count": null,
            "_view_module": "@jupyter-widgets/base",
            "_view_module_version": "1.2.0",
            "_view_name": "StyleView",
            "bar_color": null,
            "description_width": ""
          }
        },
        "af28b6b6942141e78793317f661f77d2": {
          "model_module": "@jupyter-widgets/base",
          "model_name": "LayoutModel",
          "model_module_version": "1.2.0",
          "state": {
            "_model_module": "@jupyter-widgets/base",
            "_model_module_version": "1.2.0",
            "_model_name": "LayoutModel",
            "_view_count": null,
            "_view_module": "@jupyter-widgets/base",
            "_view_module_version": "1.2.0",
            "_view_name": "LayoutView",
            "align_content": null,
            "align_items": null,
            "align_self": null,
            "border": null,
            "bottom": null,
            "display": null,
            "flex": null,
            "flex_flow": null,
            "grid_area": null,
            "grid_auto_columns": null,
            "grid_auto_flow": null,
            "grid_auto_rows": null,
            "grid_column": null,
            "grid_gap": null,
            "grid_row": null,
            "grid_template_areas": null,
            "grid_template_columns": null,
            "grid_template_rows": null,
            "height": null,
            "justify_content": null,
            "justify_items": null,
            "left": null,
            "margin": null,
            "max_height": null,
            "max_width": null,
            "min_height": null,
            "min_width": null,
            "object_fit": null,
            "object_position": null,
            "order": null,
            "overflow": null,
            "overflow_x": null,
            "overflow_y": null,
            "padding": null,
            "right": null,
            "top": null,
            "visibility": null,
            "width": null
          }
        },
        "66be0b3d185e4b41b54aa1fb8bc297e5": {
          "model_module": "@jupyter-widgets/controls",
          "model_name": "DescriptionStyleModel",
          "model_module_version": "1.5.0",
          "state": {
            "_model_module": "@jupyter-widgets/controls",
            "_model_module_version": "1.5.0",
            "_model_name": "DescriptionStyleModel",
            "_view_count": null,
            "_view_module": "@jupyter-widgets/base",
            "_view_module_version": "1.2.0",
            "_view_name": "StyleView",
            "description_width": ""
          }
        },
        "4a2f13345a344133805bff7bfe851dd7": {
          "model_module": "@jupyter-widgets/controls",
          "model_name": "HBoxModel",
          "model_module_version": "1.5.0",
          "state": {
            "_dom_classes": [],
            "_model_module": "@jupyter-widgets/controls",
            "_model_module_version": "1.5.0",
            "_model_name": "HBoxModel",
            "_view_count": null,
            "_view_module": "@jupyter-widgets/controls",
            "_view_module_version": "1.5.0",
            "_view_name": "HBoxView",
            "box_style": "",
            "children": [
              "IPY_MODEL_edfaadf06d9348c4a12371b177129155",
              "IPY_MODEL_e8286643574346d6a68d21921423a010",
              "IPY_MODEL_a6e590646a894c6eaf889b6768c31c66"
            ],
            "layout": "IPY_MODEL_cf44ff054956494a953994f271fa804b"
          }
        },
        "edfaadf06d9348c4a12371b177129155": {
          "model_module": "@jupyter-widgets/controls",
          "model_name": "HTMLModel",
          "model_module_version": "1.5.0",
          "state": {
            "_dom_classes": [],
            "_model_module": "@jupyter-widgets/controls",
            "_model_module_version": "1.5.0",
            "_model_name": "HTMLModel",
            "_view_count": null,
            "_view_module": "@jupyter-widgets/controls",
            "_view_module_version": "1.5.0",
            "_view_name": "HTMLView",
            "description": "",
            "description_tooltip": null,
            "layout": "IPY_MODEL_71137e1f11f24ed3a2f1ae3c72c43be1",
            "placeholder": "​",
            "style": "IPY_MODEL_4875a4880400465c9207fc9d06ca0fb9",
            "value": "config.json: 100%"
          }
        },
        "e8286643574346d6a68d21921423a010": {
          "model_module": "@jupyter-widgets/controls",
          "model_name": "FloatProgressModel",
          "model_module_version": "1.5.0",
          "state": {
            "_dom_classes": [],
            "_model_module": "@jupyter-widgets/controls",
            "_model_module_version": "1.5.0",
            "_model_name": "FloatProgressModel",
            "_view_count": null,
            "_view_module": "@jupyter-widgets/controls",
            "_view_module_version": "1.5.0",
            "_view_name": "ProgressView",
            "bar_style": "success",
            "description": "",
            "description_tooltip": null,
            "layout": "IPY_MODEL_90358a9b30f4454d9819b542fb6ec723",
            "max": 629,
            "min": 0,
            "orientation": "horizontal",
            "style": "IPY_MODEL_c5ec7dae43544fd2b16dca09df973c4c",
            "value": 629
          }
        },
        "a6e590646a894c6eaf889b6768c31c66": {
          "model_module": "@jupyter-widgets/controls",
          "model_name": "HTMLModel",
          "model_module_version": "1.5.0",
          "state": {
            "_dom_classes": [],
            "_model_module": "@jupyter-widgets/controls",
            "_model_module_version": "1.5.0",
            "_model_name": "HTMLModel",
            "_view_count": null,
            "_view_module": "@jupyter-widgets/controls",
            "_view_module_version": "1.5.0",
            "_view_name": "HTMLView",
            "description": "",
            "description_tooltip": null,
            "layout": "IPY_MODEL_5f1fe968e3954ed587b9fe3ca8df6bd0",
            "placeholder": "​",
            "style": "IPY_MODEL_017cb3f76e4b48658cacf7f87db3f665",
            "value": " 629/629 [00:00&lt;00:00, 31.4kB/s]"
          }
        },
        "cf44ff054956494a953994f271fa804b": {
          "model_module": "@jupyter-widgets/base",
          "model_name": "LayoutModel",
          "model_module_version": "1.2.0",
          "state": {
            "_model_module": "@jupyter-widgets/base",
            "_model_module_version": "1.2.0",
            "_model_name": "LayoutModel",
            "_view_count": null,
            "_view_module": "@jupyter-widgets/base",
            "_view_module_version": "1.2.0",
            "_view_name": "LayoutView",
            "align_content": null,
            "align_items": null,
            "align_self": null,
            "border": null,
            "bottom": null,
            "display": null,
            "flex": null,
            "flex_flow": null,
            "grid_area": null,
            "grid_auto_columns": null,
            "grid_auto_flow": null,
            "grid_auto_rows": null,
            "grid_column": null,
            "grid_gap": null,
            "grid_row": null,
            "grid_template_areas": null,
            "grid_template_columns": null,
            "grid_template_rows": null,
            "height": null,
            "justify_content": null,
            "justify_items": null,
            "left": null,
            "margin": null,
            "max_height": null,
            "max_width": null,
            "min_height": null,
            "min_width": null,
            "object_fit": null,
            "object_position": null,
            "order": null,
            "overflow": null,
            "overflow_x": null,
            "overflow_y": null,
            "padding": null,
            "right": null,
            "top": null,
            "visibility": null,
            "width": null
          }
        },
        "71137e1f11f24ed3a2f1ae3c72c43be1": {
          "model_module": "@jupyter-widgets/base",
          "model_name": "LayoutModel",
          "model_module_version": "1.2.0",
          "state": {
            "_model_module": "@jupyter-widgets/base",
            "_model_module_version": "1.2.0",
            "_model_name": "LayoutModel",
            "_view_count": null,
            "_view_module": "@jupyter-widgets/base",
            "_view_module_version": "1.2.0",
            "_view_name": "LayoutView",
            "align_content": null,
            "align_items": null,
            "align_self": null,
            "border": null,
            "bottom": null,
            "display": null,
            "flex": null,
            "flex_flow": null,
            "grid_area": null,
            "grid_auto_columns": null,
            "grid_auto_flow": null,
            "grid_auto_rows": null,
            "grid_column": null,
            "grid_gap": null,
            "grid_row": null,
            "grid_template_areas": null,
            "grid_template_columns": null,
            "grid_template_rows": null,
            "height": null,
            "justify_content": null,
            "justify_items": null,
            "left": null,
            "margin": null,
            "max_height": null,
            "max_width": null,
            "min_height": null,
            "min_width": null,
            "object_fit": null,
            "object_position": null,
            "order": null,
            "overflow": null,
            "overflow_x": null,
            "overflow_y": null,
            "padding": null,
            "right": null,
            "top": null,
            "visibility": null,
            "width": null
          }
        },
        "4875a4880400465c9207fc9d06ca0fb9": {
          "model_module": "@jupyter-widgets/controls",
          "model_name": "DescriptionStyleModel",
          "model_module_version": "1.5.0",
          "state": {
            "_model_module": "@jupyter-widgets/controls",
            "_model_module_version": "1.5.0",
            "_model_name": "DescriptionStyleModel",
            "_view_count": null,
            "_view_module": "@jupyter-widgets/base",
            "_view_module_version": "1.2.0",
            "_view_name": "StyleView",
            "description_width": ""
          }
        },
        "90358a9b30f4454d9819b542fb6ec723": {
          "model_module": "@jupyter-widgets/base",
          "model_name": "LayoutModel",
          "model_module_version": "1.2.0",
          "state": {
            "_model_module": "@jupyter-widgets/base",
            "_model_module_version": "1.2.0",
            "_model_name": "LayoutModel",
            "_view_count": null,
            "_view_module": "@jupyter-widgets/base",
            "_view_module_version": "1.2.0",
            "_view_name": "LayoutView",
            "align_content": null,
            "align_items": null,
            "align_self": null,
            "border": null,
            "bottom": null,
            "display": null,
            "flex": null,
            "flex_flow": null,
            "grid_area": null,
            "grid_auto_columns": null,
            "grid_auto_flow": null,
            "grid_auto_rows": null,
            "grid_column": null,
            "grid_gap": null,
            "grid_row": null,
            "grid_template_areas": null,
            "grid_template_columns": null,
            "grid_template_rows": null,
            "height": null,
            "justify_content": null,
            "justify_items": null,
            "left": null,
            "margin": null,
            "max_height": null,
            "max_width": null,
            "min_height": null,
            "min_width": null,
            "object_fit": null,
            "object_position": null,
            "order": null,
            "overflow": null,
            "overflow_x": null,
            "overflow_y": null,
            "padding": null,
            "right": null,
            "top": null,
            "visibility": null,
            "width": null
          }
        },
        "c5ec7dae43544fd2b16dca09df973c4c": {
          "model_module": "@jupyter-widgets/controls",
          "model_name": "ProgressStyleModel",
          "model_module_version": "1.5.0",
          "state": {
            "_model_module": "@jupyter-widgets/controls",
            "_model_module_version": "1.5.0",
            "_model_name": "ProgressStyleModel",
            "_view_count": null,
            "_view_module": "@jupyter-widgets/base",
            "_view_module_version": "1.2.0",
            "_view_name": "StyleView",
            "bar_color": null,
            "description_width": ""
          }
        },
        "5f1fe968e3954ed587b9fe3ca8df6bd0": {
          "model_module": "@jupyter-widgets/base",
          "model_name": "LayoutModel",
          "model_module_version": "1.2.0",
          "state": {
            "_model_module": "@jupyter-widgets/base",
            "_model_module_version": "1.2.0",
            "_model_name": "LayoutModel",
            "_view_count": null,
            "_view_module": "@jupyter-widgets/base",
            "_view_module_version": "1.2.0",
            "_view_name": "LayoutView",
            "align_content": null,
            "align_items": null,
            "align_self": null,
            "border": null,
            "bottom": null,
            "display": null,
            "flex": null,
            "flex_flow": null,
            "grid_area": null,
            "grid_auto_columns": null,
            "grid_auto_flow": null,
            "grid_auto_rows": null,
            "grid_column": null,
            "grid_gap": null,
            "grid_row": null,
            "grid_template_areas": null,
            "grid_template_columns": null,
            "grid_template_rows": null,
            "height": null,
            "justify_content": null,
            "justify_items": null,
            "left": null,
            "margin": null,
            "max_height": null,
            "max_width": null,
            "min_height": null,
            "min_width": null,
            "object_fit": null,
            "object_position": null,
            "order": null,
            "overflow": null,
            "overflow_x": null,
            "overflow_y": null,
            "padding": null,
            "right": null,
            "top": null,
            "visibility": null,
            "width": null
          }
        },
        "017cb3f76e4b48658cacf7f87db3f665": {
          "model_module": "@jupyter-widgets/controls",
          "model_name": "DescriptionStyleModel",
          "model_module_version": "1.5.0",
          "state": {
            "_model_module": "@jupyter-widgets/controls",
            "_model_module_version": "1.5.0",
            "_model_name": "DescriptionStyleModel",
            "_view_count": null,
            "_view_module": "@jupyter-widgets/base",
            "_view_module_version": "1.2.0",
            "_view_name": "StyleView",
            "description_width": ""
          }
        },
        "a2e41528c8be47c6816c0e1a46fcf641": {
          "model_module": "@jupyter-widgets/controls",
          "model_name": "HBoxModel",
          "model_module_version": "1.5.0",
          "state": {
            "_dom_classes": [],
            "_model_module": "@jupyter-widgets/controls",
            "_model_module_version": "1.5.0",
            "_model_name": "HBoxModel",
            "_view_count": null,
            "_view_module": "@jupyter-widgets/controls",
            "_view_module_version": "1.5.0",
            "_view_name": "HBoxView",
            "box_style": "",
            "children": [
              "IPY_MODEL_3d299852a388439592bb9f36d0d36c45",
              "IPY_MODEL_7e9fcb158dd84fd1ac245b5dde06c196",
              "IPY_MODEL_5ab30a3f7ae34d999abf01130131742a"
            ],
            "layout": "IPY_MODEL_01b498df56af49c28e58aca2862be57b"
          }
        },
        "3d299852a388439592bb9f36d0d36c45": {
          "model_module": "@jupyter-widgets/controls",
          "model_name": "HTMLModel",
          "model_module_version": "1.5.0",
          "state": {
            "_dom_classes": [],
            "_model_module": "@jupyter-widgets/controls",
            "_model_module_version": "1.5.0",
            "_model_name": "HTMLModel",
            "_view_count": null,
            "_view_module": "@jupyter-widgets/controls",
            "_view_module_version": "1.5.0",
            "_view_name": "HTMLView",
            "description": "",
            "description_tooltip": null,
            "layout": "IPY_MODEL_01fec62a094344059a4ac324daa13edc",
            "placeholder": "​",
            "style": "IPY_MODEL_17b23a19efd7428fad12bd4000921a9e",
            "value": "model.safetensors: 100%"
          }
        },
        "7e9fcb158dd84fd1ac245b5dde06c196": {
          "model_module": "@jupyter-widgets/controls",
          "model_name": "FloatProgressModel",
          "model_module_version": "1.5.0",
          "state": {
            "_dom_classes": [],
            "_model_module": "@jupyter-widgets/controls",
            "_model_module_version": "1.5.0",
            "_model_name": "FloatProgressModel",
            "_view_count": null,
            "_view_module": "@jupyter-widgets/controls",
            "_view_module_version": "1.5.0",
            "_view_name": "ProgressView",
            "bar_style": "success",
            "description": "",
            "description_tooltip": null,
            "layout": "IPY_MODEL_c2123a1707614c6099aae8dc5b760b7e",
            "max": 267832558,
            "min": 0,
            "orientation": "horizontal",
            "style": "IPY_MODEL_1371f5ad7125427aad5fe6fb17ea3eac",
            "value": 267832558
          }
        },
        "5ab30a3f7ae34d999abf01130131742a": {
          "model_module": "@jupyter-widgets/controls",
          "model_name": "HTMLModel",
          "model_module_version": "1.5.0",
          "state": {
            "_dom_classes": [],
            "_model_module": "@jupyter-widgets/controls",
            "_model_module_version": "1.5.0",
            "_model_name": "HTMLModel",
            "_view_count": null,
            "_view_module": "@jupyter-widgets/controls",
            "_view_module_version": "1.5.0",
            "_view_name": "HTMLView",
            "description": "",
            "description_tooltip": null,
            "layout": "IPY_MODEL_7b0ae860d20749388f4a8cfeaa432429",
            "placeholder": "​",
            "style": "IPY_MODEL_c729d95f9ddf46f3b0317d4927d5ba19",
            "value": " 268M/268M [00:01&lt;00:00, 205MB/s]"
          }
        },
        "01b498df56af49c28e58aca2862be57b": {
          "model_module": "@jupyter-widgets/base",
          "model_name": "LayoutModel",
          "model_module_version": "1.2.0",
          "state": {
            "_model_module": "@jupyter-widgets/base",
            "_model_module_version": "1.2.0",
            "_model_name": "LayoutModel",
            "_view_count": null,
            "_view_module": "@jupyter-widgets/base",
            "_view_module_version": "1.2.0",
            "_view_name": "LayoutView",
            "align_content": null,
            "align_items": null,
            "align_self": null,
            "border": null,
            "bottom": null,
            "display": null,
            "flex": null,
            "flex_flow": null,
            "grid_area": null,
            "grid_auto_columns": null,
            "grid_auto_flow": null,
            "grid_auto_rows": null,
            "grid_column": null,
            "grid_gap": null,
            "grid_row": null,
            "grid_template_areas": null,
            "grid_template_columns": null,
            "grid_template_rows": null,
            "height": null,
            "justify_content": null,
            "justify_items": null,
            "left": null,
            "margin": null,
            "max_height": null,
            "max_width": null,
            "min_height": null,
            "min_width": null,
            "object_fit": null,
            "object_position": null,
            "order": null,
            "overflow": null,
            "overflow_x": null,
            "overflow_y": null,
            "padding": null,
            "right": null,
            "top": null,
            "visibility": null,
            "width": null
          }
        },
        "01fec62a094344059a4ac324daa13edc": {
          "model_module": "@jupyter-widgets/base",
          "model_name": "LayoutModel",
          "model_module_version": "1.2.0",
          "state": {
            "_model_module": "@jupyter-widgets/base",
            "_model_module_version": "1.2.0",
            "_model_name": "LayoutModel",
            "_view_count": null,
            "_view_module": "@jupyter-widgets/base",
            "_view_module_version": "1.2.0",
            "_view_name": "LayoutView",
            "align_content": null,
            "align_items": null,
            "align_self": null,
            "border": null,
            "bottom": null,
            "display": null,
            "flex": null,
            "flex_flow": null,
            "grid_area": null,
            "grid_auto_columns": null,
            "grid_auto_flow": null,
            "grid_auto_rows": null,
            "grid_column": null,
            "grid_gap": null,
            "grid_row": null,
            "grid_template_areas": null,
            "grid_template_columns": null,
            "grid_template_rows": null,
            "height": null,
            "justify_content": null,
            "justify_items": null,
            "left": null,
            "margin": null,
            "max_height": null,
            "max_width": null,
            "min_height": null,
            "min_width": null,
            "object_fit": null,
            "object_position": null,
            "order": null,
            "overflow": null,
            "overflow_x": null,
            "overflow_y": null,
            "padding": null,
            "right": null,
            "top": null,
            "visibility": null,
            "width": null
          }
        },
        "17b23a19efd7428fad12bd4000921a9e": {
          "model_module": "@jupyter-widgets/controls",
          "model_name": "DescriptionStyleModel",
          "model_module_version": "1.5.0",
          "state": {
            "_model_module": "@jupyter-widgets/controls",
            "_model_module_version": "1.5.0",
            "_model_name": "DescriptionStyleModel",
            "_view_count": null,
            "_view_module": "@jupyter-widgets/base",
            "_view_module_version": "1.2.0",
            "_view_name": "StyleView",
            "description_width": ""
          }
        },
        "c2123a1707614c6099aae8dc5b760b7e": {
          "model_module": "@jupyter-widgets/base",
          "model_name": "LayoutModel",
          "model_module_version": "1.2.0",
          "state": {
            "_model_module": "@jupyter-widgets/base",
            "_model_module_version": "1.2.0",
            "_model_name": "LayoutModel",
            "_view_count": null,
            "_view_module": "@jupyter-widgets/base",
            "_view_module_version": "1.2.0",
            "_view_name": "LayoutView",
            "align_content": null,
            "align_items": null,
            "align_self": null,
            "border": null,
            "bottom": null,
            "display": null,
            "flex": null,
            "flex_flow": null,
            "grid_area": null,
            "grid_auto_columns": null,
            "grid_auto_flow": null,
            "grid_auto_rows": null,
            "grid_column": null,
            "grid_gap": null,
            "grid_row": null,
            "grid_template_areas": null,
            "grid_template_columns": null,
            "grid_template_rows": null,
            "height": null,
            "justify_content": null,
            "justify_items": null,
            "left": null,
            "margin": null,
            "max_height": null,
            "max_width": null,
            "min_height": null,
            "min_width": null,
            "object_fit": null,
            "object_position": null,
            "order": null,
            "overflow": null,
            "overflow_x": null,
            "overflow_y": null,
            "padding": null,
            "right": null,
            "top": null,
            "visibility": null,
            "width": null
          }
        },
        "1371f5ad7125427aad5fe6fb17ea3eac": {
          "model_module": "@jupyter-widgets/controls",
          "model_name": "ProgressStyleModel",
          "model_module_version": "1.5.0",
          "state": {
            "_model_module": "@jupyter-widgets/controls",
            "_model_module_version": "1.5.0",
            "_model_name": "ProgressStyleModel",
            "_view_count": null,
            "_view_module": "@jupyter-widgets/base",
            "_view_module_version": "1.2.0",
            "_view_name": "StyleView",
            "bar_color": null,
            "description_width": ""
          }
        },
        "7b0ae860d20749388f4a8cfeaa432429": {
          "model_module": "@jupyter-widgets/base",
          "model_name": "LayoutModel",
          "model_module_version": "1.2.0",
          "state": {
            "_model_module": "@jupyter-widgets/base",
            "_model_module_version": "1.2.0",
            "_model_name": "LayoutModel",
            "_view_count": null,
            "_view_module": "@jupyter-widgets/base",
            "_view_module_version": "1.2.0",
            "_view_name": "LayoutView",
            "align_content": null,
            "align_items": null,
            "align_self": null,
            "border": null,
            "bottom": null,
            "display": null,
            "flex": null,
            "flex_flow": null,
            "grid_area": null,
            "grid_auto_columns": null,
            "grid_auto_flow": null,
            "grid_auto_rows": null,
            "grid_column": null,
            "grid_gap": null,
            "grid_row": null,
            "grid_template_areas": null,
            "grid_template_columns": null,
            "grid_template_rows": null,
            "height": null,
            "justify_content": null,
            "justify_items": null,
            "left": null,
            "margin": null,
            "max_height": null,
            "max_width": null,
            "min_height": null,
            "min_width": null,
            "object_fit": null,
            "object_position": null,
            "order": null,
            "overflow": null,
            "overflow_x": null,
            "overflow_y": null,
            "padding": null,
            "right": null,
            "top": null,
            "visibility": null,
            "width": null
          }
        },
        "c729d95f9ddf46f3b0317d4927d5ba19": {
          "model_module": "@jupyter-widgets/controls",
          "model_name": "DescriptionStyleModel",
          "model_module_version": "1.5.0",
          "state": {
            "_model_module": "@jupyter-widgets/controls",
            "_model_module_version": "1.5.0",
            "_model_name": "DescriptionStyleModel",
            "_view_count": null,
            "_view_module": "@jupyter-widgets/base",
            "_view_module_version": "1.2.0",
            "_view_name": "StyleView",
            "description_width": ""
          }
        },
        "d7f10132acf34fd89d1120dd5096bfab": {
          "model_module": "@jupyter-widgets/controls",
          "model_name": "HBoxModel",
          "model_module_version": "1.5.0",
          "state": {
            "_dom_classes": [],
            "_model_module": "@jupyter-widgets/controls",
            "_model_module_version": "1.5.0",
            "_model_name": "HBoxModel",
            "_view_count": null,
            "_view_module": "@jupyter-widgets/controls",
            "_view_module_version": "1.5.0",
            "_view_name": "HBoxView",
            "box_style": "",
            "children": [
              "IPY_MODEL_814e1c543f494337b8d2f4f7f2fb4e40",
              "IPY_MODEL_b856c3aca7dd457797d4bfa32a1be780",
              "IPY_MODEL_e03b442382474ee1a1b6e28d2c1d616e"
            ],
            "layout": "IPY_MODEL_c530319796d848c0822c1dae6768a627"
          }
        },
        "814e1c543f494337b8d2f4f7f2fb4e40": {
          "model_module": "@jupyter-widgets/controls",
          "model_name": "HTMLModel",
          "model_module_version": "1.5.0",
          "state": {
            "_dom_classes": [],
            "_model_module": "@jupyter-widgets/controls",
            "_model_module_version": "1.5.0",
            "_model_name": "HTMLModel",
            "_view_count": null,
            "_view_module": "@jupyter-widgets/controls",
            "_view_module_version": "1.5.0",
            "_view_name": "HTMLView",
            "description": "",
            "description_tooltip": null,
            "layout": "IPY_MODEL_ef7ce183822f485094ca4e66f8bfe4ed",
            "placeholder": "​",
            "style": "IPY_MODEL_bcc753255a624793bb6fed5b80384ddf",
            "value": "tokenizer_config.json: 100%"
          }
        },
        "b856c3aca7dd457797d4bfa32a1be780": {
          "model_module": "@jupyter-widgets/controls",
          "model_name": "FloatProgressModel",
          "model_module_version": "1.5.0",
          "state": {
            "_dom_classes": [],
            "_model_module": "@jupyter-widgets/controls",
            "_model_module_version": "1.5.0",
            "_model_name": "FloatProgressModel",
            "_view_count": null,
            "_view_module": "@jupyter-widgets/controls",
            "_view_module_version": "1.5.0",
            "_view_name": "ProgressView",
            "bar_style": "success",
            "description": "",
            "description_tooltip": null,
            "layout": "IPY_MODEL_c14b975546ea40639f73d17ea52f22a2",
            "max": 48,
            "min": 0,
            "orientation": "horizontal",
            "style": "IPY_MODEL_8ee58c705bb0442d8c53ca9a52807804",
            "value": 48
          }
        },
        "e03b442382474ee1a1b6e28d2c1d616e": {
          "model_module": "@jupyter-widgets/controls",
          "model_name": "HTMLModel",
          "model_module_version": "1.5.0",
          "state": {
            "_dom_classes": [],
            "_model_module": "@jupyter-widgets/controls",
            "_model_module_version": "1.5.0",
            "_model_name": "HTMLModel",
            "_view_count": null,
            "_view_module": "@jupyter-widgets/controls",
            "_view_module_version": "1.5.0",
            "_view_name": "HTMLView",
            "description": "",
            "description_tooltip": null,
            "layout": "IPY_MODEL_bde0b5a9ca6c475d967a7e34fb72c015",
            "placeholder": "​",
            "style": "IPY_MODEL_f509ac836f1b443d8a66b788a8470b9a",
            "value": " 48.0/48.0 [00:00&lt;00:00, 3.41kB/s]"
          }
        },
        "c530319796d848c0822c1dae6768a627": {
          "model_module": "@jupyter-widgets/base",
          "model_name": "LayoutModel",
          "model_module_version": "1.2.0",
          "state": {
            "_model_module": "@jupyter-widgets/base",
            "_model_module_version": "1.2.0",
            "_model_name": "LayoutModel",
            "_view_count": null,
            "_view_module": "@jupyter-widgets/base",
            "_view_module_version": "1.2.0",
            "_view_name": "LayoutView",
            "align_content": null,
            "align_items": null,
            "align_self": null,
            "border": null,
            "bottom": null,
            "display": null,
            "flex": null,
            "flex_flow": null,
            "grid_area": null,
            "grid_auto_columns": null,
            "grid_auto_flow": null,
            "grid_auto_rows": null,
            "grid_column": null,
            "grid_gap": null,
            "grid_row": null,
            "grid_template_areas": null,
            "grid_template_columns": null,
            "grid_template_rows": null,
            "height": null,
            "justify_content": null,
            "justify_items": null,
            "left": null,
            "margin": null,
            "max_height": null,
            "max_width": null,
            "min_height": null,
            "min_width": null,
            "object_fit": null,
            "object_position": null,
            "order": null,
            "overflow": null,
            "overflow_x": null,
            "overflow_y": null,
            "padding": null,
            "right": null,
            "top": null,
            "visibility": null,
            "width": null
          }
        },
        "ef7ce183822f485094ca4e66f8bfe4ed": {
          "model_module": "@jupyter-widgets/base",
          "model_name": "LayoutModel",
          "model_module_version": "1.2.0",
          "state": {
            "_model_module": "@jupyter-widgets/base",
            "_model_module_version": "1.2.0",
            "_model_name": "LayoutModel",
            "_view_count": null,
            "_view_module": "@jupyter-widgets/base",
            "_view_module_version": "1.2.0",
            "_view_name": "LayoutView",
            "align_content": null,
            "align_items": null,
            "align_self": null,
            "border": null,
            "bottom": null,
            "display": null,
            "flex": null,
            "flex_flow": null,
            "grid_area": null,
            "grid_auto_columns": null,
            "grid_auto_flow": null,
            "grid_auto_rows": null,
            "grid_column": null,
            "grid_gap": null,
            "grid_row": null,
            "grid_template_areas": null,
            "grid_template_columns": null,
            "grid_template_rows": null,
            "height": null,
            "justify_content": null,
            "justify_items": null,
            "left": null,
            "margin": null,
            "max_height": null,
            "max_width": null,
            "min_height": null,
            "min_width": null,
            "object_fit": null,
            "object_position": null,
            "order": null,
            "overflow": null,
            "overflow_x": null,
            "overflow_y": null,
            "padding": null,
            "right": null,
            "top": null,
            "visibility": null,
            "width": null
          }
        },
        "bcc753255a624793bb6fed5b80384ddf": {
          "model_module": "@jupyter-widgets/controls",
          "model_name": "DescriptionStyleModel",
          "model_module_version": "1.5.0",
          "state": {
            "_model_module": "@jupyter-widgets/controls",
            "_model_module_version": "1.5.0",
            "_model_name": "DescriptionStyleModel",
            "_view_count": null,
            "_view_module": "@jupyter-widgets/base",
            "_view_module_version": "1.2.0",
            "_view_name": "StyleView",
            "description_width": ""
          }
        },
        "c14b975546ea40639f73d17ea52f22a2": {
          "model_module": "@jupyter-widgets/base",
          "model_name": "LayoutModel",
          "model_module_version": "1.2.0",
          "state": {
            "_model_module": "@jupyter-widgets/base",
            "_model_module_version": "1.2.0",
            "_model_name": "LayoutModel",
            "_view_count": null,
            "_view_module": "@jupyter-widgets/base",
            "_view_module_version": "1.2.0",
            "_view_name": "LayoutView",
            "align_content": null,
            "align_items": null,
            "align_self": null,
            "border": null,
            "bottom": null,
            "display": null,
            "flex": null,
            "flex_flow": null,
            "grid_area": null,
            "grid_auto_columns": null,
            "grid_auto_flow": null,
            "grid_auto_rows": null,
            "grid_column": null,
            "grid_gap": null,
            "grid_row": null,
            "grid_template_areas": null,
            "grid_template_columns": null,
            "grid_template_rows": null,
            "height": null,
            "justify_content": null,
            "justify_items": null,
            "left": null,
            "margin": null,
            "max_height": null,
            "max_width": null,
            "min_height": null,
            "min_width": null,
            "object_fit": null,
            "object_position": null,
            "order": null,
            "overflow": null,
            "overflow_x": null,
            "overflow_y": null,
            "padding": null,
            "right": null,
            "top": null,
            "visibility": null,
            "width": null
          }
        },
        "8ee58c705bb0442d8c53ca9a52807804": {
          "model_module": "@jupyter-widgets/controls",
          "model_name": "ProgressStyleModel",
          "model_module_version": "1.5.0",
          "state": {
            "_model_module": "@jupyter-widgets/controls",
            "_model_module_version": "1.5.0",
            "_model_name": "ProgressStyleModel",
            "_view_count": null,
            "_view_module": "@jupyter-widgets/base",
            "_view_module_version": "1.2.0",
            "_view_name": "StyleView",
            "bar_color": null,
            "description_width": ""
          }
        },
        "bde0b5a9ca6c475d967a7e34fb72c015": {
          "model_module": "@jupyter-widgets/base",
          "model_name": "LayoutModel",
          "model_module_version": "1.2.0",
          "state": {
            "_model_module": "@jupyter-widgets/base",
            "_model_module_version": "1.2.0",
            "_model_name": "LayoutModel",
            "_view_count": null,
            "_view_module": "@jupyter-widgets/base",
            "_view_module_version": "1.2.0",
            "_view_name": "LayoutView",
            "align_content": null,
            "align_items": null,
            "align_self": null,
            "border": null,
            "bottom": null,
            "display": null,
            "flex": null,
            "flex_flow": null,
            "grid_area": null,
            "grid_auto_columns": null,
            "grid_auto_flow": null,
            "grid_auto_rows": null,
            "grid_column": null,
            "grid_gap": null,
            "grid_row": null,
            "grid_template_areas": null,
            "grid_template_columns": null,
            "grid_template_rows": null,
            "height": null,
            "justify_content": null,
            "justify_items": null,
            "left": null,
            "margin": null,
            "max_height": null,
            "max_width": null,
            "min_height": null,
            "min_width": null,
            "object_fit": null,
            "object_position": null,
            "order": null,
            "overflow": null,
            "overflow_x": null,
            "overflow_y": null,
            "padding": null,
            "right": null,
            "top": null,
            "visibility": null,
            "width": null
          }
        },
        "f509ac836f1b443d8a66b788a8470b9a": {
          "model_module": "@jupyter-widgets/controls",
          "model_name": "DescriptionStyleModel",
          "model_module_version": "1.5.0",
          "state": {
            "_model_module": "@jupyter-widgets/controls",
            "_model_module_version": "1.5.0",
            "_model_name": "DescriptionStyleModel",
            "_view_count": null,
            "_view_module": "@jupyter-widgets/base",
            "_view_module_version": "1.2.0",
            "_view_name": "StyleView",
            "description_width": ""
          }
        },
        "a9e3a32918cc409c8d74c40d4497686f": {
          "model_module": "@jupyter-widgets/controls",
          "model_name": "HBoxModel",
          "model_module_version": "1.5.0",
          "state": {
            "_dom_classes": [],
            "_model_module": "@jupyter-widgets/controls",
            "_model_module_version": "1.5.0",
            "_model_name": "HBoxModel",
            "_view_count": null,
            "_view_module": "@jupyter-widgets/controls",
            "_view_module_version": "1.5.0",
            "_view_name": "HBoxView",
            "box_style": "",
            "children": [
              "IPY_MODEL_01cbad987aff486b83a56fe699e27325",
              "IPY_MODEL_0a3b5d0a0d2349eba1955a9a27eaa5f6",
              "IPY_MODEL_7bf0bbe2eea24a10a8197a2f943c7e25"
            ],
            "layout": "IPY_MODEL_20b44dddfa7644ab88467cf355d49835"
          }
        },
        "01cbad987aff486b83a56fe699e27325": {
          "model_module": "@jupyter-widgets/controls",
          "model_name": "HTMLModel",
          "model_module_version": "1.5.0",
          "state": {
            "_dom_classes": [],
            "_model_module": "@jupyter-widgets/controls",
            "_model_module_version": "1.5.0",
            "_model_name": "HTMLModel",
            "_view_count": null,
            "_view_module": "@jupyter-widgets/controls",
            "_view_module_version": "1.5.0",
            "_view_name": "HTMLView",
            "description": "",
            "description_tooltip": null,
            "layout": "IPY_MODEL_f66511d8efc34599aaa4b98332bdf515",
            "placeholder": "​",
            "style": "IPY_MODEL_f7bba03b3e6545d48ad1e74189c6fcdb",
            "value": "vocab.txt: 100%"
          }
        },
        "0a3b5d0a0d2349eba1955a9a27eaa5f6": {
          "model_module": "@jupyter-widgets/controls",
          "model_name": "FloatProgressModel",
          "model_module_version": "1.5.0",
          "state": {
            "_dom_classes": [],
            "_model_module": "@jupyter-widgets/controls",
            "_model_module_version": "1.5.0",
            "_model_name": "FloatProgressModel",
            "_view_count": null,
            "_view_module": "@jupyter-widgets/controls",
            "_view_module_version": "1.5.0",
            "_view_name": "ProgressView",
            "bar_style": "success",
            "description": "",
            "description_tooltip": null,
            "layout": "IPY_MODEL_5d7a1420571f480d9ea5c5a73c27dbbc",
            "max": 231508,
            "min": 0,
            "orientation": "horizontal",
            "style": "IPY_MODEL_2a3038f4433d4f8bbd59185a55bfe1d4",
            "value": 231508
          }
        },
        "7bf0bbe2eea24a10a8197a2f943c7e25": {
          "model_module": "@jupyter-widgets/controls",
          "model_name": "HTMLModel",
          "model_module_version": "1.5.0",
          "state": {
            "_dom_classes": [],
            "_model_module": "@jupyter-widgets/controls",
            "_model_module_version": "1.5.0",
            "_model_name": "HTMLModel",
            "_view_count": null,
            "_view_module": "@jupyter-widgets/controls",
            "_view_module_version": "1.5.0",
            "_view_name": "HTMLView",
            "description": "",
            "description_tooltip": null,
            "layout": "IPY_MODEL_d6908d9d5d27455297a957f2d10d189d",
            "placeholder": "​",
            "style": "IPY_MODEL_b5dc1cdb32014b738718b0ef76f2f629",
            "value": " 232k/232k [00:00&lt;00:00, 4.79MB/s]"
          }
        },
        "20b44dddfa7644ab88467cf355d49835": {
          "model_module": "@jupyter-widgets/base",
          "model_name": "LayoutModel",
          "model_module_version": "1.2.0",
          "state": {
            "_model_module": "@jupyter-widgets/base",
            "_model_module_version": "1.2.0",
            "_model_name": "LayoutModel",
            "_view_count": null,
            "_view_module": "@jupyter-widgets/base",
            "_view_module_version": "1.2.0",
            "_view_name": "LayoutView",
            "align_content": null,
            "align_items": null,
            "align_self": null,
            "border": null,
            "bottom": null,
            "display": null,
            "flex": null,
            "flex_flow": null,
            "grid_area": null,
            "grid_auto_columns": null,
            "grid_auto_flow": null,
            "grid_auto_rows": null,
            "grid_column": null,
            "grid_gap": null,
            "grid_row": null,
            "grid_template_areas": null,
            "grid_template_columns": null,
            "grid_template_rows": null,
            "height": null,
            "justify_content": null,
            "justify_items": null,
            "left": null,
            "margin": null,
            "max_height": null,
            "max_width": null,
            "min_height": null,
            "min_width": null,
            "object_fit": null,
            "object_position": null,
            "order": null,
            "overflow": null,
            "overflow_x": null,
            "overflow_y": null,
            "padding": null,
            "right": null,
            "top": null,
            "visibility": null,
            "width": null
          }
        },
        "f66511d8efc34599aaa4b98332bdf515": {
          "model_module": "@jupyter-widgets/base",
          "model_name": "LayoutModel",
          "model_module_version": "1.2.0",
          "state": {
            "_model_module": "@jupyter-widgets/base",
            "_model_module_version": "1.2.0",
            "_model_name": "LayoutModel",
            "_view_count": null,
            "_view_module": "@jupyter-widgets/base",
            "_view_module_version": "1.2.0",
            "_view_name": "LayoutView",
            "align_content": null,
            "align_items": null,
            "align_self": null,
            "border": null,
            "bottom": null,
            "display": null,
            "flex": null,
            "flex_flow": null,
            "grid_area": null,
            "grid_auto_columns": null,
            "grid_auto_flow": null,
            "grid_auto_rows": null,
            "grid_column": null,
            "grid_gap": null,
            "grid_row": null,
            "grid_template_areas": null,
            "grid_template_columns": null,
            "grid_template_rows": null,
            "height": null,
            "justify_content": null,
            "justify_items": null,
            "left": null,
            "margin": null,
            "max_height": null,
            "max_width": null,
            "min_height": null,
            "min_width": null,
            "object_fit": null,
            "object_position": null,
            "order": null,
            "overflow": null,
            "overflow_x": null,
            "overflow_y": null,
            "padding": null,
            "right": null,
            "top": null,
            "visibility": null,
            "width": null
          }
        },
        "f7bba03b3e6545d48ad1e74189c6fcdb": {
          "model_module": "@jupyter-widgets/controls",
          "model_name": "DescriptionStyleModel",
          "model_module_version": "1.5.0",
          "state": {
            "_model_module": "@jupyter-widgets/controls",
            "_model_module_version": "1.5.0",
            "_model_name": "DescriptionStyleModel",
            "_view_count": null,
            "_view_module": "@jupyter-widgets/base",
            "_view_module_version": "1.2.0",
            "_view_name": "StyleView",
            "description_width": ""
          }
        },
        "5d7a1420571f480d9ea5c5a73c27dbbc": {
          "model_module": "@jupyter-widgets/base",
          "model_name": "LayoutModel",
          "model_module_version": "1.2.0",
          "state": {
            "_model_module": "@jupyter-widgets/base",
            "_model_module_version": "1.2.0",
            "_model_name": "LayoutModel",
            "_view_count": null,
            "_view_module": "@jupyter-widgets/base",
            "_view_module_version": "1.2.0",
            "_view_name": "LayoutView",
            "align_content": null,
            "align_items": null,
            "align_self": null,
            "border": null,
            "bottom": null,
            "display": null,
            "flex": null,
            "flex_flow": null,
            "grid_area": null,
            "grid_auto_columns": null,
            "grid_auto_flow": null,
            "grid_auto_rows": null,
            "grid_column": null,
            "grid_gap": null,
            "grid_row": null,
            "grid_template_areas": null,
            "grid_template_columns": null,
            "grid_template_rows": null,
            "height": null,
            "justify_content": null,
            "justify_items": null,
            "left": null,
            "margin": null,
            "max_height": null,
            "max_width": null,
            "min_height": null,
            "min_width": null,
            "object_fit": null,
            "object_position": null,
            "order": null,
            "overflow": null,
            "overflow_x": null,
            "overflow_y": null,
            "padding": null,
            "right": null,
            "top": null,
            "visibility": null,
            "width": null
          }
        },
        "2a3038f4433d4f8bbd59185a55bfe1d4": {
          "model_module": "@jupyter-widgets/controls",
          "model_name": "ProgressStyleModel",
          "model_module_version": "1.5.0",
          "state": {
            "_model_module": "@jupyter-widgets/controls",
            "_model_module_version": "1.5.0",
            "_model_name": "ProgressStyleModel",
            "_view_count": null,
            "_view_module": "@jupyter-widgets/base",
            "_view_module_version": "1.2.0",
            "_view_name": "StyleView",
            "bar_color": null,
            "description_width": ""
          }
        },
        "d6908d9d5d27455297a957f2d10d189d": {
          "model_module": "@jupyter-widgets/base",
          "model_name": "LayoutModel",
          "model_module_version": "1.2.0",
          "state": {
            "_model_module": "@jupyter-widgets/base",
            "_model_module_version": "1.2.0",
            "_model_name": "LayoutModel",
            "_view_count": null,
            "_view_module": "@jupyter-widgets/base",
            "_view_module_version": "1.2.0",
            "_view_name": "LayoutView",
            "align_content": null,
            "align_items": null,
            "align_self": null,
            "border": null,
            "bottom": null,
            "display": null,
            "flex": null,
            "flex_flow": null,
            "grid_area": null,
            "grid_auto_columns": null,
            "grid_auto_flow": null,
            "grid_auto_rows": null,
            "grid_column": null,
            "grid_gap": null,
            "grid_row": null,
            "grid_template_areas": null,
            "grid_template_columns": null,
            "grid_template_rows": null,
            "height": null,
            "justify_content": null,
            "justify_items": null,
            "left": null,
            "margin": null,
            "max_height": null,
            "max_width": null,
            "min_height": null,
            "min_width": null,
            "object_fit": null,
            "object_position": null,
            "order": null,
            "overflow": null,
            "overflow_x": null,
            "overflow_y": null,
            "padding": null,
            "right": null,
            "top": null,
            "visibility": null,
            "width": null
          }
        },
        "b5dc1cdb32014b738718b0ef76f2f629": {
          "model_module": "@jupyter-widgets/controls",
          "model_name": "DescriptionStyleModel",
          "model_module_version": "1.5.0",
          "state": {
            "_model_module": "@jupyter-widgets/controls",
            "_model_module_version": "1.5.0",
            "_model_name": "DescriptionStyleModel",
            "_view_count": null,
            "_view_module": "@jupyter-widgets/base",
            "_view_module_version": "1.2.0",
            "_view_name": "StyleView",
            "description_width": ""
          }
        }
      }
    }
  },
  "cells": [
    {
      "cell_type": "markdown",
      "metadata": {
        "id": "view-in-github",
        "colab_type": "text"
      },
      "source": [
        "<a href=\"https://colab.research.google.com/github/ajeevansiva/stock_news_summarizer/blob/main/crypto_stocks_news_generator.ipynb\" target=\"_parent\"><img src=\"https://colab.research.google.com/assets/colab-badge.svg\" alt=\"Open In Colab\"/></a>"
      ]
    },
    {
      "cell_type": "markdown",
      "source": [
        "# 1. Install and Import Baseline Dependencies"
      ],
      "metadata": {
        "id": "YHoo8HRyT6FV"
      }
    },
    {
      "cell_type": "code",
      "execution_count": 1,
      "metadata": {
        "colab": {
          "base_uri": "https://localhost:8080/"
        },
        "id": "vzNm5caKOoCN",
        "outputId": "653242b0-7423-4187-ba51-e3ee09521e39"
      },
      "outputs": [
        {
          "output_type": "stream",
          "name": "stdout",
          "text": [
            "Requirement already satisfied: transformers in /usr/local/lib/python3.10/dist-packages (4.38.2)\n",
            "Requirement already satisfied: filelock in /usr/local/lib/python3.10/dist-packages (from transformers) (3.13.3)\n",
            "Requirement already satisfied: huggingface-hub<1.0,>=0.19.3 in /usr/local/lib/python3.10/dist-packages (from transformers) (0.20.3)\n",
            "Requirement already satisfied: numpy>=1.17 in /usr/local/lib/python3.10/dist-packages (from transformers) (1.25.2)\n",
            "Requirement already satisfied: packaging>=20.0 in /usr/local/lib/python3.10/dist-packages (from transformers) (24.0)\n",
            "Requirement already satisfied: pyyaml>=5.1 in /usr/local/lib/python3.10/dist-packages (from transformers) (6.0.1)\n",
            "Requirement already satisfied: regex!=2019.12.17 in /usr/local/lib/python3.10/dist-packages (from transformers) (2023.12.25)\n",
            "Requirement already satisfied: requests in /usr/local/lib/python3.10/dist-packages (from transformers) (2.31.0)\n",
            "Requirement already satisfied: tokenizers<0.19,>=0.14 in /usr/local/lib/python3.10/dist-packages (from transformers) (0.15.2)\n",
            "Requirement already satisfied: safetensors>=0.4.1 in /usr/local/lib/python3.10/dist-packages (from transformers) (0.4.2)\n",
            "Requirement already satisfied: tqdm>=4.27 in /usr/local/lib/python3.10/dist-packages (from transformers) (4.66.2)\n",
            "Requirement already satisfied: fsspec>=2023.5.0 in /usr/local/lib/python3.10/dist-packages (from huggingface-hub<1.0,>=0.19.3->transformers) (2023.6.0)\n",
            "Requirement already satisfied: typing-extensions>=3.7.4.3 in /usr/local/lib/python3.10/dist-packages (from huggingface-hub<1.0,>=0.19.3->transformers) (4.10.0)\n",
            "Requirement already satisfied: charset-normalizer<4,>=2 in /usr/local/lib/python3.10/dist-packages (from requests->transformers) (3.3.2)\n",
            "Requirement already satisfied: idna<4,>=2.5 in /usr/local/lib/python3.10/dist-packages (from requests->transformers) (3.6)\n",
            "Requirement already satisfied: urllib3<3,>=1.21.1 in /usr/local/lib/python3.10/dist-packages (from requests->transformers) (2.0.7)\n",
            "Requirement already satisfied: certifi>=2017.4.17 in /usr/local/lib/python3.10/dist-packages (from requests->transformers) (2024.2.2)\n"
          ]
        }
      ],
      "source": [
        "!pip install transformers"
      ]
    },
    {
      "cell_type": "code",
      "source": [
        "from transformers import PegasusTokenizer, PegasusForConditionalGeneration\n",
        "from bs4 import BeautifulSoup\n",
        "import requests"
      ],
      "metadata": {
        "id": "dxBDEi3nQSa1"
      },
      "execution_count": 2,
      "outputs": []
    },
    {
      "cell_type": "markdown",
      "source": [
        "## 2. Setup Summarization Model"
      ],
      "metadata": {
        "id": "ddYySZRqTy4u"
      }
    },
    {
      "cell_type": "code",
      "source": [
        "model_name = \"human-centered-summarization/financial-summarization-pegasus\"\n",
        "tokenizer = PegasusTokenizer.from_pretrained(model_name)\n",
        "model = PegasusForConditionalGeneration.from_pretrained(model_name)"
      ],
      "metadata": {
        "colab": {
          "base_uri": "https://localhost:8080/",
          "height": 336,
          "referenced_widgets": [
            "bba921d4fcab45f6b6a1864ca151df23",
            "449045f196184027952ff9947a7ed66f",
            "226c0769102f463dbd431423d3d9cc7b",
            "34e9ed1ffb894a57a9cae6e354a0be56",
            "7bdfa7e1885b429cb1e5646fc5e08c55",
            "c2e49c6598944c71b94f4e70221f20dd",
            "252cf7e03ae14d299e9c2d47504f9b7e",
            "f84cbf374e854db4ab9b8c01a9a1e341",
            "aab5db21c0eb421db2c0ccb2ce78c513",
            "7eec85ef24ad4323b7d931a38227a7a7",
            "4f73ba628aec49a78d920a5095a672c0",
            "2d7a9365b7314778b6e4924ef0abc2e4",
            "bb5c3851904d413abadcf1ff0d50c863",
            "97d9492ff11f48749998758ac0899255",
            "e46c4415970a422990047b5b073425b0",
            "e7d09f93a8b5430880785e132a8c854d",
            "2f4c4b1c647a4fe2a09ca0387751e3fc",
            "46dea7fd722849dcb07a32f0e721cffe",
            "85f1b2f670e24b498ae2a8d2aabcb922",
            "50f13f2ec6d0419982961ed5c004a794",
            "9ca183c54f7347a4a29f24de90b9542a",
            "08ec1145c69042f4a48d84120c5c347a",
            "52e1ca3a6af747ada50797ae40eb89e6",
            "6f1e40e597a14ee2a22f4ac5fc7f346e",
            "0288872847a44ec5aca6f76f385be6eb",
            "46995eb01afd421aa2e0f1163bb0a0f1",
            "03b82e018f324277bfe4f461e89b591b",
            "d3051947330b45e08d69d5423bbd2add",
            "b70e59d44fe9421b93b449a2c7b0edcc",
            "cdf94054ecd34526ac2ac6c4d8e260f0",
            "6bf32f817ebc4e3989b8b2a0bec5f9a2",
            "0a9f72aa1c7a4410a301ad82d78a6362",
            "5faa6fb142004faca5e9f12c35646c9f",
            "a95024e0185d47b3aebe745f6172ba9e",
            "a07dbbc6f50a48f2b0b4039202942404",
            "077388aa50de4c46aa7640575f625437",
            "1adc2c0aa54646599d3456a3e41ea770",
            "800ba53ca60a4b7ca7f0406d581b5612",
            "4f040b64e068464aadbc9e27065d5504",
            "cbeca477ba4940e287c2e81dc0669c84",
            "61cd9996c31b4c21af989cc57a353118",
            "caf6493453e745e09182ce0beda9f793",
            "47021730b9d84976b25e822627bee843",
            "f5ccf6d0f26f4ea2a747be450fa1b7d1",
            "7e37243bfb1341269efd15a6ee69ef41",
            "225e52aa0bf1457799054768e3eed9bc",
            "bffbdfbeea274fe6b6ebcb3ddc88b2c1",
            "c32518ba9e554da7b7abd13edb7b5ff9",
            "e08ef725fd1d4481a0bbc957422df5e9",
            "f6a41d1c2b62464da59f34ca613f4aaa",
            "f8eb2f185c704cc589d73a15f38eeb9d",
            "d3734d4d012c47ca87d402accf54ef53",
            "a4d55a711e6d4537aa640fd66e709b98",
            "af28b6b6942141e78793317f661f77d2",
            "66be0b3d185e4b41b54aa1fb8bc297e5"
          ]
        },
        "id": "7tA8wgufQcod",
        "outputId": "bbea27d9-6ae7-410b-86f5-a7dada5d2f5b"
      },
      "execution_count": 3,
      "outputs": [
        {
          "output_type": "stream",
          "name": "stderr",
          "text": [
            "/usr/local/lib/python3.10/dist-packages/huggingface_hub/utils/_token.py:88: UserWarning: \n",
            "The secret `HF_TOKEN` does not exist in your Colab secrets.\n",
            "To authenticate with the Hugging Face Hub, create a token in your settings tab (https://huggingface.co/settings/tokens), set it as secret in your Google Colab and restart your session.\n",
            "You will be able to reuse this secret in all of your notebooks.\n",
            "Please note that authentication is recommended but still optional to access public models or datasets.\n",
            "  warnings.warn(\n"
          ]
        },
        {
          "output_type": "display_data",
          "data": {
            "text/plain": [
              "tokenizer_config.json:   0%|          | 0.00/1.44k [00:00<?, ?B/s]"
            ],
            "application/vnd.jupyter.widget-view+json": {
              "version_major": 2,
              "version_minor": 0,
              "model_id": "bba921d4fcab45f6b6a1864ca151df23"
            }
          },
          "metadata": {}
        },
        {
          "output_type": "display_data",
          "data": {
            "text/plain": [
              "spiece.model:   0%|          | 0.00/1.91M [00:00<?, ?B/s]"
            ],
            "application/vnd.jupyter.widget-view+json": {
              "version_major": 2,
              "version_minor": 0,
              "model_id": "2d7a9365b7314778b6e4924ef0abc2e4"
            }
          },
          "metadata": {}
        },
        {
          "output_type": "display_data",
          "data": {
            "text/plain": [
              "special_tokens_map.json:   0%|          | 0.00/1.34k [00:00<?, ?B/s]"
            ],
            "application/vnd.jupyter.widget-view+json": {
              "version_major": 2,
              "version_minor": 0,
              "model_id": "52e1ca3a6af747ada50797ae40eb89e6"
            }
          },
          "metadata": {}
        },
        {
          "output_type": "display_data",
          "data": {
            "text/plain": [
              "config.json:   0%|          | 0.00/1.27k [00:00<?, ?B/s]"
            ],
            "application/vnd.jupyter.widget-view+json": {
              "version_major": 2,
              "version_minor": 0,
              "model_id": "a95024e0185d47b3aebe745f6172ba9e"
            }
          },
          "metadata": {}
        },
        {
          "output_type": "display_data",
          "data": {
            "text/plain": [
              "model.safetensors:   0%|          | 0.00/2.28G [00:00<?, ?B/s]"
            ],
            "application/vnd.jupyter.widget-view+json": {
              "version_major": 2,
              "version_minor": 0,
              "model_id": "7e37243bfb1341269efd15a6ee69ef41"
            }
          },
          "metadata": {}
        },
        {
          "output_type": "stream",
          "name": "stderr",
          "text": [
            "Some weights of PegasusForConditionalGeneration were not initialized from the model checkpoint at human-centered-summarization/financial-summarization-pegasus and are newly initialized: ['model.decoder.embed_positions.weight', 'model.encoder.embed_positions.weight']\n",
            "You should probably TRAIN this model on a down-stream task to be able to use it for predictions and inference.\n"
          ]
        }
      ]
    },
    {
      "cell_type": "markdown",
      "source": [
        "# 3. Summarize a Single Article"
      ],
      "metadata": {
        "id": "AvBQR-eQTwpe"
      }
    },
    {
      "cell_type": "code",
      "source": [
        "url = \"https://finance.yahoo.com/news/binances-exit-nigeria-means-p2p-193018323.html\"\n",
        "r = requests.get(url)\n",
        "soup = BeautifulSoup(r.text, 'html.parser')\n",
        "paragraphs = soup.find_all('p')"
      ],
      "metadata": {
        "id": "bwfPrJEKQz7b"
      },
      "execution_count": 4,
      "outputs": []
    },
    {
      "cell_type": "code",
      "source": [
        "paragraphs"
      ],
      "metadata": {
        "colab": {
          "base_uri": "https://localhost:8080/"
        },
        "id": "J-8SXFKRUBEl",
        "outputId": "cb0ecdd8-2cb9-4091-a35f-9e75dd4ab18c"
      },
      "execution_count": 5,
      "outputs": [
        {
          "output_type": "execute_result",
          "data": {
            "text/plain": [
              "[<p id=\"message-1\">Thank you for your patience.</p>,\n",
              " <p id=\"message-2\">Our engineers are working quickly to resolve the issue.</p>]"
            ]
          },
          "metadata": {},
          "execution_count": 5
        }
      ]
    },
    {
      "cell_type": "code",
      "source": [
        "r.text"
      ],
      "metadata": {
        "colab": {
          "base_uri": "https://localhost:8080/",
          "height": 123
        },
        "id": "ShR8rLmmVXAG",
        "outputId": "d033da5b-a99f-4ac1-c786-4929c107aa2c"
      },
      "execution_count": 6,
      "outputs": [
        {
          "output_type": "execute_result",
          "data": {
            "text/plain": [
              "'<!DOCTYPE html>\\n  <html lang=\"en-us\"><head>\\n  <meta http-equiv=\"content-type\" content=\"text/html; charset=UTF-8\">\\n      <meta charset=\"utf-8\">\\n      <title>Yahoo</title>\\n      <meta name=\"viewport\" content=\"width=device-width,initial-scale=1,minimal-ui\">\\n      <meta http-equiv=\"X-UA-Compatible\" content=\"IE=edge,chrome=1\">\\n      <style>\\n  html {\\n      height: 100%;\\n  }\\n  body {\\n      background: #fafafc url(https://s.yimg.com/nn/img/sad-panda-201402200631.png) 50% 50%;\\n      background-size: cover;\\n      height: 100%;\\n      text-align: center;\\n      font: 300 18px \"helvetica neue\", helvetica, verdana, tahoma, arial, sans-serif;\\n  }\\n  table {\\n      height: 100%;\\n      width: 100%;\\n      table-layout: fixed;\\n      border-collapse: collapse;\\n      border-spacing: 0;\\n      border: none;\\n  }\\n  h1 {\\n      font-size: 42px;\\n      font-weight: 400;\\n      color: #400090;\\n  }\\n  p {\\n      color: #1A1A1A;\\n  }\\n  #message-1 {\\n      font-weight: bold;\\n      margin: 0;\\n  }\\n  #message-2 {\\n      display: inline-block;\\n      *display: inline;\\n      zoom: 1;\\n      max-width: 17em;\\n      _width: 17em;\\n  }\\n      </style>\\n  <script>\\n    document.write(\\'<img src=\"//geo.yahoo.com/b?s=1197757129&t=\\'+new Date().getTime()+\\'&src=aws&err_url=\\'+encodeURIComponent(document.URL)+\\'&err=%<pssc>&test=\\'+encodeURIComponent(\\'%<{Bucket}cqh[:200]>\\')+\\'\" width=\"0px\" height=\"0px\"/>\\');var beacon = new Image();beacon.src=\"//bcn.fp.yahoo.com/p?s=1197757129&t=\"+new Date().getTime()+\"&src=aws&err_url=\"+encodeURIComponent(document.URL)+\"&err=%<pssc>&test=\"+encodeURIComponent(\\'%<{Bucket}cqh[:200]>\\');\\n  </script>\\n  </head>\\n  <body>\\n  <!-- status code : 404 -->\\n  <!-- Not Found on Server -->\\n  <table>\\n  <tbody><tr>\\n      <td>\\n      <img src=\"https://s.yimg.com/rz/p/yahoo_frontpage_en-US_s_f_p_205x58_frontpage.png\" alt=\"Yahoo Logo\">\\n      <h1 style=\"margin-top:20px;\">Will be right back...</h1>\\n      <p id=\"message-1\">Thank you for your patience.</p>\\n      <p id=\"message-2\">Our engineers are working quickly to resolve the issue.</p>\\n      </td>\\n  </tr>\\n  </tbody></table>\\n  </body></html>'"
            ],
            "application/vnd.google.colaboratory.intrinsic+json": {
              "type": "string"
            }
          },
          "metadata": {},
          "execution_count": 6
        }
      ]
    },
    {
      "cell_type": "code",
      "source": [
        "paragraphs[0].text"
      ],
      "metadata": {
        "colab": {
          "base_uri": "https://localhost:8080/",
          "height": 36
        },
        "id": "h-Mc6pjIVtbD",
        "outputId": "5fd2a85e-4dd5-4b53-82a7-645bb82abdd4"
      },
      "execution_count": 7,
      "outputs": [
        {
          "output_type": "execute_result",
          "data": {
            "text/plain": [
              "'Thank you for your patience.'"
            ],
            "application/vnd.google.colaboratory.intrinsic+json": {
              "type": "string"
            }
          },
          "metadata": {},
          "execution_count": 7
        }
      ]
    },
    {
      "cell_type": "code",
      "source": [
        "text = [paragraph.text for paragraph in paragraphs]\n",
        "words = ' '.join(text).split(' ')[:400]\n",
        "ARTICLE = ' '.join(words)"
      ],
      "metadata": {
        "id": "Ur4db475VwSE"
      },
      "execution_count": 8,
      "outputs": []
    },
    {
      "cell_type": "code",
      "source": [
        "ARTICLE"
      ],
      "metadata": {
        "colab": {
          "base_uri": "https://localhost:8080/",
          "height": 36
        },
        "id": "5B8pPPDeWARc",
        "outputId": "c7dddba8-80b0-4bc7-ab74-c613f7d62fc4"
      },
      "execution_count": 9,
      "outputs": [
        {
          "output_type": "execute_result",
          "data": {
            "text/plain": [
              "'Thank you for your patience. Our engineers are working quickly to resolve the issue.'"
            ],
            "application/vnd.google.colaboratory.intrinsic+json": {
              "type": "string"
            }
          },
          "metadata": {},
          "execution_count": 9
        }
      ]
    },
    {
      "cell_type": "code",
      "source": [
        "input_ids = tokenizer.encode(ARTICLE, return_tensors='pt')\n",
        "output = model.generate(input_ids, max_length=120, num_beams=5, early_stopping=True)\n",
        "summary = tokenizer.decode(output[0], skip_special_tokens=True)"
      ],
      "metadata": {
        "id": "7M10BYL_WUaP"
      },
      "execution_count": 10,
      "outputs": []
    },
    {
      "cell_type": "code",
      "source": [
        "summary"
      ],
      "metadata": {
        "colab": {
          "base_uri": "https://localhost:8080/",
          "height": 36
        },
        "id": "WUM4mbRtWXio",
        "outputId": "b70ff651-60d6-4db3-d6da-f64364b40d49"
      },
      "execution_count": 11,
      "outputs": [
        {
          "output_type": "execute_result",
          "data": {
            "text/plain": [
              "'We are aware of the issue and are working to resolve it.'"
            ],
            "application/vnd.google.colaboratory.intrinsic+json": {
              "type": "string"
            }
          },
          "metadata": {},
          "execution_count": 11
        }
      ]
    },
    {
      "cell_type": "code",
      "source": [
        "output"
      ],
      "metadata": {
        "colab": {
          "base_uri": "https://localhost:8080/"
        },
        "id": "xp-zMmmwY2MA",
        "outputId": "32c8a38e-ddfb-43e4-aab0-1a8fd96c0481"
      },
      "execution_count": 12,
      "outputs": [
        {
          "output_type": "execute_result",
          "data": {
            "text/plain": [
              "tensor([[   0,  184,  127, 1906,  113,  109,  797,  111,  127,  375,  112, 4568,\n",
              "          126,  107,    1]])"
            ]
          },
          "metadata": {},
          "execution_count": 12
        }
      ]
    },
    {
      "cell_type": "markdown",
      "source": [
        "# 4. Building a News and Sentiment Pipeline"
      ],
      "metadata": {
        "id": "2czKRuHd4lj8"
      }
    },
    {
      "cell_type": "code",
      "source": [
        "monitored_tickers = ['GME', 'TSLA', 'BTC']"
      ],
      "metadata": {
        "id": "lQfnkxio4m7G"
      },
      "execution_count": 13,
      "outputs": []
    },
    {
      "cell_type": "code",
      "source": [
        "def search_for_stock_news_urls(ticker):\n",
        "    search_url = \"https://www.google.com/search?q=yahoo+finance+{}&tbm=nws\".format(ticker)\n",
        "    r = requests.get(search_url)\n",
        "    soup = BeautifulSoup(r.text, 'html.parser')\n",
        "    atags = soup.find_all('a')\n",
        "    hrefs = [link['href'] for link in atags]\n",
        "    return hrefs"
      ],
      "metadata": {
        "id": "aprvc1V24tvU"
      },
      "execution_count": 14,
      "outputs": []
    },
    {
      "cell_type": "code",
      "source": [
        "raw_urls = {ticker:search_for_stock_news_urls(ticker) for ticker in monitored_tickers}\n",
        "raw_urls"
      ],
      "metadata": {
        "colab": {
          "base_uri": "https://localhost:8080/"
        },
        "id": "cFCAeswk6IoF",
        "outputId": "5970ccd0-776d-4945-e580-bd137c01930d"
      },
      "execution_count": 15,
      "outputs": [
        {
          "output_type": "execute_result",
          "data": {
            "text/plain": [
              "{'GME': ['/?sa=X&ved=0ahUKEwiAhsGqqZaFAxVp5MkDHUKRCdEQOwgC',\n",
              "  '/search?q=yahoo+finance+GME&sca_esv=f467e1d66e3ba319&ie=UTF-8&tbm=nws&gbv=1&sei=Pg0FZoDvA-nIp84PwqKmiA0',\n",
              "  '/search?q=yahoo+finance+GME&sca_esv=f467e1d66e3ba319&ie=UTF-8&source=lnms&sa=X&ved=0ahUKEwiAhsGqqZaFAxVp5MkDHUKRCdEQ_AUIBSgA',\n",
              "  '/search?q=yahoo+finance+GME&sca_esv=f467e1d66e3ba319&ie=UTF-8&tbm=vid&source=lnms&sa=X&ved=0ahUKEwiAhsGqqZaFAxVp5MkDHUKRCdEQ_AUIBygC',\n",
              "  '/search?q=yahoo+finance+GME&sca_esv=f467e1d66e3ba319&ie=UTF-8&tbm=isch&source=lnms&sa=X&ved=0ahUKEwiAhsGqqZaFAxVp5MkDHUKRCdEQ_AUICCgD',\n",
              "  '/url?q=https://maps.google.com/maps%3Fq%3Dyahoo%2Bfinance%2BGME%26um%3D1%26ie%3DUTF-8%26ved%3D1t:200713%26ictx%3D111&opi=89978449&sa=U&ved=0ahUKEwiAhsGqqZaFAxVp5MkDHUKRCdEQiaAMCAkoBA&usg=AOvVaw0LtU_b1As1wCMrTUGBsfge',\n",
              "  '/url?q=/search%3Fq%3Dyahoo%2Bfinance%2BGME%26sca_esv%3Df467e1d66e3ba319%26ie%3DUTF-8%26tbm%3Dshop%26source%3Dlnms%26ved%3D1t:200713%26ictx%3D111&opi=89978449&sa=U&ved=0ahUKEwiAhsGqqZaFAxVp5MkDHUKRCdEQiaAMCAooBQ&usg=AOvVaw13qkksVm3gB5wcsLq6sITh',\n",
              "  '/search?q=yahoo+finance+GME&sca_esv=f467e1d66e3ba319&ie=UTF-8&tbm=bks&source=lnms&sa=X&ved=0ahUKEwiAhsGqqZaFAxVp5MkDHUKRCdEQ_AUICygG',\n",
              "  '/advanced_search',\n",
              "  '/search?q=yahoo+finance+GME&sca_esv=f467e1d66e3ba319&ie=UTF-8&tbm=nws&source=lnt&tbs=qdr:h&sa=X&ved=0ahUKEwiAhsGqqZaFAxVp5MkDHUKRCdEQpwUIDQ',\n",
              "  '/search?q=yahoo+finance+GME&sca_esv=f467e1d66e3ba319&ie=UTF-8&tbm=nws&source=lnt&tbs=qdr:d&sa=X&ved=0ahUKEwiAhsGqqZaFAxVp5MkDHUKRCdEQpwUIDg',\n",
              "  '/search?q=yahoo+finance+GME&sca_esv=f467e1d66e3ba319&ie=UTF-8&tbm=nws&source=lnt&tbs=qdr:w&sa=X&ved=0ahUKEwiAhsGqqZaFAxVp5MkDHUKRCdEQpwUIDw',\n",
              "  '/search?q=yahoo+finance+GME&sca_esv=f467e1d66e3ba319&ie=UTF-8&tbm=nws&source=lnt&tbs=qdr:m&sa=X&ved=0ahUKEwiAhsGqqZaFAxVp5MkDHUKRCdEQpwUIEA',\n",
              "  '/search?q=yahoo+finance+GME&sca_esv=f467e1d66e3ba319&ie=UTF-8&tbm=nws&source=lnt&tbs=qdr:y&sa=X&ved=0ahUKEwiAhsGqqZaFAxVp5MkDHUKRCdEQpwUIEQ',\n",
              "  '/search?q=yahoo+finance+GME&sca_esv=f467e1d66e3ba319&ie=UTF-8&tbm=nws&source=lnt&tbs=ar:1&sa=X&ved=0ahUKEwiAhsGqqZaFAxVp5MkDHUKRCdEQpwUIEg',\n",
              "  '/search?q=yahoo+finance+GME&sca_esv=f467e1d66e3ba319&ie=UTF-8&tbm=nws&source=lnt&tbs=sbd:1&sa=X&ved=0ahUKEwiAhsGqqZaFAxVp5MkDHUKRCdEQpwUIFA',\n",
              "  '/url?q=https://finance.yahoo.com/news/why-gamestop-gme-shares-trading-162132483.html&sa=U&ved=2ahUKEwiAhsGqqZaFAxVp5MkDHUKRCdEQxfQBegQIABAC&usg=AOvVaw3q8Tmd786XYJRnK_avmu6I',\n",
              "  '/url?q=https://finance.yahoo.com/news/gamestop-gme-q4-earnings-miss-143600702.html&sa=U&ved=2ahUKEwiAhsGqqZaFAxVp5MkDHUKRCdEQxfQBegQICRAC&usg=AOvVaw1-ZT91C0Tz3WoKETleZvg4',\n",
              "  '/url?q=https://finance.yahoo.com/video/gamestop-shares-fall-missing-q4-210828603.html&sa=U&ved=2ahUKEwiAhsGqqZaFAxVp5MkDHUKRCdEQxfQBegQIAxAC&usg=AOvVaw3PNpo02Yie9EX9_VpU17dc',\n",
              "  '/url?q=https://finance.yahoo.com/news/earnings-watch-gamestop-gme-reports-184241519.html&sa=U&ved=2ahUKEwiAhsGqqZaFAxVp5MkDHUKRCdEQxfQBegQICBAC&usg=AOvVaw0co55g1jwU-hrsmUKaOjXa',\n",
              "  '/url?q=https://finance.yahoo.com/news/gamestop-nyse-gme-misses-q4-200940979.html&sa=U&ved=2ahUKEwiAhsGqqZaFAxVp5MkDHUKRCdEQxfQBegQIBRAC&usg=AOvVaw15fn_NbyytB-OQaKV9jsSO',\n",
              "  '/url?q=https://finance.yahoo.com/news/gamestop-gme-q4-earnings-revenues-212003206.html&sa=U&ved=2ahUKEwiAhsGqqZaFAxVp5MkDHUKRCdEQxfQBegQIAhAC&usg=AOvVaw10vy6W7vbRpqNMRkfU23Cx',\n",
              "  '/url?q=https://finance.yahoo.com/video/gamestop-plunges-earnings-trump-media-140954471.html&sa=U&ved=2ahUKEwiAhsGqqZaFAxVp5MkDHUKRCdEQxfQBegQIBBAC&usg=AOvVaw1_KlUl93iJwRoU7x795l05',\n",
              "  '/url?q=https://finance.yahoo.com/news/gamestop-reports-fourth-quarter-fiscal-200500541.html&sa=U&ved=2ahUKEwiAhsGqqZaFAxVp5MkDHUKRCdEQxfQBegQIBxAC&usg=AOvVaw2M65Q3UJEBR2q5IuYP4yTI',\n",
              "  '/url?q=https://finance.yahoo.com/video/fedspeak-pce-print-gamestop-earnings-203144851.html&sa=U&ved=2ahUKEwiAhsGqqZaFAxVp5MkDHUKRCdEQxfQBegQIARAC&usg=AOvVaw0KZGFynNUSHHy-amQ5FN72',\n",
              "  '/url?q=https://finance.yahoo.com/news/unveiling-gamestop-gme-value-really-155119864.html&sa=U&ved=2ahUKEwiAhsGqqZaFAxVp5MkDHUKRCdEQxfQBegQIBhAC&usg=AOvVaw3945tr4zovq_22xo0OwYls',\n",
              "  '/search?q=yahoo+finance+GME&sca_esv=f467e1d66e3ba319&ie=UTF-8&tbm=nws&ei=Pg0FZoDvA-nIp84PwqKmiA0&start=10&sa=N',\n",
              "  '/url?q=https://support.google.com/websearch%3Fp%3Dws_settings_location%26hl%3Den&opi=89978449&sa=U&ved=0ahUKEwiAhsGqqZaFAxVp5MkDHUKRCdEQty4IUQ&usg=AOvVaw0NFW6-f8-4gn1gJpcXzZ85',\n",
              "  '/url?q=https://accounts.google.com/ServiceLogin%3Fcontinue%3Dhttps://www.google.com/search%253Fq%253Dyahoo%252Bfinance%252BGME%2526tbm%253Dnws%26hl%3Den&opi=89978449&sa=U&ved=0ahUKEwiAhsGqqZaFAxVp5MkDHUKRCdEQxs8CCFI&usg=AOvVaw28TfH1Tei26JmV7an_MN7z',\n",
              "  'https://www.google.com/preferences?hl=en&fg=1&sa=X&ved=0ahUKEwiAhsGqqZaFAxVp5MkDHUKRCdEQ5fUCCFM',\n",
              "  'https://policies.google.com/privacy?hl=en&fg=1',\n",
              "  'https://policies.google.com/terms?hl=en&fg=1',\n",
              "  '/setprefs?hl=en&prev=https://www.google.com/search?q%3Dyahoo%2Bfinance%2BGME%26tbm%3Dnws%26pccc%3D1&sig=0_6MqyG-OWV3z-5gQMQX2RqzE759k%3D&cs=2&sa=X&ved=0ahUKEwiAhsGqqZaFAxVp5MkDHUKRCdEQjcAJCFQ'],\n",
              " 'TSLA': ['/?sa=X&ved=0ahUKEwiYsdeqqZaFAxVO8MkDHTXgDKIQOwgC',\n",
              "  '/search?q=yahoo+finance+TSLA&sca_esv=f467e1d66e3ba319&ie=UTF-8&tbm=nws&gbv=1&sei=Pg0FZpiaGs7gp84PtcCzkAo',\n",
              "  '/search?q=yahoo+finance+TSLA&sca_esv=f467e1d66e3ba319&ie=UTF-8&source=lnms&sa=X&ved=0ahUKEwiYsdeqqZaFAxVO8MkDHTXgDKIQ_AUIBSgA',\n",
              "  '/search?q=yahoo+finance+TSLA&sca_esv=f467e1d66e3ba319&ie=UTF-8&tbm=isch&source=lnms&sa=X&ved=0ahUKEwiYsdeqqZaFAxVO8MkDHTXgDKIQ_AUIBygC',\n",
              "  '/search?q=yahoo+finance+TSLA&sca_esv=f467e1d66e3ba319&ie=UTF-8&tbm=vid&source=lnms&sa=X&ved=0ahUKEwiYsdeqqZaFAxVO8MkDHTXgDKIQ_AUICCgD',\n",
              "  '/url?q=https://maps.google.com/maps%3Fq%3Dyahoo%2Bfinance%2BTSLA%26um%3D1%26ie%3DUTF-8%26ved%3D1t:200713%26ictx%3D111&opi=89978449&sa=U&ved=0ahUKEwiYsdeqqZaFAxVO8MkDHTXgDKIQiaAMCAkoBA&usg=AOvVaw0EC-RamrxWeEJPkn7L25SM',\n",
              "  '/url?q=/search%3Fq%3Dyahoo%2Bfinance%2BTSLA%26sca_esv%3Df467e1d66e3ba319%26ie%3DUTF-8%26tbm%3Dshop%26source%3Dlnms%26ved%3D1t:200713%26ictx%3D111&opi=89978449&sa=U&ved=0ahUKEwiYsdeqqZaFAxVO8MkDHTXgDKIQiaAMCAooBQ&usg=AOvVaw3OF4xS-rgQANfSDPkoqoaa',\n",
              "  '/search?q=yahoo+finance+TSLA&sca_esv=f467e1d66e3ba319&ie=UTF-8&tbm=bks&source=lnms&sa=X&ved=0ahUKEwiYsdeqqZaFAxVO8MkDHTXgDKIQ_AUICygG',\n",
              "  '/advanced_search',\n",
              "  '/search?q=yahoo+finance+TSLA&sca_esv=f467e1d66e3ba319&ie=UTF-8&tbm=nws&source=lnt&tbs=qdr:h&sa=X&ved=0ahUKEwiYsdeqqZaFAxVO8MkDHTXgDKIQpwUIDQ',\n",
              "  '/search?q=yahoo+finance+TSLA&sca_esv=f467e1d66e3ba319&ie=UTF-8&tbm=nws&source=lnt&tbs=qdr:d&sa=X&ved=0ahUKEwiYsdeqqZaFAxVO8MkDHTXgDKIQpwUIDg',\n",
              "  '/search?q=yahoo+finance+TSLA&sca_esv=f467e1d66e3ba319&ie=UTF-8&tbm=nws&source=lnt&tbs=qdr:w&sa=X&ved=0ahUKEwiYsdeqqZaFAxVO8MkDHTXgDKIQpwUIDw',\n",
              "  '/search?q=yahoo+finance+TSLA&sca_esv=f467e1d66e3ba319&ie=UTF-8&tbm=nws&source=lnt&tbs=qdr:m&sa=X&ved=0ahUKEwiYsdeqqZaFAxVO8MkDHTXgDKIQpwUIEA',\n",
              "  '/search?q=yahoo+finance+TSLA&sca_esv=f467e1d66e3ba319&ie=UTF-8&tbm=nws&source=lnt&tbs=qdr:y&sa=X&ved=0ahUKEwiYsdeqqZaFAxVO8MkDHTXgDKIQpwUIEQ',\n",
              "  '/search?q=yahoo+finance+TSLA&sca_esv=f467e1d66e3ba319&ie=UTF-8&tbm=nws&source=lnt&tbs=ar:1&sa=X&ved=0ahUKEwiYsdeqqZaFAxVO8MkDHTXgDKIQpwUIEg',\n",
              "  '/search?q=yahoo+finance+TSLA&sca_esv=f467e1d66e3ba319&ie=UTF-8&tbm=nws&source=lnt&tbs=sbd:1&sa=X&ved=0ahUKEwiYsdeqqZaFAxVO8MkDHTXgDKIQpwUIFA',\n",
              "  '/url?q=https://finance.yahoo.com/news/tesla-tsla-outpaces-stock-market-214518882.html&sa=U&ved=2ahUKEwiYsdeqqZaFAxVO8MkDHTXgDKIQxfQBegQIAxAC&usg=AOvVaw010vFvNUtBIs90bMsoy9R6',\n",
              "  '/url?q=https://finance.yahoo.com/video/tesla-gets-another-price-target-151332458.html&sa=U&ved=2ahUKEwiYsdeqqZaFAxVO8MkDHTXgDKIQxfQBegQICRAC&usg=AOvVaw2pQCSD-b3Z4chHlkR9ukcf',\n",
              "  '/url?q=https://finance.yahoo.com/video/tesla-catl-partnership-could-game-194445639.html&sa=U&ved=2ahUKEwiYsdeqqZaFAxVO8MkDHTXgDKIQxfQBegQIAhAC&usg=AOvVaw0baBZHcF7I5zsc2zeFRBx5',\n",
              "  '/url?q=https://finance.yahoo.com/news/better-electric-vehicle-stock-tesla-135300941.html&sa=U&ved=2ahUKEwiYsdeqqZaFAxVO8MkDHTXgDKIQxfQBegQIBBAC&usg=AOvVaw0Os2RloJ9yYyTdWzc9JS-y',\n",
              "  '/url?q=https://finance.yahoo.com/news/why-tesla-stock-just-popped-153348183.html&sa=U&ved=2ahUKEwiYsdeqqZaFAxVO8MkDHTXgDKIQxfQBegQICBAC&usg=AOvVaw2axqbmGwo7RbFZo4Q1PPVA',\n",
              "  '/url?q=https://finance.yahoo.com/news/where-tesla-stock-2030-214349914.html&sa=U&ved=2ahUKEwiYsdeqqZaFAxVO8MkDHTXgDKIQxfQBegQIBxAC&usg=AOvVaw2Q-pvYGzFO6B5rScajSWqF',\n",
              "  '/url?q=https://finance.yahoo.com/news/know-beyond-why-tesla-inc-130014305.html&sa=U&ved=2ahUKEwiYsdeqqZaFAxVO8MkDHTXgDKIQxfQBegQIARAC&usg=AOvVaw3wEdfa-HV5rT8WRooBgANS',\n",
              "  '/url?q=https://finance.yahoo.com/news/buy-dip-tesla-stock-forget-183600395.html&sa=U&ved=2ahUKEwiYsdeqqZaFAxVO8MkDHTXgDKIQxfQBegQIABAC&usg=AOvVaw0HJWsnS5nqZO2t0WHryAUs',\n",
              "  '/url?q=https://finance.yahoo.com/news/forget-tesla-1-unstoppable-artificial-082700121.html&sa=U&ved=2ahUKEwiYsdeqqZaFAxVO8MkDHTXgDKIQxfQBegQIBhAC&usg=AOvVaw33DkkKOC8qFG_z4b_cxp6w',\n",
              "  '/url?q=https://finance.yahoo.com/news/best-stocks-buy-tesla-stock-110000589.html&sa=U&ved=2ahUKEwiYsdeqqZaFAxVO8MkDHTXgDKIQxfQBegQIBRAC&usg=AOvVaw1nCPyit8LY5x4YMKBjvYT5',\n",
              "  '/search?q=yahoo+finance+TSLA&sca_esv=f467e1d66e3ba319&ie=UTF-8&tbm=nws&ei=Pg0FZpiaGs7gp84PtcCzkAo&start=10&sa=N',\n",
              "  '/url?q=https://support.google.com/websearch%3Fp%3Dws_settings_location%26hl%3Den&opi=89978449&sa=U&ved=0ahUKEwiYsdeqqZaFAxVO8MkDHTXgDKIQty4IUQ&usg=AOvVaw3HH0ljWraY6z3DXwmLpBSE',\n",
              "  '/url?q=https://accounts.google.com/ServiceLogin%3Fcontinue%3Dhttps://www.google.com/search%253Fq%253Dyahoo%252Bfinance%252BTSLA%2526tbm%253Dnws%26hl%3Den&opi=89978449&sa=U&ved=0ahUKEwiYsdeqqZaFAxVO8MkDHTXgDKIQxs8CCFI&usg=AOvVaw3pL4D2V_b3BSTfciD0ZC56',\n",
              "  'https://www.google.com/preferences?hl=en&fg=1&sa=X&ved=0ahUKEwiYsdeqqZaFAxVO8MkDHTXgDKIQ5fUCCFM',\n",
              "  'https://policies.google.com/privacy?hl=en&fg=1',\n",
              "  'https://policies.google.com/terms?hl=en&fg=1',\n",
              "  '/setprefs?hl=en&prev=https://www.google.com/search?q%3Dyahoo%2Bfinance%2BTSLA%26tbm%3Dnws%26pccc%3D1&sig=0_avLdY2brcuud4l5FJ-EW9MKaDrY%3D&cs=2&sa=X&ved=0ahUKEwiYsdeqqZaFAxVO8MkDHTXgDKIQjcAJCFQ'],\n",
              " 'BTC': ['/?sa=X&ved=0ahUKEwir7u-qqZaFAxWM78kDHSISDAcQOwgC',\n",
              "  '/search?q=yahoo+finance+BTC&sca_esv=f467e1d66e3ba319&sca_upv=1&ie=UTF-8&tbm=nws&gbv=1&sei=Pg0FZqvXMozfp84PoqSwOA',\n",
              "  '/search?q=yahoo+finance+BTC&sca_esv=f467e1d66e3ba319&sca_upv=1&ie=UTF-8&source=lnms&sa=X&ved=0ahUKEwir7u-qqZaFAxWM78kDHSISDAcQ_AUIBSgA',\n",
              "  '/search?q=yahoo+finance+BTC&sca_esv=f467e1d66e3ba319&sca_upv=1&ie=UTF-8&tbm=isch&source=lnms&sa=X&ved=0ahUKEwir7u-qqZaFAxWM78kDHSISDAcQ_AUIBygC',\n",
              "  '/search?q=yahoo+finance+BTC&sca_esv=f467e1d66e3ba319&sca_upv=1&ie=UTF-8&tbm=vid&source=lnms&sa=X&ved=0ahUKEwir7u-qqZaFAxWM78kDHSISDAcQ_AUICCgD',\n",
              "  '/url?q=https://maps.google.com/maps%3Fq%3Dyahoo%2Bfinance%2BBTC%26um%3D1%26ie%3DUTF-8%26ved%3D1t:200713%26ictx%3D111&opi=89978449&sa=U&ved=0ahUKEwir7u-qqZaFAxWM78kDHSISDAcQiaAMCAkoBA&usg=AOvVaw2A9pSKa9lqO3ZepGAu8jbX',\n",
              "  '/url?q=/search%3Fq%3Dyahoo%2Bfinance%2BBTC%26sca_esv%3Df467e1d66e3ba319%26sca_upv%3D1%26ie%3DUTF-8%26tbm%3Dshop%26source%3Dlnms%26ved%3D1t:200713%26ictx%3D111&opi=89978449&sa=U&ved=0ahUKEwir7u-qqZaFAxWM78kDHSISDAcQiaAMCAooBQ&usg=AOvVaw1Tgso-PB-pUKvDSQk1e2uC',\n",
              "  '/search?q=yahoo+finance+BTC&sca_esv=f467e1d66e3ba319&sca_upv=1&ie=UTF-8&tbm=bks&source=lnms&sa=X&ved=0ahUKEwir7u-qqZaFAxWM78kDHSISDAcQ_AUICygG',\n",
              "  '/advanced_search',\n",
              "  '/search?q=yahoo+finance+BTC&sca_esv=f467e1d66e3ba319&sca_upv=1&ie=UTF-8&tbm=nws&source=lnt&tbs=qdr:h&sa=X&ved=0ahUKEwir7u-qqZaFAxWM78kDHSISDAcQpwUIDQ',\n",
              "  '/search?q=yahoo+finance+BTC&sca_esv=f467e1d66e3ba319&sca_upv=1&ie=UTF-8&tbm=nws&source=lnt&tbs=qdr:d&sa=X&ved=0ahUKEwir7u-qqZaFAxWM78kDHSISDAcQpwUIDg',\n",
              "  '/search?q=yahoo+finance+BTC&sca_esv=f467e1d66e3ba319&sca_upv=1&ie=UTF-8&tbm=nws&source=lnt&tbs=qdr:w&sa=X&ved=0ahUKEwir7u-qqZaFAxWM78kDHSISDAcQpwUIDw',\n",
              "  '/search?q=yahoo+finance+BTC&sca_esv=f467e1d66e3ba319&sca_upv=1&ie=UTF-8&tbm=nws&source=lnt&tbs=qdr:m&sa=X&ved=0ahUKEwir7u-qqZaFAxWM78kDHSISDAcQpwUIEA',\n",
              "  '/search?q=yahoo+finance+BTC&sca_esv=f467e1d66e3ba319&sca_upv=1&ie=UTF-8&tbm=nws&source=lnt&tbs=qdr:y&sa=X&ved=0ahUKEwir7u-qqZaFAxWM78kDHSISDAcQpwUIEQ',\n",
              "  '/search?q=yahoo+finance+BTC&sca_esv=f467e1d66e3ba319&sca_upv=1&ie=UTF-8&tbm=nws&source=lnt&tbs=ar:1&sa=X&ved=0ahUKEwir7u-qqZaFAxWM78kDHSISDAcQpwUIEg',\n",
              "  '/search?q=yahoo+finance+BTC&sca_esv=f467e1d66e3ba319&sca_upv=1&ie=UTF-8&tbm=nws&source=lnt&tbs=sbd:1&sa=X&ved=0ahUKEwir7u-qqZaFAxWM78kDHSISDAcQpwUIFA',\n",
              "  '/url?q=https://finance.yahoo.com/news/binances-exit-nigeria-means-p2p-193018323.html&sa=U&ved=2ahUKEwir7u-qqZaFAxWM78kDHSISDAcQxfQBegQIBBAC&usg=AOvVaw2gFKCkcoJeRbULBLFVqzcB',\n",
              "  '/url?q=https://finance.yahoo.com/news/hashdexs-defi-begins-trading-spot-191136551.html&sa=U&ved=2ahUKEwir7u-qqZaFAxWM78kDHSISDAcQxfQBegQICRAC&usg=AOvVaw1lHo5w_7X1AnjB4e8mI1DC',\n",
              "  '/url?q=https://finance.yahoo.com/news/u-eleventh-spot-bitcoin-etf-161427025.html%3Ffr%3Dsycsrp_catchall&sa=U&ved=2ahUKEwir7u-qqZaFAxWM78kDHSISDAcQxfQBegQIAhAC&usg=AOvVaw3wyfQdUnItBN3jJWOQFsa7',\n",
              "  '/url?q=https://finance.yahoo.com/video/crypto-tax-burden-may-not-154027902.html&sa=U&ved=2ahUKEwir7u-qqZaFAxWM78kDHSISDAcQxfQBegQIBRAC&usg=AOvVaw0Nt22WwpCU2oYy-IazOZ4X',\n",
              "  '/url?q=https://finance.yahoo.com/news/sam-bankman-fried-is-about-to-learn-how-much-prison-time-he-gets-for-ftx-crimes-153316259.html&sa=U&ved=2ahUKEwir7u-qqZaFAxWM78kDHSISDAcQxfQBegQIBxAC&usg=AOvVaw17tKcxjm7sR0e8DsF8sGWg',\n",
              "  '/url?q=https://finance.yahoo.com/news/larry-finks-blackrock-deploys-100m-150012952.html&sa=U&ved=2ahUKEwir7u-qqZaFAxWM78kDHSISDAcQxfQBegQICBAC&usg=AOvVaw24Y9zwsYH7YUVoZfLxPNeu',\n",
              "  '/url?q=https://finance.yahoo.com/news/o2ts-social-trading-exchange-token-150000071.html&sa=U&ved=2ahUKEwir7u-qqZaFAxWM78kDHSISDAcQxfQBegQIAxAC&usg=AOvVaw0yXEoE2K4xsv_qvAf5f2n4',\n",
              "  '/url?q=https://finance.yahoo.com/news/1-top-cryptocurrency-buy-soars-100000573.html&sa=U&ved=2ahUKEwir7u-qqZaFAxWM78kDHSISDAcQxfQBegQIABAC&usg=AOvVaw19GwfPj0CJhHY3qV6XwRCv',\n",
              "  '/url?q=https://finance.yahoo.com/news/trump-media-tesla-bitcoin-ds-smith-trending-tickers-091602165.html&sa=U&ved=2ahUKEwir7u-qqZaFAxWM78kDHSISDAcQxfQBegQIARAC&usg=AOvVaw2G3HEZEDFPSrQHuvDuRO8A',\n",
              "  '/url?q=https://finance.yahoo.com/video/spot-bitcoin-etf-why-sparked-060048670.html&sa=U&ved=2ahUKEwir7u-qqZaFAxWM78kDHSISDAcQxfQBegQIBhAC&usg=AOvVaw1LZ40i37vNvFPvRKSiU2X_',\n",
              "  '/search?q=yahoo+finance+BTC&sca_esv=f467e1d66e3ba319&sca_upv=1&ie=UTF-8&tbm=nws&ei=Pg0FZqvXMozfp84PoqSwOA&start=10&sa=N',\n",
              "  '/url?q=https://support.google.com/websearch%3Fp%3Dws_settings_location%26hl%3Den&opi=89978449&sa=U&ved=0ahUKEwir7u-qqZaFAxWM78kDHSISDAcQty4IUw&usg=AOvVaw0kBz3gPQnLpdKAKZVjgstq',\n",
              "  '/url?q=https://accounts.google.com/ServiceLogin%3Fcontinue%3Dhttps://www.google.com/search%253Fq%253Dyahoo%252Bfinance%252BBTC%2526tbm%253Dnws%26hl%3Den&opi=89978449&sa=U&ved=0ahUKEwir7u-qqZaFAxWM78kDHSISDAcQxs8CCFQ&usg=AOvVaw1bk4CgKOezd9Ws4F6d4X11',\n",
              "  'https://www.google.com/preferences?hl=en&fg=1&sa=X&ved=0ahUKEwir7u-qqZaFAxWM78kDHSISDAcQ5fUCCFU',\n",
              "  'https://policies.google.com/privacy?hl=en&fg=1',\n",
              "  'https://policies.google.com/terms?hl=en&fg=1',\n",
              "  '/setprefs?hl=en&prev=https://www.google.com/search?q%3Dyahoo%2Bfinance%2BBTC%26tbm%3Dnws%26pccc%3D1&sig=0_pygj7j0u4D9XHRQ2XeBUD-uUYjg%3D&cs=2&sa=X&ved=0ahUKEwir7u-qqZaFAxWM78kDHSISDAcQjcAJCFY']}"
            ]
          },
          "metadata": {},
          "execution_count": 15
        }
      ]
    },
    {
      "cell_type": "code",
      "source": [
        "raw_urls.keys()"
      ],
      "metadata": {
        "colab": {
          "base_uri": "https://localhost:8080/"
        },
        "id": "yycqKzGZ6uRB",
        "outputId": "628619b9-8cde-4890-fae1-7b21c2f548cf"
      },
      "execution_count": 16,
      "outputs": [
        {
          "output_type": "execute_result",
          "data": {
            "text/plain": [
              "dict_keys(['GME', 'TSLA', 'BTC'])"
            ]
          },
          "metadata": {},
          "execution_count": 16
        }
      ]
    },
    {
      "cell_type": "code",
      "source": [
        "raw_urls.values()"
      ],
      "metadata": {
        "colab": {
          "base_uri": "https://localhost:8080/"
        },
        "id": "wGxUOGD267Bk",
        "outputId": "c7788ff3-bbce-444f-ebeb-e99c2c482908"
      },
      "execution_count": 17,
      "outputs": [
        {
          "output_type": "execute_result",
          "data": {
            "text/plain": [
              "dict_values([['/?sa=X&ved=0ahUKEwiAhsGqqZaFAxVp5MkDHUKRCdEQOwgC', '/search?q=yahoo+finance+GME&sca_esv=f467e1d66e3ba319&ie=UTF-8&tbm=nws&gbv=1&sei=Pg0FZoDvA-nIp84PwqKmiA0', '/search?q=yahoo+finance+GME&sca_esv=f467e1d66e3ba319&ie=UTF-8&source=lnms&sa=X&ved=0ahUKEwiAhsGqqZaFAxVp5MkDHUKRCdEQ_AUIBSgA', '/search?q=yahoo+finance+GME&sca_esv=f467e1d66e3ba319&ie=UTF-8&tbm=vid&source=lnms&sa=X&ved=0ahUKEwiAhsGqqZaFAxVp5MkDHUKRCdEQ_AUIBygC', '/search?q=yahoo+finance+GME&sca_esv=f467e1d66e3ba319&ie=UTF-8&tbm=isch&source=lnms&sa=X&ved=0ahUKEwiAhsGqqZaFAxVp5MkDHUKRCdEQ_AUICCgD', '/url?q=https://maps.google.com/maps%3Fq%3Dyahoo%2Bfinance%2BGME%26um%3D1%26ie%3DUTF-8%26ved%3D1t:200713%26ictx%3D111&opi=89978449&sa=U&ved=0ahUKEwiAhsGqqZaFAxVp5MkDHUKRCdEQiaAMCAkoBA&usg=AOvVaw0LtU_b1As1wCMrTUGBsfge', '/url?q=/search%3Fq%3Dyahoo%2Bfinance%2BGME%26sca_esv%3Df467e1d66e3ba319%26ie%3DUTF-8%26tbm%3Dshop%26source%3Dlnms%26ved%3D1t:200713%26ictx%3D111&opi=89978449&sa=U&ved=0ahUKEwiAhsGqqZaFAxVp5MkDHUKRCdEQiaAMCAooBQ&usg=AOvVaw13qkksVm3gB5wcsLq6sITh', '/search?q=yahoo+finance+GME&sca_esv=f467e1d66e3ba319&ie=UTF-8&tbm=bks&source=lnms&sa=X&ved=0ahUKEwiAhsGqqZaFAxVp5MkDHUKRCdEQ_AUICygG', '/advanced_search', '/search?q=yahoo+finance+GME&sca_esv=f467e1d66e3ba319&ie=UTF-8&tbm=nws&source=lnt&tbs=qdr:h&sa=X&ved=0ahUKEwiAhsGqqZaFAxVp5MkDHUKRCdEQpwUIDQ', '/search?q=yahoo+finance+GME&sca_esv=f467e1d66e3ba319&ie=UTF-8&tbm=nws&source=lnt&tbs=qdr:d&sa=X&ved=0ahUKEwiAhsGqqZaFAxVp5MkDHUKRCdEQpwUIDg', '/search?q=yahoo+finance+GME&sca_esv=f467e1d66e3ba319&ie=UTF-8&tbm=nws&source=lnt&tbs=qdr:w&sa=X&ved=0ahUKEwiAhsGqqZaFAxVp5MkDHUKRCdEQpwUIDw', '/search?q=yahoo+finance+GME&sca_esv=f467e1d66e3ba319&ie=UTF-8&tbm=nws&source=lnt&tbs=qdr:m&sa=X&ved=0ahUKEwiAhsGqqZaFAxVp5MkDHUKRCdEQpwUIEA', '/search?q=yahoo+finance+GME&sca_esv=f467e1d66e3ba319&ie=UTF-8&tbm=nws&source=lnt&tbs=qdr:y&sa=X&ved=0ahUKEwiAhsGqqZaFAxVp5MkDHUKRCdEQpwUIEQ', '/search?q=yahoo+finance+GME&sca_esv=f467e1d66e3ba319&ie=UTF-8&tbm=nws&source=lnt&tbs=ar:1&sa=X&ved=0ahUKEwiAhsGqqZaFAxVp5MkDHUKRCdEQpwUIEg', '/search?q=yahoo+finance+GME&sca_esv=f467e1d66e3ba319&ie=UTF-8&tbm=nws&source=lnt&tbs=sbd:1&sa=X&ved=0ahUKEwiAhsGqqZaFAxVp5MkDHUKRCdEQpwUIFA', '/url?q=https://finance.yahoo.com/news/why-gamestop-gme-shares-trading-162132483.html&sa=U&ved=2ahUKEwiAhsGqqZaFAxVp5MkDHUKRCdEQxfQBegQIABAC&usg=AOvVaw3q8Tmd786XYJRnK_avmu6I', '/url?q=https://finance.yahoo.com/news/gamestop-gme-q4-earnings-miss-143600702.html&sa=U&ved=2ahUKEwiAhsGqqZaFAxVp5MkDHUKRCdEQxfQBegQICRAC&usg=AOvVaw1-ZT91C0Tz3WoKETleZvg4', '/url?q=https://finance.yahoo.com/video/gamestop-shares-fall-missing-q4-210828603.html&sa=U&ved=2ahUKEwiAhsGqqZaFAxVp5MkDHUKRCdEQxfQBegQIAxAC&usg=AOvVaw3PNpo02Yie9EX9_VpU17dc', '/url?q=https://finance.yahoo.com/news/earnings-watch-gamestop-gme-reports-184241519.html&sa=U&ved=2ahUKEwiAhsGqqZaFAxVp5MkDHUKRCdEQxfQBegQICBAC&usg=AOvVaw0co55g1jwU-hrsmUKaOjXa', '/url?q=https://finance.yahoo.com/news/gamestop-nyse-gme-misses-q4-200940979.html&sa=U&ved=2ahUKEwiAhsGqqZaFAxVp5MkDHUKRCdEQxfQBegQIBRAC&usg=AOvVaw15fn_NbyytB-OQaKV9jsSO', '/url?q=https://finance.yahoo.com/news/gamestop-gme-q4-earnings-revenues-212003206.html&sa=U&ved=2ahUKEwiAhsGqqZaFAxVp5MkDHUKRCdEQxfQBegQIAhAC&usg=AOvVaw10vy6W7vbRpqNMRkfU23Cx', '/url?q=https://finance.yahoo.com/video/gamestop-plunges-earnings-trump-media-140954471.html&sa=U&ved=2ahUKEwiAhsGqqZaFAxVp5MkDHUKRCdEQxfQBegQIBBAC&usg=AOvVaw1_KlUl93iJwRoU7x795l05', '/url?q=https://finance.yahoo.com/news/gamestop-reports-fourth-quarter-fiscal-200500541.html&sa=U&ved=2ahUKEwiAhsGqqZaFAxVp5MkDHUKRCdEQxfQBegQIBxAC&usg=AOvVaw2M65Q3UJEBR2q5IuYP4yTI', '/url?q=https://finance.yahoo.com/video/fedspeak-pce-print-gamestop-earnings-203144851.html&sa=U&ved=2ahUKEwiAhsGqqZaFAxVp5MkDHUKRCdEQxfQBegQIARAC&usg=AOvVaw0KZGFynNUSHHy-amQ5FN72', '/url?q=https://finance.yahoo.com/news/unveiling-gamestop-gme-value-really-155119864.html&sa=U&ved=2ahUKEwiAhsGqqZaFAxVp5MkDHUKRCdEQxfQBegQIBhAC&usg=AOvVaw3945tr4zovq_22xo0OwYls', '/search?q=yahoo+finance+GME&sca_esv=f467e1d66e3ba319&ie=UTF-8&tbm=nws&ei=Pg0FZoDvA-nIp84PwqKmiA0&start=10&sa=N', '/url?q=https://support.google.com/websearch%3Fp%3Dws_settings_location%26hl%3Den&opi=89978449&sa=U&ved=0ahUKEwiAhsGqqZaFAxVp5MkDHUKRCdEQty4IUQ&usg=AOvVaw0NFW6-f8-4gn1gJpcXzZ85', '/url?q=https://accounts.google.com/ServiceLogin%3Fcontinue%3Dhttps://www.google.com/search%253Fq%253Dyahoo%252Bfinance%252BGME%2526tbm%253Dnws%26hl%3Den&opi=89978449&sa=U&ved=0ahUKEwiAhsGqqZaFAxVp5MkDHUKRCdEQxs8CCFI&usg=AOvVaw28TfH1Tei26JmV7an_MN7z', 'https://www.google.com/preferences?hl=en&fg=1&sa=X&ved=0ahUKEwiAhsGqqZaFAxVp5MkDHUKRCdEQ5fUCCFM', 'https://policies.google.com/privacy?hl=en&fg=1', 'https://policies.google.com/terms?hl=en&fg=1', '/setprefs?hl=en&prev=https://www.google.com/search?q%3Dyahoo%2Bfinance%2BGME%26tbm%3Dnws%26pccc%3D1&sig=0_6MqyG-OWV3z-5gQMQX2RqzE759k%3D&cs=2&sa=X&ved=0ahUKEwiAhsGqqZaFAxVp5MkDHUKRCdEQjcAJCFQ'], ['/?sa=X&ved=0ahUKEwiYsdeqqZaFAxVO8MkDHTXgDKIQOwgC', '/search?q=yahoo+finance+TSLA&sca_esv=f467e1d66e3ba319&ie=UTF-8&tbm=nws&gbv=1&sei=Pg0FZpiaGs7gp84PtcCzkAo', '/search?q=yahoo+finance+TSLA&sca_esv=f467e1d66e3ba319&ie=UTF-8&source=lnms&sa=X&ved=0ahUKEwiYsdeqqZaFAxVO8MkDHTXgDKIQ_AUIBSgA', '/search?q=yahoo+finance+TSLA&sca_esv=f467e1d66e3ba319&ie=UTF-8&tbm=isch&source=lnms&sa=X&ved=0ahUKEwiYsdeqqZaFAxVO8MkDHTXgDKIQ_AUIBygC', '/search?q=yahoo+finance+TSLA&sca_esv=f467e1d66e3ba319&ie=UTF-8&tbm=vid&source=lnms&sa=X&ved=0ahUKEwiYsdeqqZaFAxVO8MkDHTXgDKIQ_AUICCgD', '/url?q=https://maps.google.com/maps%3Fq%3Dyahoo%2Bfinance%2BTSLA%26um%3D1%26ie%3DUTF-8%26ved%3D1t:200713%26ictx%3D111&opi=89978449&sa=U&ved=0ahUKEwiYsdeqqZaFAxVO8MkDHTXgDKIQiaAMCAkoBA&usg=AOvVaw0EC-RamrxWeEJPkn7L25SM', '/url?q=/search%3Fq%3Dyahoo%2Bfinance%2BTSLA%26sca_esv%3Df467e1d66e3ba319%26ie%3DUTF-8%26tbm%3Dshop%26source%3Dlnms%26ved%3D1t:200713%26ictx%3D111&opi=89978449&sa=U&ved=0ahUKEwiYsdeqqZaFAxVO8MkDHTXgDKIQiaAMCAooBQ&usg=AOvVaw3OF4xS-rgQANfSDPkoqoaa', '/search?q=yahoo+finance+TSLA&sca_esv=f467e1d66e3ba319&ie=UTF-8&tbm=bks&source=lnms&sa=X&ved=0ahUKEwiYsdeqqZaFAxVO8MkDHTXgDKIQ_AUICygG', '/advanced_search', '/search?q=yahoo+finance+TSLA&sca_esv=f467e1d66e3ba319&ie=UTF-8&tbm=nws&source=lnt&tbs=qdr:h&sa=X&ved=0ahUKEwiYsdeqqZaFAxVO8MkDHTXgDKIQpwUIDQ', '/search?q=yahoo+finance+TSLA&sca_esv=f467e1d66e3ba319&ie=UTF-8&tbm=nws&source=lnt&tbs=qdr:d&sa=X&ved=0ahUKEwiYsdeqqZaFAxVO8MkDHTXgDKIQpwUIDg', '/search?q=yahoo+finance+TSLA&sca_esv=f467e1d66e3ba319&ie=UTF-8&tbm=nws&source=lnt&tbs=qdr:w&sa=X&ved=0ahUKEwiYsdeqqZaFAxVO8MkDHTXgDKIQpwUIDw', '/search?q=yahoo+finance+TSLA&sca_esv=f467e1d66e3ba319&ie=UTF-8&tbm=nws&source=lnt&tbs=qdr:m&sa=X&ved=0ahUKEwiYsdeqqZaFAxVO8MkDHTXgDKIQpwUIEA', '/search?q=yahoo+finance+TSLA&sca_esv=f467e1d66e3ba319&ie=UTF-8&tbm=nws&source=lnt&tbs=qdr:y&sa=X&ved=0ahUKEwiYsdeqqZaFAxVO8MkDHTXgDKIQpwUIEQ', '/search?q=yahoo+finance+TSLA&sca_esv=f467e1d66e3ba319&ie=UTF-8&tbm=nws&source=lnt&tbs=ar:1&sa=X&ved=0ahUKEwiYsdeqqZaFAxVO8MkDHTXgDKIQpwUIEg', '/search?q=yahoo+finance+TSLA&sca_esv=f467e1d66e3ba319&ie=UTF-8&tbm=nws&source=lnt&tbs=sbd:1&sa=X&ved=0ahUKEwiYsdeqqZaFAxVO8MkDHTXgDKIQpwUIFA', '/url?q=https://finance.yahoo.com/news/tesla-tsla-outpaces-stock-market-214518882.html&sa=U&ved=2ahUKEwiYsdeqqZaFAxVO8MkDHTXgDKIQxfQBegQIAxAC&usg=AOvVaw010vFvNUtBIs90bMsoy9R6', '/url?q=https://finance.yahoo.com/video/tesla-gets-another-price-target-151332458.html&sa=U&ved=2ahUKEwiYsdeqqZaFAxVO8MkDHTXgDKIQxfQBegQICRAC&usg=AOvVaw2pQCSD-b3Z4chHlkR9ukcf', '/url?q=https://finance.yahoo.com/video/tesla-catl-partnership-could-game-194445639.html&sa=U&ved=2ahUKEwiYsdeqqZaFAxVO8MkDHTXgDKIQxfQBegQIAhAC&usg=AOvVaw0baBZHcF7I5zsc2zeFRBx5', '/url?q=https://finance.yahoo.com/news/better-electric-vehicle-stock-tesla-135300941.html&sa=U&ved=2ahUKEwiYsdeqqZaFAxVO8MkDHTXgDKIQxfQBegQIBBAC&usg=AOvVaw0Os2RloJ9yYyTdWzc9JS-y', '/url?q=https://finance.yahoo.com/news/why-tesla-stock-just-popped-153348183.html&sa=U&ved=2ahUKEwiYsdeqqZaFAxVO8MkDHTXgDKIQxfQBegQICBAC&usg=AOvVaw2axqbmGwo7RbFZo4Q1PPVA', '/url?q=https://finance.yahoo.com/news/where-tesla-stock-2030-214349914.html&sa=U&ved=2ahUKEwiYsdeqqZaFAxVO8MkDHTXgDKIQxfQBegQIBxAC&usg=AOvVaw2Q-pvYGzFO6B5rScajSWqF', '/url?q=https://finance.yahoo.com/news/know-beyond-why-tesla-inc-130014305.html&sa=U&ved=2ahUKEwiYsdeqqZaFAxVO8MkDHTXgDKIQxfQBegQIARAC&usg=AOvVaw3wEdfa-HV5rT8WRooBgANS', '/url?q=https://finance.yahoo.com/news/buy-dip-tesla-stock-forget-183600395.html&sa=U&ved=2ahUKEwiYsdeqqZaFAxVO8MkDHTXgDKIQxfQBegQIABAC&usg=AOvVaw0HJWsnS5nqZO2t0WHryAUs', '/url?q=https://finance.yahoo.com/news/forget-tesla-1-unstoppable-artificial-082700121.html&sa=U&ved=2ahUKEwiYsdeqqZaFAxVO8MkDHTXgDKIQxfQBegQIBhAC&usg=AOvVaw33DkkKOC8qFG_z4b_cxp6w', '/url?q=https://finance.yahoo.com/news/best-stocks-buy-tesla-stock-110000589.html&sa=U&ved=2ahUKEwiYsdeqqZaFAxVO8MkDHTXgDKIQxfQBegQIBRAC&usg=AOvVaw1nCPyit8LY5x4YMKBjvYT5', '/search?q=yahoo+finance+TSLA&sca_esv=f467e1d66e3ba319&ie=UTF-8&tbm=nws&ei=Pg0FZpiaGs7gp84PtcCzkAo&start=10&sa=N', '/url?q=https://support.google.com/websearch%3Fp%3Dws_settings_location%26hl%3Den&opi=89978449&sa=U&ved=0ahUKEwiYsdeqqZaFAxVO8MkDHTXgDKIQty4IUQ&usg=AOvVaw3HH0ljWraY6z3DXwmLpBSE', '/url?q=https://accounts.google.com/ServiceLogin%3Fcontinue%3Dhttps://www.google.com/search%253Fq%253Dyahoo%252Bfinance%252BTSLA%2526tbm%253Dnws%26hl%3Den&opi=89978449&sa=U&ved=0ahUKEwiYsdeqqZaFAxVO8MkDHTXgDKIQxs8CCFI&usg=AOvVaw3pL4D2V_b3BSTfciD0ZC56', 'https://www.google.com/preferences?hl=en&fg=1&sa=X&ved=0ahUKEwiYsdeqqZaFAxVO8MkDHTXgDKIQ5fUCCFM', 'https://policies.google.com/privacy?hl=en&fg=1', 'https://policies.google.com/terms?hl=en&fg=1', '/setprefs?hl=en&prev=https://www.google.com/search?q%3Dyahoo%2Bfinance%2BTSLA%26tbm%3Dnws%26pccc%3D1&sig=0_avLdY2brcuud4l5FJ-EW9MKaDrY%3D&cs=2&sa=X&ved=0ahUKEwiYsdeqqZaFAxVO8MkDHTXgDKIQjcAJCFQ'], ['/?sa=X&ved=0ahUKEwir7u-qqZaFAxWM78kDHSISDAcQOwgC', '/search?q=yahoo+finance+BTC&sca_esv=f467e1d66e3ba319&sca_upv=1&ie=UTF-8&tbm=nws&gbv=1&sei=Pg0FZqvXMozfp84PoqSwOA', '/search?q=yahoo+finance+BTC&sca_esv=f467e1d66e3ba319&sca_upv=1&ie=UTF-8&source=lnms&sa=X&ved=0ahUKEwir7u-qqZaFAxWM78kDHSISDAcQ_AUIBSgA', '/search?q=yahoo+finance+BTC&sca_esv=f467e1d66e3ba319&sca_upv=1&ie=UTF-8&tbm=isch&source=lnms&sa=X&ved=0ahUKEwir7u-qqZaFAxWM78kDHSISDAcQ_AUIBygC', '/search?q=yahoo+finance+BTC&sca_esv=f467e1d66e3ba319&sca_upv=1&ie=UTF-8&tbm=vid&source=lnms&sa=X&ved=0ahUKEwir7u-qqZaFAxWM78kDHSISDAcQ_AUICCgD', '/url?q=https://maps.google.com/maps%3Fq%3Dyahoo%2Bfinance%2BBTC%26um%3D1%26ie%3DUTF-8%26ved%3D1t:200713%26ictx%3D111&opi=89978449&sa=U&ved=0ahUKEwir7u-qqZaFAxWM78kDHSISDAcQiaAMCAkoBA&usg=AOvVaw2A9pSKa9lqO3ZepGAu8jbX', '/url?q=/search%3Fq%3Dyahoo%2Bfinance%2BBTC%26sca_esv%3Df467e1d66e3ba319%26sca_upv%3D1%26ie%3DUTF-8%26tbm%3Dshop%26source%3Dlnms%26ved%3D1t:200713%26ictx%3D111&opi=89978449&sa=U&ved=0ahUKEwir7u-qqZaFAxWM78kDHSISDAcQiaAMCAooBQ&usg=AOvVaw1Tgso-PB-pUKvDSQk1e2uC', '/search?q=yahoo+finance+BTC&sca_esv=f467e1d66e3ba319&sca_upv=1&ie=UTF-8&tbm=bks&source=lnms&sa=X&ved=0ahUKEwir7u-qqZaFAxWM78kDHSISDAcQ_AUICygG', '/advanced_search', '/search?q=yahoo+finance+BTC&sca_esv=f467e1d66e3ba319&sca_upv=1&ie=UTF-8&tbm=nws&source=lnt&tbs=qdr:h&sa=X&ved=0ahUKEwir7u-qqZaFAxWM78kDHSISDAcQpwUIDQ', '/search?q=yahoo+finance+BTC&sca_esv=f467e1d66e3ba319&sca_upv=1&ie=UTF-8&tbm=nws&source=lnt&tbs=qdr:d&sa=X&ved=0ahUKEwir7u-qqZaFAxWM78kDHSISDAcQpwUIDg', '/search?q=yahoo+finance+BTC&sca_esv=f467e1d66e3ba319&sca_upv=1&ie=UTF-8&tbm=nws&source=lnt&tbs=qdr:w&sa=X&ved=0ahUKEwir7u-qqZaFAxWM78kDHSISDAcQpwUIDw', '/search?q=yahoo+finance+BTC&sca_esv=f467e1d66e3ba319&sca_upv=1&ie=UTF-8&tbm=nws&source=lnt&tbs=qdr:m&sa=X&ved=0ahUKEwir7u-qqZaFAxWM78kDHSISDAcQpwUIEA', '/search?q=yahoo+finance+BTC&sca_esv=f467e1d66e3ba319&sca_upv=1&ie=UTF-8&tbm=nws&source=lnt&tbs=qdr:y&sa=X&ved=0ahUKEwir7u-qqZaFAxWM78kDHSISDAcQpwUIEQ', '/search?q=yahoo+finance+BTC&sca_esv=f467e1d66e3ba319&sca_upv=1&ie=UTF-8&tbm=nws&source=lnt&tbs=ar:1&sa=X&ved=0ahUKEwir7u-qqZaFAxWM78kDHSISDAcQpwUIEg', '/search?q=yahoo+finance+BTC&sca_esv=f467e1d66e3ba319&sca_upv=1&ie=UTF-8&tbm=nws&source=lnt&tbs=sbd:1&sa=X&ved=0ahUKEwir7u-qqZaFAxWM78kDHSISDAcQpwUIFA', '/url?q=https://finance.yahoo.com/news/binances-exit-nigeria-means-p2p-193018323.html&sa=U&ved=2ahUKEwir7u-qqZaFAxWM78kDHSISDAcQxfQBegQIBBAC&usg=AOvVaw2gFKCkcoJeRbULBLFVqzcB', '/url?q=https://finance.yahoo.com/news/hashdexs-defi-begins-trading-spot-191136551.html&sa=U&ved=2ahUKEwir7u-qqZaFAxWM78kDHSISDAcQxfQBegQICRAC&usg=AOvVaw1lHo5w_7X1AnjB4e8mI1DC', '/url?q=https://finance.yahoo.com/news/u-eleventh-spot-bitcoin-etf-161427025.html%3Ffr%3Dsycsrp_catchall&sa=U&ved=2ahUKEwir7u-qqZaFAxWM78kDHSISDAcQxfQBegQIAhAC&usg=AOvVaw3wyfQdUnItBN3jJWOQFsa7', '/url?q=https://finance.yahoo.com/video/crypto-tax-burden-may-not-154027902.html&sa=U&ved=2ahUKEwir7u-qqZaFAxWM78kDHSISDAcQxfQBegQIBRAC&usg=AOvVaw0Nt22WwpCU2oYy-IazOZ4X', '/url?q=https://finance.yahoo.com/news/sam-bankman-fried-is-about-to-learn-how-much-prison-time-he-gets-for-ftx-crimes-153316259.html&sa=U&ved=2ahUKEwir7u-qqZaFAxWM78kDHSISDAcQxfQBegQIBxAC&usg=AOvVaw17tKcxjm7sR0e8DsF8sGWg', '/url?q=https://finance.yahoo.com/news/larry-finks-blackrock-deploys-100m-150012952.html&sa=U&ved=2ahUKEwir7u-qqZaFAxWM78kDHSISDAcQxfQBegQICBAC&usg=AOvVaw24Y9zwsYH7YUVoZfLxPNeu', '/url?q=https://finance.yahoo.com/news/o2ts-social-trading-exchange-token-150000071.html&sa=U&ved=2ahUKEwir7u-qqZaFAxWM78kDHSISDAcQxfQBegQIAxAC&usg=AOvVaw0yXEoE2K4xsv_qvAf5f2n4', '/url?q=https://finance.yahoo.com/news/1-top-cryptocurrency-buy-soars-100000573.html&sa=U&ved=2ahUKEwir7u-qqZaFAxWM78kDHSISDAcQxfQBegQIABAC&usg=AOvVaw19GwfPj0CJhHY3qV6XwRCv', '/url?q=https://finance.yahoo.com/news/trump-media-tesla-bitcoin-ds-smith-trending-tickers-091602165.html&sa=U&ved=2ahUKEwir7u-qqZaFAxWM78kDHSISDAcQxfQBegQIARAC&usg=AOvVaw2G3HEZEDFPSrQHuvDuRO8A', '/url?q=https://finance.yahoo.com/video/spot-bitcoin-etf-why-sparked-060048670.html&sa=U&ved=2ahUKEwir7u-qqZaFAxWM78kDHSISDAcQxfQBegQIBhAC&usg=AOvVaw1LZ40i37vNvFPvRKSiU2X_', '/search?q=yahoo+finance+BTC&sca_esv=f467e1d66e3ba319&sca_upv=1&ie=UTF-8&tbm=nws&ei=Pg0FZqvXMozfp84PoqSwOA&start=10&sa=N', '/url?q=https://support.google.com/websearch%3Fp%3Dws_settings_location%26hl%3Den&opi=89978449&sa=U&ved=0ahUKEwir7u-qqZaFAxWM78kDHSISDAcQty4IUw&usg=AOvVaw0kBz3gPQnLpdKAKZVjgstq', '/url?q=https://accounts.google.com/ServiceLogin%3Fcontinue%3Dhttps://www.google.com/search%253Fq%253Dyahoo%252Bfinance%252BBTC%2526tbm%253Dnws%26hl%3Den&opi=89978449&sa=U&ved=0ahUKEwir7u-qqZaFAxWM78kDHSISDAcQxs8CCFQ&usg=AOvVaw1bk4CgKOezd9Ws4F6d4X11', 'https://www.google.com/preferences?hl=en&fg=1&sa=X&ved=0ahUKEwir7u-qqZaFAxWM78kDHSISDAcQ5fUCCFU', 'https://policies.google.com/privacy?hl=en&fg=1', 'https://policies.google.com/terms?hl=en&fg=1', '/setprefs?hl=en&prev=https://www.google.com/search?q%3Dyahoo%2Bfinance%2BBTC%26tbm%3Dnws%26pccc%3D1&sig=0_pygj7j0u4D9XHRQ2XeBUD-uUYjg%3D&cs=2&sa=X&ved=0ahUKEwir7u-qqZaFAxWM78kDHSISDAcQjcAJCFY']])"
            ]
          },
          "metadata": {},
          "execution_count": 17
        }
      ]
    },
    {
      "cell_type": "code",
      "source": [
        "raw_urls['GME']"
      ],
      "metadata": {
        "colab": {
          "base_uri": "https://localhost:8080/"
        },
        "id": "TKpNTS-O7H--",
        "outputId": "b682d794-7896-4a6b-a284-438603bedb98"
      },
      "execution_count": 18,
      "outputs": [
        {
          "output_type": "execute_result",
          "data": {
            "text/plain": [
              "['/?sa=X&ved=0ahUKEwiAhsGqqZaFAxVp5MkDHUKRCdEQOwgC',\n",
              " '/search?q=yahoo+finance+GME&sca_esv=f467e1d66e3ba319&ie=UTF-8&tbm=nws&gbv=1&sei=Pg0FZoDvA-nIp84PwqKmiA0',\n",
              " '/search?q=yahoo+finance+GME&sca_esv=f467e1d66e3ba319&ie=UTF-8&source=lnms&sa=X&ved=0ahUKEwiAhsGqqZaFAxVp5MkDHUKRCdEQ_AUIBSgA',\n",
              " '/search?q=yahoo+finance+GME&sca_esv=f467e1d66e3ba319&ie=UTF-8&tbm=vid&source=lnms&sa=X&ved=0ahUKEwiAhsGqqZaFAxVp5MkDHUKRCdEQ_AUIBygC',\n",
              " '/search?q=yahoo+finance+GME&sca_esv=f467e1d66e3ba319&ie=UTF-8&tbm=isch&source=lnms&sa=X&ved=0ahUKEwiAhsGqqZaFAxVp5MkDHUKRCdEQ_AUICCgD',\n",
              " '/url?q=https://maps.google.com/maps%3Fq%3Dyahoo%2Bfinance%2BGME%26um%3D1%26ie%3DUTF-8%26ved%3D1t:200713%26ictx%3D111&opi=89978449&sa=U&ved=0ahUKEwiAhsGqqZaFAxVp5MkDHUKRCdEQiaAMCAkoBA&usg=AOvVaw0LtU_b1As1wCMrTUGBsfge',\n",
              " '/url?q=/search%3Fq%3Dyahoo%2Bfinance%2BGME%26sca_esv%3Df467e1d66e3ba319%26ie%3DUTF-8%26tbm%3Dshop%26source%3Dlnms%26ved%3D1t:200713%26ictx%3D111&opi=89978449&sa=U&ved=0ahUKEwiAhsGqqZaFAxVp5MkDHUKRCdEQiaAMCAooBQ&usg=AOvVaw13qkksVm3gB5wcsLq6sITh',\n",
              " '/search?q=yahoo+finance+GME&sca_esv=f467e1d66e3ba319&ie=UTF-8&tbm=bks&source=lnms&sa=X&ved=0ahUKEwiAhsGqqZaFAxVp5MkDHUKRCdEQ_AUICygG',\n",
              " '/advanced_search',\n",
              " '/search?q=yahoo+finance+GME&sca_esv=f467e1d66e3ba319&ie=UTF-8&tbm=nws&source=lnt&tbs=qdr:h&sa=X&ved=0ahUKEwiAhsGqqZaFAxVp5MkDHUKRCdEQpwUIDQ',\n",
              " '/search?q=yahoo+finance+GME&sca_esv=f467e1d66e3ba319&ie=UTF-8&tbm=nws&source=lnt&tbs=qdr:d&sa=X&ved=0ahUKEwiAhsGqqZaFAxVp5MkDHUKRCdEQpwUIDg',\n",
              " '/search?q=yahoo+finance+GME&sca_esv=f467e1d66e3ba319&ie=UTF-8&tbm=nws&source=lnt&tbs=qdr:w&sa=X&ved=0ahUKEwiAhsGqqZaFAxVp5MkDHUKRCdEQpwUIDw',\n",
              " '/search?q=yahoo+finance+GME&sca_esv=f467e1d66e3ba319&ie=UTF-8&tbm=nws&source=lnt&tbs=qdr:m&sa=X&ved=0ahUKEwiAhsGqqZaFAxVp5MkDHUKRCdEQpwUIEA',\n",
              " '/search?q=yahoo+finance+GME&sca_esv=f467e1d66e3ba319&ie=UTF-8&tbm=nws&source=lnt&tbs=qdr:y&sa=X&ved=0ahUKEwiAhsGqqZaFAxVp5MkDHUKRCdEQpwUIEQ',\n",
              " '/search?q=yahoo+finance+GME&sca_esv=f467e1d66e3ba319&ie=UTF-8&tbm=nws&source=lnt&tbs=ar:1&sa=X&ved=0ahUKEwiAhsGqqZaFAxVp5MkDHUKRCdEQpwUIEg',\n",
              " '/search?q=yahoo+finance+GME&sca_esv=f467e1d66e3ba319&ie=UTF-8&tbm=nws&source=lnt&tbs=sbd:1&sa=X&ved=0ahUKEwiAhsGqqZaFAxVp5MkDHUKRCdEQpwUIFA',\n",
              " '/url?q=https://finance.yahoo.com/news/why-gamestop-gme-shares-trading-162132483.html&sa=U&ved=2ahUKEwiAhsGqqZaFAxVp5MkDHUKRCdEQxfQBegQIABAC&usg=AOvVaw3q8Tmd786XYJRnK_avmu6I',\n",
              " '/url?q=https://finance.yahoo.com/news/gamestop-gme-q4-earnings-miss-143600702.html&sa=U&ved=2ahUKEwiAhsGqqZaFAxVp5MkDHUKRCdEQxfQBegQICRAC&usg=AOvVaw1-ZT91C0Tz3WoKETleZvg4',\n",
              " '/url?q=https://finance.yahoo.com/video/gamestop-shares-fall-missing-q4-210828603.html&sa=U&ved=2ahUKEwiAhsGqqZaFAxVp5MkDHUKRCdEQxfQBegQIAxAC&usg=AOvVaw3PNpo02Yie9EX9_VpU17dc',\n",
              " '/url?q=https://finance.yahoo.com/news/earnings-watch-gamestop-gme-reports-184241519.html&sa=U&ved=2ahUKEwiAhsGqqZaFAxVp5MkDHUKRCdEQxfQBegQICBAC&usg=AOvVaw0co55g1jwU-hrsmUKaOjXa',\n",
              " '/url?q=https://finance.yahoo.com/news/gamestop-nyse-gme-misses-q4-200940979.html&sa=U&ved=2ahUKEwiAhsGqqZaFAxVp5MkDHUKRCdEQxfQBegQIBRAC&usg=AOvVaw15fn_NbyytB-OQaKV9jsSO',\n",
              " '/url?q=https://finance.yahoo.com/news/gamestop-gme-q4-earnings-revenues-212003206.html&sa=U&ved=2ahUKEwiAhsGqqZaFAxVp5MkDHUKRCdEQxfQBegQIAhAC&usg=AOvVaw10vy6W7vbRpqNMRkfU23Cx',\n",
              " '/url?q=https://finance.yahoo.com/video/gamestop-plunges-earnings-trump-media-140954471.html&sa=U&ved=2ahUKEwiAhsGqqZaFAxVp5MkDHUKRCdEQxfQBegQIBBAC&usg=AOvVaw1_KlUl93iJwRoU7x795l05',\n",
              " '/url?q=https://finance.yahoo.com/news/gamestop-reports-fourth-quarter-fiscal-200500541.html&sa=U&ved=2ahUKEwiAhsGqqZaFAxVp5MkDHUKRCdEQxfQBegQIBxAC&usg=AOvVaw2M65Q3UJEBR2q5IuYP4yTI',\n",
              " '/url?q=https://finance.yahoo.com/video/fedspeak-pce-print-gamestop-earnings-203144851.html&sa=U&ved=2ahUKEwiAhsGqqZaFAxVp5MkDHUKRCdEQxfQBegQIARAC&usg=AOvVaw0KZGFynNUSHHy-amQ5FN72',\n",
              " '/url?q=https://finance.yahoo.com/news/unveiling-gamestop-gme-value-really-155119864.html&sa=U&ved=2ahUKEwiAhsGqqZaFAxVp5MkDHUKRCdEQxfQBegQIBhAC&usg=AOvVaw3945tr4zovq_22xo0OwYls',\n",
              " '/search?q=yahoo+finance+GME&sca_esv=f467e1d66e3ba319&ie=UTF-8&tbm=nws&ei=Pg0FZoDvA-nIp84PwqKmiA0&start=10&sa=N',\n",
              " '/url?q=https://support.google.com/websearch%3Fp%3Dws_settings_location%26hl%3Den&opi=89978449&sa=U&ved=0ahUKEwiAhsGqqZaFAxVp5MkDHUKRCdEQty4IUQ&usg=AOvVaw0NFW6-f8-4gn1gJpcXzZ85',\n",
              " '/url?q=https://accounts.google.com/ServiceLogin%3Fcontinue%3Dhttps://www.google.com/search%253Fq%253Dyahoo%252Bfinance%252BGME%2526tbm%253Dnws%26hl%3Den&opi=89978449&sa=U&ved=0ahUKEwiAhsGqqZaFAxVp5MkDHUKRCdEQxs8CCFI&usg=AOvVaw28TfH1Tei26JmV7an_MN7z',\n",
              " 'https://www.google.com/preferences?hl=en&fg=1&sa=X&ved=0ahUKEwiAhsGqqZaFAxVp5MkDHUKRCdEQ5fUCCFM',\n",
              " 'https://policies.google.com/privacy?hl=en&fg=1',\n",
              " 'https://policies.google.com/terms?hl=en&fg=1',\n",
              " '/setprefs?hl=en&prev=https://www.google.com/search?q%3Dyahoo%2Bfinance%2BGME%26tbm%3Dnws%26pccc%3D1&sig=0_6MqyG-OWV3z-5gQMQX2RqzE759k%3D&cs=2&sa=X&ved=0ahUKEwiAhsGqqZaFAxVp5MkDHUKRCdEQjcAJCFQ']"
            ]
          },
          "metadata": {},
          "execution_count": 18
        }
      ]
    },
    {
      "cell_type": "code",
      "source": [
        "import re"
      ],
      "metadata": {
        "id": "sNaK7FDDCMa0"
      },
      "execution_count": 19,
      "outputs": []
    },
    {
      "cell_type": "code",
      "source": [
        "exclude_list = ['maps', 'policies', 'preferences', 'accounts', 'support']"
      ],
      "metadata": {
        "id": "PI7BZnuJCPOx"
      },
      "execution_count": 20,
      "outputs": []
    },
    {
      "cell_type": "code",
      "source": [
        "def strip_unwanted_urls(urls, exclude_list):\n",
        "    val = []\n",
        "    for url in urls:\n",
        "        if 'https://' in url and not any(exclude_word in url for exclude_word in exclude_list):\n",
        "            res = re.findall(r'(https?://\\S+)', url)[0].split('&')[0]\n",
        "            val.append(res)\n",
        "    return list(set(val))"
      ],
      "metadata": {
        "id": "LJ_wQQnyCbrY"
      },
      "execution_count": 21,
      "outputs": []
    },
    {
      "cell_type": "code",
      "source": [
        "cleaned_urls = {ticker:strip_unwanted_urls(raw_urls[ticker], exclude_list) for ticker in monitored_tickers}\n",
        "cleaned_urls"
      ],
      "metadata": {
        "colab": {
          "base_uri": "https://localhost:8080/"
        },
        "id": "Kf1f0jiMQxPA",
        "outputId": "508dea98-6af4-453a-9fa3-b2abd8dd5a43"
      },
      "execution_count": 22,
      "outputs": [
        {
          "output_type": "execute_result",
          "data": {
            "text/plain": [
              "{'GME': ['https://finance.yahoo.com/news/gamestop-gme-q4-earnings-revenues-212003206.html',\n",
              "  'https://finance.yahoo.com/news/why-gamestop-gme-shares-trading-162132483.html',\n",
              "  'https://finance.yahoo.com/video/gamestop-plunges-earnings-trump-media-140954471.html',\n",
              "  'https://finance.yahoo.com/news/gamestop-reports-fourth-quarter-fiscal-200500541.html',\n",
              "  'https://finance.yahoo.com/video/gamestop-shares-fall-missing-q4-210828603.html',\n",
              "  'https://finance.yahoo.com/news/gamestop-nyse-gme-misses-q4-200940979.html',\n",
              "  'https://finance.yahoo.com/news/gamestop-gme-q4-earnings-miss-143600702.html',\n",
              "  'https://www.google.com/search?q%3Dyahoo%2Bfinance%2BGME%26tbm%3Dnws%26pccc%3D1',\n",
              "  'https://finance.yahoo.com/news/earnings-watch-gamestop-gme-reports-184241519.html',\n",
              "  'https://finance.yahoo.com/news/unveiling-gamestop-gme-value-really-155119864.html',\n",
              "  'https://finance.yahoo.com/video/fedspeak-pce-print-gamestop-earnings-203144851.html'],\n",
              " 'TSLA': ['https://finance.yahoo.com/news/why-tesla-stock-just-popped-153348183.html',\n",
              "  'https://finance.yahoo.com/news/buy-dip-tesla-stock-forget-183600395.html',\n",
              "  'https://finance.yahoo.com/news/best-stocks-buy-tesla-stock-110000589.html',\n",
              "  'https://finance.yahoo.com/news/know-beyond-why-tesla-inc-130014305.html',\n",
              "  'https://finance.yahoo.com/news/better-electric-vehicle-stock-tesla-135300941.html',\n",
              "  'https://finance.yahoo.com/news/where-tesla-stock-2030-214349914.html',\n",
              "  'https://finance.yahoo.com/video/tesla-gets-another-price-target-151332458.html',\n",
              "  'https://finance.yahoo.com/news/forget-tesla-1-unstoppable-artificial-082700121.html',\n",
              "  'https://finance.yahoo.com/video/tesla-catl-partnership-could-game-194445639.html',\n",
              "  'https://finance.yahoo.com/news/tesla-tsla-outpaces-stock-market-214518882.html',\n",
              "  'https://www.google.com/search?q%3Dyahoo%2Bfinance%2BTSLA%26tbm%3Dnws%26pccc%3D1'],\n",
              " 'BTC': ['https://finance.yahoo.com/video/spot-bitcoin-etf-why-sparked-060048670.html',\n",
              "  'https://www.google.com/search?q%3Dyahoo%2Bfinance%2BBTC%26tbm%3Dnws%26pccc%3D1',\n",
              "  'https://finance.yahoo.com/news/u-eleventh-spot-bitcoin-etf-161427025.html%3Ffr%3Dsycsrp_catchall',\n",
              "  'https://finance.yahoo.com/video/crypto-tax-burden-may-not-154027902.html',\n",
              "  'https://finance.yahoo.com/news/binances-exit-nigeria-means-p2p-193018323.html',\n",
              "  'https://finance.yahoo.com/news/sam-bankman-fried-is-about-to-learn-how-much-prison-time-he-gets-for-ftx-crimes-153316259.html',\n",
              "  'https://finance.yahoo.com/news/o2ts-social-trading-exchange-token-150000071.html',\n",
              "  'https://finance.yahoo.com/news/1-top-cryptocurrency-buy-soars-100000573.html',\n",
              "  'https://finance.yahoo.com/news/hashdexs-defi-begins-trading-spot-191136551.html',\n",
              "  'https://finance.yahoo.com/news/larry-finks-blackrock-deploys-100m-150012952.html',\n",
              "  'https://finance.yahoo.com/news/trump-media-tesla-bitcoin-ds-smith-trending-tickers-091602165.html']}"
            ]
          },
          "metadata": {},
          "execution_count": 22
        }
      ]
    },
    {
      "cell_type": "code",
      "source": [
        "def scrape_and_process(URLs):\n",
        "    ARTICLES = []\n",
        "    for url in URLs:\n",
        "        r = requests.get(url)\n",
        "        soup = BeautifulSoup(r.text, 'html.parser')\n",
        "        paragraphs = soup.find_all('p')\n",
        "        text = [paragraph.text for paragraph in paragraphs]\n",
        "        words = ' '.join(text).split(' ')[:350]\n",
        "        ARTICLE = ' '.join(words)\n",
        "        ARTICLES.append(ARTICLE)\n",
        "    return ARTICLES"
      ],
      "metadata": {
        "id": "8vInciBuQ91t"
      },
      "execution_count": 23,
      "outputs": []
    },
    {
      "cell_type": "code",
      "source": [
        "articles = {ticker:scrape_and_process(cleaned_urls[ticker]) for ticker in monitored_tickers}\n",
        "articles"
      ],
      "metadata": {
        "colab": {
          "base_uri": "https://localhost:8080/"
        },
        "id": "3h1E3QRAQ_jv",
        "outputId": "5fa6f44d-673b-4435-b01b-595ba1a8219b"
      },
      "execution_count": 24,
      "outputs": [
        {
          "output_type": "execute_result",
          "data": {
            "text/plain": [
              "{'GME': ['Thank you for your patience. Our engineers are working quickly to resolve the issue.',\n",
              "  \"Shares of video game retailer GameStop (NYSE:GME) fell 19.9% in the pre-market session after the company reported fourth-quarter results with revenue unfortunately falling short of analysts' expectations, driven by significant underperformance in its software segment ($465m of revenue vs. estimates of $670m). Because the company's software products have higher profit margins than its hardware products, it missed Wall Street's estimates on nearly every profitability metric. The company also didn't provide any guidance and said it would not host a conference call to discuss the results, which raises an eyebrow. Overall, this was a bad quarter for GameStop. The stock market overreacts to news, and big price drops can present good opportunities to buy high-quality stocks. Is now the time to buy GameStop? Access our full analysis report here, it's free. GameStop's shares are very volatile and over the last year have had 31 moves greater than 5%. But moves this big are very rare even for GameStop and that is indicating to us that this news had a significant impact on the market's perception of the business. The biggest move we wrote about over the last year was 6 months ago, when the stock gained 6.4% on the news that the company announced the appointment of Ryan Cohen as President, Chief Executive Officer and Chairman, effective immediately. While currently serving as Executive Chairman, Mr. Cohen will step down from this role upon assuming the position of Chairman. Cohen founded -ecommerce pet company Chewy in 2011 and served as Chewy's CEO until 2018. Following the sale of Chewy in 2017 and its IPO in 2019, Cohen disclosed a near 10% stake in GameStop in September 2020, making him the company's biggest individual investor. He then joined the board in January 2021 and has been credited with some major changes such as a few major executive replacements. GameStop is down 21.2% since the beginning of the year, and at $13.15 per share it is trading 51.2% below its 52-week high of $26.95 from June 2023. Investors who bought $1,000 worth of GameStop's shares 5 years ago would now be looking at an\",\n",
              "  'Thank you for your patience. Our engineers are working quickly to resolve the issue.',\n",
              "  'GRAPEVINE, Texas, March 26, 2024 (GLOBE NEWSWIRE) -- GameStop Corp. (NYSE: GME) (“GameStop” or the “Company”) today released financial results for the fourth quarter and fiscal year ended February\\xa03, 2024. The Company’s consolidated financial statements, including GAAP and non-GAAP results, are below. The Company’s Form 10-K and supplemental information can be found at https://investor.gamestop.com. FOURTH QUARTER OVERVIEW Net sales were $1.794 billion for the fourth quarter, compared to $2.226 billion in the prior year\\'s fourth quarter. Selling, general and administrative (“SG&A”) expenses were $359.2 million, or 20.0% of net sales, for the fourth quarter, compared to $453.4 million, or 20.4% of net sales, in the prior year\\'s fourth quarter. Net income was $63.1 million for the fourth quarter, compared to net income of $48.2 million for the prior year’s fourth quarter. Cash, cash equivalents and marketable securities were $1.199 billion at the close of the quarter. Long-term debt remains limited to a low-interest, unsecured term loan associated with the French government\\'s response to COVID-19. FULL YEAR OVERVIEW Net sales were $5.273 billion for fiscal year 2023, compared to $5.927 billion for fiscal year 2022. SG&A expenses were $1.324 billion, or 25.1% of net sales, for fiscal year 2023, compared to $1.681 billion, or 28.4% of net sales, for fiscal year 2022. Net income was $6.7 million for fiscal year 2023, compared to a net loss of $313.1 million for fiscal year 2022. Adjusted EBITDA of $64.7 million for fiscal year 2023, compared to adjusted EBITDA of ($192.7) million for fiscal year 2022. The Company will not be holding a conference call today. Additional information can be found in the Company’s Form 10-K. NON-GAAP MEASURES AND OTHER METRICS As a supplement to the Company’s financial results presented in accordance with U.S. generally accepted accounting principles (\"GAAP\"), GameStop may use certain non-GAAP measures, such as adjusted SG&A expenses, adjusted operating income (loss), adjusted net income (loss), adjusted earnings (loss) per share, adjusted EBITDA and free cash flow. The Company believes these non-GAAP financial measures provide useful information to investors in evaluating the Company’s core operating performance. Adjusted SG&A expenses, adjusted operating income',\n",
              "  'Thank you for your patience. Our engineers are working quickly to resolve the issue.',\n",
              "  \"Video game retailer GameStop (NYSE:GME) missed analysts' expectations in Q4 CY2023, with revenue down 19.4% year on year to $1.79 billion. It made a non-GAAP profit of $0.22 per share, improving from its profit of $0.16 per share in the same quarter last year. Is now the time to buy GameStop? Find out by accessing our full research report, it's free. Revenue: $1.79 billion vs analyst estimates of $2.05 billion (12.5% miss) EPS (non-GAAP): $0.22 vs analyst expectations of $0.30 (25.4% miss) Gross Margin (GAAP): 23.4%, up from 22.4% in the same quarter last year Free Cash Flow was -$18.7 million, down from $326.6 million in the same quarter last year GME did not provide any forward-looking guidance Market Capitalization: $4.62 billion Drawing gaming fans with demo units set up with the latest releases, GameStop (NYSE:GME) sells new and used video games, consoles, and accessories, as well as pop culture merchandise. After a long day, some of us want to just watch TV, play video games, listen to music, or scroll through our phones; electronics and gaming retailers sell the technology that makes this possible, plus more. Shoppers can find everything from surround-sound speakers to gaming controllers to home appliances in their stores. Competitive prices and helpful store associates that can talk through topics like the latest technology in gaming and installation keep customers coming back. This is a category that has moved rapidly online over the last few decades, so these electronics and gaming retailers have needed to be nimble and aggressive with their e-commerce and omnichannel investments. GameStop is a mid-sized retailer, which sometimes brings disadvantages compared to larger competitors benefiting from better economies of scale. On the other hand, it has an edge over smaller competitors with fewer resources and can still flex high growth rates because it's growing off a smaller base than its larger counterparts. As you can see below, the company's revenue has declined over the last four years, dropping 5% annually as its store count and sales at existing, established stores have both shrunk. This quarter, GameStop missed Wall Street's estimates and reported\",\n",
              "  'Thank you for your patience. Our engineers are working quickly to resolve the issue.',\n",
              "  '© 2024 - Privacy - Terms',\n",
              "  \"Video game retailer GameStop (NYSE:GME) will be announcing earnings results tomorrow afternoon. Here's what you need to know. Last quarter GameStop reported revenues of $1.08 billion, down 9.1% year on year, missing analyst expectations by 8.8%. It was a mixed quarter for the company, with an impressive beat of analysts' earnings estimates.\\xa0On the other hand, its revenue unfortunately missed analysts' expectations, driven by worse-than-expected hardware and software sales. Is GameStop buy or sell heading into the earnings? Read our full analysis here, it's free. This quarter analysts are expecting GameStop's revenue to decline 7.9% year on year to $2.05 billion, a further deceleration on the 1.2% year-over-year decrease in revenue the company had recorded in the same quarter last year. Adjusted earnings are expected to come in at $0.30 per share. Majority of analysts covering the company have reconfirmed their estimates over the last thirty days, suggesting they are expecting the business to stay the course heading into the earnings. The company missed Wall St's revenue estimates four times over the last two years. Looking at GameStop's peers in the specialty retail segment, some of them have already reported Q4 earnings results, giving us a hint of what we can expect. Best Buy's revenues decreased 0.6% year on year, beating analyst estimates by 0.6% and Ulta reported revenues up 10.2% year on year, exceeding estimates by 0.8%. Best Buy traded down 2.7% on the results, and Ulta was down 3.5%. Read our full analysis of Best Buy's results here and Ulta's results here. Investors in the specialty retail segment have had steady hands going into the earnings, with the stocks up on average 0.7% over the last month. GameStop is up 8.8% during the same time, and is heading into the earnings with analyst price target of $6, compared to share price of $14.85. When a company has more cash than it knows what to do with, buying back its own shares can make a lot of sense–as long as the price is right. Luckily, we’ve found one, a low-priced stock that is gushing free cash flow AND buying back\",\n",
              "  'Thank you for your patience. Our engineers are working quickly to resolve the issue.',\n",
              "  'Thank you for your patience. Our engineers are working quickly to resolve the issue.'],\n",
              " 'TSLA': ['Shares of World No. 2 electric vehicle (EV) stock Tesla (NASDAQ: TSLA) jumped 5.2% through 10 a.m. ET Tuesday, despite Bernstein cutting the stock\\'s price target to $120 per share. Bernstein cited soft demand for Tesla\\'s EVs as its reason for lowering the price target, reducing predicted Tesla car sales, and maintaining its sell rating. So why is Tesla up despite this news? Because Italy. As Il Sole 24 reports, the electric car maker\\xa0is negotiating with the Italian government to secure an Italian production site -- not for producing electric cars. Tesla wants Italy as home base in Europe for building electric trucks and vans. From Italy\\'s perspective, this would bring a second automotive manufacturer to the country, joining Stellantis, which currently dominates. (Three Chinese companies are also negotiating.) But why would Tesla -- which already has a car plan in Germany -- want to build a new plant? Details aren\\'t 100% clear, but if Tesla plans to introduce its electric Semi (the Tesla vehicle pictured in Il Sole\\'s story) to Europe, well, those might be more expensive to ship overseas from the U.S. for sale in Europe. Setting up a local shop might make sense. Also curious is the newspaper\\'s mention of a Tesla \"van.\" While Tesla has hinted at this possibility, it hasn\\'t announced a product yet. This could be a first for Tesla, and expand the company\\'s market of customers. It\\'s too early to say this Italian news is a new reason to buy Tesla stock. What it does do is inject uncertainty into Wall Street analyst predictions such as Bernstein\\'s -- that Tesla stock is doomed to lose one-third of its value this year. It reminds us that CEO Elon Musk can still surprise both investors and competitors. With Tesla stock trading at prices last seen in May 2023, and a P/E ratio looking almost \"normal\" (for any other company) at just 40x earnings, it might be time to take another look at Tesla. Where to invest $1,000 right now When our analyst team has a stock tip, it can pay to listen. After all, the',\n",
              "  \"With the Nasdaq Composite index in record territory these days, investors might think that all growth-focused businesses are soaring in value. That's just not true. Take Tesla (NASDAQ: TSLA). The once high-flying electric vehicle (EV) stock is driving in the wrong direction. Shares are down 31% this year and off 58% from their all-time high, which was set in November 2021. Contrarian investors might be thinking it's the perfect time to buy the dip on Tesla. I'd think twice about this course of action. Here's why. Tesla's ongoing challenges have been widely publicized. The business reported 3.5% revenue growth in Q4. That was a major slowdown compared to previous years. It points to the higher-rate environment that discourages consumers from wanting to buy new cars. This situation makes monthly payments more expensive. But Tesla's decelerating revenue demonstrates the competitive nature of the EV industry as well. There are numerous rivals all focused heavily on EV investments, hoping to boost manufacturing capacity and launch new models. This means Tesla will have its work cut out for it going forward. Consequently, the business must compete aggressively on price. Over the past couple years, Elon Musk and his team haven't shied away from lowering prices on its range of cars on many different occasions to support demand and maintain market share. The result has been contracting margins, which no investor wants to see. It's not a surprise that shareholders have rushed for the exits. Tesla's financials have taken a hit. And the stock is down big, now trading at a price-to-earnings (P/E) ratio of 40. That valuation is certainly cheaper than it was just three months ago. Investors who are considering buying the stock need to ask if Tesla's latest struggles are temporary or permanent. If you believe they're the former, then adding shares to your portfolio looks like a smart move. But this might not be the case. After reporting two straight quarters of subscriber losses at the start of 2022, Netflix shares took a beating. From their all-time high in November 2021 to their low in May 2022, they dropped 76%.\",\n",
              "  'Fool.com contributor Parkev Tatevosian compares Tesla (NASDAQ: TSLA), Nio (NYSE: NIO), and Rivian (NASDAQ: RIVN) to answer which is the best electric vehicle stock to buy today. *Stock prices used were the afternoon prices of March 21, 2024. The video was published on March 23, 2024. Where to invest $1,000 right now When our analyst team has a stock tip, it can pay to listen. After all, the newsletter they have run for two decades, Motley Fool Stock Advisor, has\\xa0more than tripled\\xa0the market.* They just revealed what they believe are the 10 best stocks for investors to buy right now… and Tesla made the list -- but there are 9 other stocks you may be overlooking. See the 10 stocks *Stock Advisor returns as of March 21, 2024 Parkev Tatevosian, CFA has no position in any of the stocks mentioned. The Motley Fool has positions in and recommends Nio and Tesla. The Motley Fool has a disclosure policy. Parkev Tatevosian is an affiliate of The Motley Fool and may be compensated for promoting its services. If you choose to subscribe through his link, he will earn some extra money that supports his channel. His opinions remain his own and are unaffected by The Motley Fool. Best Stocks to Buy: Tesla Stock vs. Nio Stock vs. Rivian Stock was originally published by The Motley Fool',\n",
              "  \"Tesla (TSLA) has been one of the most searched-for stocks on Zacks.com lately. So, you might want to look at some of the facts that could shape the stock's performance in the near term. Over the past month, shares of this electric car maker have returned -13.4%, compared to the Zacks S&P 500 composite's +2.7% change. During this period, the Zacks Automotive - Domestic industry, which Tesla falls in, has lost 6.2%. The key question now is: What could be the stock's future direction? Although media reports or rumors about a significant change in a company's business prospects usually cause its stock to trend and lead to an immediate price change, there are always certain fundamental factors that ultimately drive the buy-and-hold decision. Earnings Estimate Revisions Rather than focusing on anything else, we at Zacks prioritize evaluating the change in a company's earnings projection. This is because we believe the fair value for its stock is determined by the present value of its future stream of earnings. We essentially look at how sell-side analysts covering the stock are revising their earnings estimates to reflect the impact of the latest business trends. And if earnings estimates go up for a company, the fair value for its stock goes up. A higher fair value than the current market price drives investors' interest in buying the stock, leading to its price moving higher. This is why empirical research shows a strong correlation between trends in earnings estimate revisions and near-term stock price movements. For the current quarter, Tesla is expected to post earnings of $0.63 per share, indicating a change of -25.9% from the year-ago quarter. The Zacks Consensus Estimate has changed -7.4% over the last 30 days. For the current fiscal year, the consensus earnings estimate of $3.05 points to a change of -2.2% from the prior year. Over the last 30 days, this estimate has changed -4.4%. For the next fiscal year, the consensus earnings estimate of $4.02 indicates a change of +31.9% from what Tesla is expected to report a year ago. Over the past month, the estimate has changed\",\n",
              "  'Thank you for your patience. Our engineers are working quickly to resolve the issue.',\n",
              "  'Fool.com contributor Parkev Tatevosian provides a Tesla (NASDAQ: TSLA) stock forecast for 2030. *Stock prices used were the afternoon prices of March 23, 2024. The video was published on March 25, 2024. Where to invest $1,000 right now When our analyst team has a stock tip, it can pay to listen. After all, the newsletter they have run for two decades, Motley Fool Stock Advisor, has\\xa0more than tripled\\xa0the market.* They just revealed what they believe are the 10 best stocks for investors to buy right now… and Tesla made the list -- but there are 9 other stocks you may be overlooking. See the 10 stocks *Stock Advisor returns as of March 25, 2024 Parkev Tatevosian, CFA has no position in any of the stocks mentioned. The Motley Fool has positions in and recommends Tesla. The Motley Fool has a disclosure policy. Parkev Tatevosian is an affiliate of The Motley Fool and may be compensated for promoting its services. If you choose to subscribe through his link, he will earn some extra money that supports his channel. His opinions remain his own and are unaffected by The Motley Fool. Where Will Tesla Stock Be in 2030? was originally published by The Motley Fool',\n",
              "  'Thank you for your patience. Our engineers are working quickly to resolve the issue.',\n",
              "  'The \"Magnificent Seven\" is a group of seven of the world\\'s largest technology stocks. Last year, they delivered an average return of 112%, which crushed the 24% gain in the benchmark S&P 500 index. The seven stocks include: Nvidia  Meta Platforms Apple  Microsoft  Alphabet (Google) Amazon  Tesla (NASDAQ: TSLA) However, the Magnificent Seven has splintered in the early stages of 2024, with Apple and Tesla trading in the red despite the 10% gain in the S&P 500. Tesla\\'s whopping 31% year-to-date loss has prompted some Wall Street analysts to call for its removal from the Magnificent Seven. Tesla is working on several artificial intelligence (AI)-powered innovations like fully autonomous self-driving software and humanoid robots, but 85% of its revenue still comes from selling electric vehicles (EVs). The company sold a record-high 1.8 million cars last year, but it represented growth of 38% compared to its 2022 result, which was far below CEO Elon Musk\\'s 50% target. Growth will likely decelerate further in 2024. Tesla neglected to offer a forecast for vehicle deliveries, leaving some analysts to speculate the number could come in at around 2.2 million. That would represent an increase of 22%, and it\\'s worth noting Musk also omitted his usual 50% average annual growth target in Tesla\\'s most recent financial report. Tesla slashed the price of its vehicles by an average of 25.1% throughout 2023 to spur demand in the wake of tough economic conditions, which sent its earnings per share (profit) sinking 23% to $3.12. That places its stock at a price-to-earnings (P/E) ratio of 54.7, which is still significantly more expensive than the 31.1 P/E of the tech-heavy Nasdaq-100 index. Therefore, there is a clear case for further downside in Tesla stock in the short term. The long term might be a different story, depending on the success of the company\\'s other initiatives beyond EV sales. The current Magnificent Seven companies have one thing in common: They are developing AI technologies. If Tesla were removed from the group, I think Oracle (NYSE: ORCL) would be a stellar replacement. Oracle has emerged as',\n",
              "  'Thank you for your patience. Our engineers are working quickly to resolve the issue.',\n",
              "  \"Tesla (TSLA) closed at $179.83 in the latest trading session, marking a +1.22% move from the prior day. The stock's performance was ahead of the S&P 500's daily gain of 0.86%. At the same time, the Dow added 1.22%, and the tech-heavy Nasdaq gained 0.51%. The the stock of electric car maker has fallen by 11.05% in the past month, lagging the Auto-Tires-Trucks sector's loss of 0.17% and the S&P 500's gain of 2.84%. Market participants will be closely following the financial results of Tesla in its upcoming release. The company's upcoming EPS is projected at $0.63, signifying a 25.88% drop compared to the same quarter of the previous year. Alongside, our most recent consensus estimate is anticipating revenue of $25.14 billion, indicating a 7.75% upward movement from the same quarter last year. For the full year, the Zacks Consensus Estimates project earnings of $3.05 per share and a revenue of $110.73 billion, demonstrating changes of -2.24% and +14.42%, respectively, from the preceding year. Investors might also notice recent changes to analyst estimates for Tesla. Recent revisions tend to reflect the latest near-term business trends. With this in mind, we can consider positive estimate revisions a sign of optimism about the company's business outlook. Our research reveals that these estimate alterations are directly linked with the stock price performance in the near future. To utilize this, we have created the Zacks Rank, a proprietary model that integrates these estimate changes and provides a functional rating system. Ranging from #1 (Strong Buy) to #5 (Strong Sell), the Zacks Rank system has a proven, outside-audited track record of outperformance, with #1 stocks returning an average of +25% annually since 1988. Over the past month, there's been a 4.35% fall in the Zacks Consensus EPS estimate. Tesla is currently a Zacks Rank #3 (Hold). Investors should also note Tesla's current valuation metrics, including its Forward P/E ratio of 58.27. This denotes a premium relative to the industry's average Forward P/E of 15.12. We can additionally observe that TSLA currently boasts a PEG ratio of 3.22. The PEG ratio is akin to the commonly\",\n",
              "  '© 2024 - Privacy - Terms'],\n",
              " 'BTC': ['Thank you for your patience. Our engineers are working quickly to resolve the issue.',\n",
              "  '© 2024 - Privacy - Terms',\n",
              "  'Thank you for your patience. Our engineers are working quickly to resolve the issue.',\n",
              "  'Thank you for your patience. Our engineers are working quickly to resolve the issue.',\n",
              "  'Thank you for your patience. Our engineers are working quickly to resolve the issue.',\n",
              "  'FTX co-founder Sam Bankman-Fried will learn Thursday how much prison time he will get after being convicted of defrauding his customers, investors, and lenders. The entrepreneur who presided over the largest crypto collapse in history faces up to 110 years. Prosecutors have requested a sentence of 40 to 50 years, while Bankman-Fried\\'s lawyers asked for six and a half years. The decision will be made by Manhattan federal Judge Lewis Kaplan, who presided over Bankman-Fried\\'s trial last fall and confronted the defendant at several points along the way. Kaplan even revoked Bankman-Fried\\'s bail and put him behind bars before the trial began. During the trial, the judge repeatedly admonished Bankman-Fried on the stand for not directly answering questions. Dozens of FTX victims, including those who said they lost their life’s savings due to FTX’s demise, have submitted letters urging Kaplan to impose a harsh sentence. Bankman-Fried has made his own case for a more lenient sentence, saying in submissions to the court that prosecutors distorted reality by characterizing him as a \"depraved super-villain\" motivated by material wealth and luxuries. Instead, his lawyers argue in a court filing, Bankman-Fried \"eschews materialistic trappings\" and suffers from a severe condition that causes his \"near-complete absence of enjoyment, motivation, and interest.\" The lawyers went on to say that Bankman-Fried has been diagnosed with autism spectrum disorder that causes him, at times, to assess risk with a \"different relative valuation of emotions versus ultimate impact than many people do.\" Bankman-Fried will have one more chance in court Thursday to make a last statement, or \"allocution.\" Sentences for white collar crimes have varied in recent years, from 150 years for Bernard Madoff to 11 years for Elizabeth Holmes. The sentencing of Bankman-Fried completes a dramatic fall for a onetime billionaire who ran the world’s second-largest crypto exchange and was the face of a boom in digital assets during the early years of the pandemic. His empire imploded in late 2022 as FTX filed for bankruptcy and he was arrested by authorities in the Bahamas. His trial last fall captivated the financial world. A 12-person jury eventually',\n",
              "  \"Dubai, UAE, March 27, 2024 (GLOBE NEWSWIRE) -- A new contender is making waves and challenging the long-established dominance of Bitcoin (BTC) and Ethereum (ETH).\\xa0Option2Trade (O2T)’s social trading exchange token is rapidly emerging as a significant alternative, offering a fresh perspective on crypto trading through its innovative social trading platform. This paradigm shift is not only attracting a diverse user base but is also poised to redefine the crypto landscape. Let’s explore the allure of social trading, its impact on the traditional hegemony of\\xa0Bitcoin (BTC)\\xa0and\\xa0Ethereum (ETH), and its potential to spearhead the next wave of cryptocurrency innovation.  The Attraction of Social Trading Social trading is at the heart of Option2Trade (O2T)’s appeal, providing a platform where users can mimic the trading strategies of experienced investors. This unique feature democratizes cryptocurrency trading, making it accessible and appealing to a wider audience, from novices to seasoned traders. Unlike the solitary nature of traditional trading with\\xa0Bitcoin (BTC)\\xa0and Ethereum (ETH),\\xa0Option2Trade (O2T)\\xa0fosters a community-driven trading environment. The platform's copy trading incentives and access to premium social trading features, such as exclusive trading signals and detailed analytics, have proven to be a game-changer. These innovative aspects not only enhance the trading experience but also build a supportive and engaged trading community.  Impact on Bitcoin (BTC) and Ethereum (ETH)'s Dominance While Bitcoin (BTC) and\\xa0Ethereum (ETH)\\xa0have long been the titans of the cryptocurrency market, the rise of Option2Trade (O2T) represents a shift in investor interest and market dynamics. Option2Trade (O2T)’s social trading platform challenges the conventional trading paradigms associated with BTC and ETH by offering an interactive and collaborative trading experience. This shift is gradually altering perceptions within the cryptocurrency space, with many investors and traders exploring alternatives to Bitcoin (BTC) and Ethereum (ETH) that offer additional value and community engagement. The success of\\xa0Option2Trade (O2T)\\xa0highlights a growing appetite for platforms that integrate social features and community engagement into the crypto trading process. As a result, Bitcoin (BTC) and Ethereum (ETH) may find themselves compelled to innovate and possibly integrate similar social trading features to retain their market position and appeal to a broader audience.  Potential\",\n",
              "  'Thank you for your patience. Our engineers are working quickly to resolve the issue.',\n",
              "  'Thank you for your patience. Our engineers are working quickly to resolve the issue.',\n",
              "  'Thank you for your patience. Our engineers are working quickly to resolve the issue.',\n",
              "  'Shares in former US president Donald Trump\\'s media firm have soared on their stock market debut in New York and are currently the most trending stocks in after-hours trading. Shares surged past $70 (£55.42) in early trade, giving the firm a market value of more than $9bn. They ended the day at about $58, still up more than 16%. Trump Media & Technology Group, the company behind his Truth Social platform, is now listed on the Nasdaq stock exchange under the ticker symbol DJT – Trump’s initials – after completing its merger with blank-cheque company Digital World Acquisition Corp on Monday. Read more: AI risks wiping up to 8 million jobs in the UK, new report claims Trump, owner of 58%of the shares in the merged company before accounting for dilution, is the biggest beneficiary of the price surge. However, Trump is barred by terms of the merger from selling his shares for six months. Analysts suggested that investors were mostly supporters of Trump ahead of the looming presidential election rather than institutions and that it was the most trending stock on US exchanges. Tesla shares were higher in premarket trading after CEO Elon Musk announced the company will offer US customers a free trial of its driver-assist technology. \"All US cars that are capable of FSD will be enabled for a one-month trial this week,\" Musk said in a post on social media platform X. Musk instructed employees to perform a “short test ride” with customers to show the system Tesla markets as Full Self-Driving, according to an internal memo seen by Bloomberg News. Workers will also have to perform checks on any vehicles returned from service. Musk has long touted the driver assistant software, priced at $12,000, as a potential profit generator for the company, but has fallen short of his promise of full autonomy for years, amid regulatory and legal scrutiny of Tesla\\'s safety and marketing, according to Reuters. Bitcoin has fallen below the $70,000 mark as the crypto rally appears to fade. However, analysts remain bullish on the crypto asset, with “$100k a matter of time”.']}"
            ]
          },
          "metadata": {},
          "execution_count": 24
        }
      ]
    },
    {
      "cell_type": "code",
      "source": [
        "articles['TSLA']"
      ],
      "metadata": {
        "colab": {
          "base_uri": "https://localhost:8080/"
        },
        "id": "IP3Bp55gRe-L",
        "outputId": "d8cda32e-46e8-4a61-9eb3-38b05f9a9901"
      },
      "execution_count": 25,
      "outputs": [
        {
          "output_type": "execute_result",
          "data": {
            "text/plain": [
              "['Shares of World No. 2 electric vehicle (EV) stock Tesla (NASDAQ: TSLA) jumped 5.2% through 10 a.m. ET Tuesday, despite Bernstein cutting the stock\\'s price target to $120 per share. Bernstein cited soft demand for Tesla\\'s EVs as its reason for lowering the price target, reducing predicted Tesla car sales, and maintaining its sell rating. So why is Tesla up despite this news? Because Italy. As Il Sole 24 reports, the electric car maker\\xa0is negotiating with the Italian government to secure an Italian production site -- not for producing electric cars. Tesla wants Italy as home base in Europe for building electric trucks and vans. From Italy\\'s perspective, this would bring a second automotive manufacturer to the country, joining Stellantis, which currently dominates. (Three Chinese companies are also negotiating.) But why would Tesla -- which already has a car plan in Germany -- want to build a new plant? Details aren\\'t 100% clear, but if Tesla plans to introduce its electric Semi (the Tesla vehicle pictured in Il Sole\\'s story) to Europe, well, those might be more expensive to ship overseas from the U.S. for sale in Europe. Setting up a local shop might make sense. Also curious is the newspaper\\'s mention of a Tesla \"van.\" While Tesla has hinted at this possibility, it hasn\\'t announced a product yet. This could be a first for Tesla, and expand the company\\'s market of customers. It\\'s too early to say this Italian news is a new reason to buy Tesla stock. What it does do is inject uncertainty into Wall Street analyst predictions such as Bernstein\\'s -- that Tesla stock is doomed to lose one-third of its value this year. It reminds us that CEO Elon Musk can still surprise both investors and competitors. With Tesla stock trading at prices last seen in May 2023, and a P/E ratio looking almost \"normal\" (for any other company) at just 40x earnings, it might be time to take another look at Tesla. Where to invest $1,000 right now When our analyst team has a stock tip, it can pay to listen. After all, the',\n",
              " \"With the Nasdaq Composite index in record territory these days, investors might think that all growth-focused businesses are soaring in value. That's just not true. Take Tesla (NASDAQ: TSLA). The once high-flying electric vehicle (EV) stock is driving in the wrong direction. Shares are down 31% this year and off 58% from their all-time high, which was set in November 2021. Contrarian investors might be thinking it's the perfect time to buy the dip on Tesla. I'd think twice about this course of action. Here's why. Tesla's ongoing challenges have been widely publicized. The business reported 3.5% revenue growth in Q4. That was a major slowdown compared to previous years. It points to the higher-rate environment that discourages consumers from wanting to buy new cars. This situation makes monthly payments more expensive. But Tesla's decelerating revenue demonstrates the competitive nature of the EV industry as well. There are numerous rivals all focused heavily on EV investments, hoping to boost manufacturing capacity and launch new models. This means Tesla will have its work cut out for it going forward. Consequently, the business must compete aggressively on price. Over the past couple years, Elon Musk and his team haven't shied away from lowering prices on its range of cars on many different occasions to support demand and maintain market share. The result has been contracting margins, which no investor wants to see. It's not a surprise that shareholders have rushed for the exits. Tesla's financials have taken a hit. And the stock is down big, now trading at a price-to-earnings (P/E) ratio of 40. That valuation is certainly cheaper than it was just three months ago. Investors who are considering buying the stock need to ask if Tesla's latest struggles are temporary or permanent. If you believe they're the former, then adding shares to your portfolio looks like a smart move. But this might not be the case. After reporting two straight quarters of subscriber losses at the start of 2022, Netflix shares took a beating. From their all-time high in November 2021 to their low in May 2022, they dropped 76%.\",\n",
              " 'Fool.com contributor Parkev Tatevosian compares Tesla (NASDAQ: TSLA), Nio (NYSE: NIO), and Rivian (NASDAQ: RIVN) to answer which is the best electric vehicle stock to buy today. *Stock prices used were the afternoon prices of March 21, 2024. The video was published on March 23, 2024. Where to invest $1,000 right now When our analyst team has a stock tip, it can pay to listen. After all, the newsletter they have run for two decades, Motley Fool Stock Advisor, has\\xa0more than tripled\\xa0the market.* They just revealed what they believe are the 10 best stocks for investors to buy right now… and Tesla made the list -- but there are 9 other stocks you may be overlooking. See the 10 stocks *Stock Advisor returns as of March 21, 2024 Parkev Tatevosian, CFA has no position in any of the stocks mentioned. The Motley Fool has positions in and recommends Nio and Tesla. The Motley Fool has a disclosure policy. Parkev Tatevosian is an affiliate of The Motley Fool and may be compensated for promoting its services. If you choose to subscribe through his link, he will earn some extra money that supports his channel. His opinions remain his own and are unaffected by The Motley Fool. Best Stocks to Buy: Tesla Stock vs. Nio Stock vs. Rivian Stock was originally published by The Motley Fool',\n",
              " \"Tesla (TSLA) has been one of the most searched-for stocks on Zacks.com lately. So, you might want to look at some of the facts that could shape the stock's performance in the near term. Over the past month, shares of this electric car maker have returned -13.4%, compared to the Zacks S&P 500 composite's +2.7% change. During this period, the Zacks Automotive - Domestic industry, which Tesla falls in, has lost 6.2%. The key question now is: What could be the stock's future direction? Although media reports or rumors about a significant change in a company's business prospects usually cause its stock to trend and lead to an immediate price change, there are always certain fundamental factors that ultimately drive the buy-and-hold decision. Earnings Estimate Revisions Rather than focusing on anything else, we at Zacks prioritize evaluating the change in a company's earnings projection. This is because we believe the fair value for its stock is determined by the present value of its future stream of earnings. We essentially look at how sell-side analysts covering the stock are revising their earnings estimates to reflect the impact of the latest business trends. And if earnings estimates go up for a company, the fair value for its stock goes up. A higher fair value than the current market price drives investors' interest in buying the stock, leading to its price moving higher. This is why empirical research shows a strong correlation between trends in earnings estimate revisions and near-term stock price movements. For the current quarter, Tesla is expected to post earnings of $0.63 per share, indicating a change of -25.9% from the year-ago quarter. The Zacks Consensus Estimate has changed -7.4% over the last 30 days. For the current fiscal year, the consensus earnings estimate of $3.05 points to a change of -2.2% from the prior year. Over the last 30 days, this estimate has changed -4.4%. For the next fiscal year, the consensus earnings estimate of $4.02 indicates a change of +31.9% from what Tesla is expected to report a year ago. Over the past month, the estimate has changed\",\n",
              " 'Thank you for your patience. Our engineers are working quickly to resolve the issue.',\n",
              " 'Fool.com contributor Parkev Tatevosian provides a Tesla (NASDAQ: TSLA) stock forecast for 2030. *Stock prices used were the afternoon prices of March 23, 2024. The video was published on March 25, 2024. Where to invest $1,000 right now When our analyst team has a stock tip, it can pay to listen. After all, the newsletter they have run for two decades, Motley Fool Stock Advisor, has\\xa0more than tripled\\xa0the market.* They just revealed what they believe are the 10 best stocks for investors to buy right now… and Tesla made the list -- but there are 9 other stocks you may be overlooking. See the 10 stocks *Stock Advisor returns as of March 25, 2024 Parkev Tatevosian, CFA has no position in any of the stocks mentioned. The Motley Fool has positions in and recommends Tesla. The Motley Fool has a disclosure policy. Parkev Tatevosian is an affiliate of The Motley Fool and may be compensated for promoting its services. If you choose to subscribe through his link, he will earn some extra money that supports his channel. His opinions remain his own and are unaffected by The Motley Fool. Where Will Tesla Stock Be in 2030? was originally published by The Motley Fool',\n",
              " 'Thank you for your patience. Our engineers are working quickly to resolve the issue.',\n",
              " 'The \"Magnificent Seven\" is a group of seven of the world\\'s largest technology stocks. Last year, they delivered an average return of 112%, which crushed the 24% gain in the benchmark S&P 500 index. The seven stocks include: Nvidia  Meta Platforms Apple  Microsoft  Alphabet (Google) Amazon  Tesla (NASDAQ: TSLA) However, the Magnificent Seven has splintered in the early stages of 2024, with Apple and Tesla trading in the red despite the 10% gain in the S&P 500. Tesla\\'s whopping 31% year-to-date loss has prompted some Wall Street analysts to call for its removal from the Magnificent Seven. Tesla is working on several artificial intelligence (AI)-powered innovations like fully autonomous self-driving software and humanoid robots, but 85% of its revenue still comes from selling electric vehicles (EVs). The company sold a record-high 1.8 million cars last year, but it represented growth of 38% compared to its 2022 result, which was far below CEO Elon Musk\\'s 50% target. Growth will likely decelerate further in 2024. Tesla neglected to offer a forecast for vehicle deliveries, leaving some analysts to speculate the number could come in at around 2.2 million. That would represent an increase of 22%, and it\\'s worth noting Musk also omitted his usual 50% average annual growth target in Tesla\\'s most recent financial report. Tesla slashed the price of its vehicles by an average of 25.1% throughout 2023 to spur demand in the wake of tough economic conditions, which sent its earnings per share (profit) sinking 23% to $3.12. That places its stock at a price-to-earnings (P/E) ratio of 54.7, which is still significantly more expensive than the 31.1 P/E of the tech-heavy Nasdaq-100 index. Therefore, there is a clear case for further downside in Tesla stock in the short term. The long term might be a different story, depending on the success of the company\\'s other initiatives beyond EV sales. The current Magnificent Seven companies have one thing in common: They are developing AI technologies. If Tesla were removed from the group, I think Oracle (NYSE: ORCL) would be a stellar replacement. Oracle has emerged as',\n",
              " 'Thank you for your patience. Our engineers are working quickly to resolve the issue.',\n",
              " \"Tesla (TSLA) closed at $179.83 in the latest trading session, marking a +1.22% move from the prior day. The stock's performance was ahead of the S&P 500's daily gain of 0.86%. At the same time, the Dow added 1.22%, and the tech-heavy Nasdaq gained 0.51%. The the stock of electric car maker has fallen by 11.05% in the past month, lagging the Auto-Tires-Trucks sector's loss of 0.17% and the S&P 500's gain of 2.84%. Market participants will be closely following the financial results of Tesla in its upcoming release. The company's upcoming EPS is projected at $0.63, signifying a 25.88% drop compared to the same quarter of the previous year. Alongside, our most recent consensus estimate is anticipating revenue of $25.14 billion, indicating a 7.75% upward movement from the same quarter last year. For the full year, the Zacks Consensus Estimates project earnings of $3.05 per share and a revenue of $110.73 billion, demonstrating changes of -2.24% and +14.42%, respectively, from the preceding year. Investors might also notice recent changes to analyst estimates for Tesla. Recent revisions tend to reflect the latest near-term business trends. With this in mind, we can consider positive estimate revisions a sign of optimism about the company's business outlook. Our research reveals that these estimate alterations are directly linked with the stock price performance in the near future. To utilize this, we have created the Zacks Rank, a proprietary model that integrates these estimate changes and provides a functional rating system. Ranging from #1 (Strong Buy) to #5 (Strong Sell), the Zacks Rank system has a proven, outside-audited track record of outperformance, with #1 stocks returning an average of +25% annually since 1988. Over the past month, there's been a 4.35% fall in the Zacks Consensus EPS estimate. Tesla is currently a Zacks Rank #3 (Hold). Investors should also note Tesla's current valuation metrics, including its Forward P/E ratio of 58.27. This denotes a premium relative to the industry's average Forward P/E of 15.12. We can additionally observe that TSLA currently boasts a PEG ratio of 3.22. The PEG ratio is akin to the commonly\",\n",
              " '© 2024 - Privacy - Terms']"
            ]
          },
          "metadata": {},
          "execution_count": 25
        }
      ]
    },
    {
      "cell_type": "code",
      "source": [
        "def summarize(articles):\n",
        "    summaries = []\n",
        "    for article in articles:\n",
        "        input_ids = tokenizer.encode(article, return_tensors='pt')\n",
        "        output = model.generate(input_ids, max_length=55, num_beams=5, early_stopping=True)\n",
        "        summary = tokenizer.decode(output[0], skip_special_tokens=True)\n",
        "        summaries.append(summary)\n",
        "    return summaries"
      ],
      "metadata": {
        "id": "CuBxHG1rRjlt"
      },
      "execution_count": 26,
      "outputs": []
    },
    {
      "cell_type": "code",
      "source": [
        "summaries = {ticker:summarize(articles[ticker]) for ticker in monitored_tickers}\n",
        "summaries"
      ],
      "metadata": {
        "colab": {
          "base_uri": "https://localhost:8080/"
        },
        "id": "UsgzL39WRwCS",
        "outputId": "9814eb80-7b9c-4c5c-900d-d6494ddfd218"
      },
      "execution_count": 27,
      "outputs": [
        {
          "output_type": "execute_result",
          "data": {
            "text/plain": [
              "{'GME': ['We are aware of the issue and are working to resolve it.',\n",
              "  \"Revenue fell short of analysts' expectations, driven by significant underperformance.\",\n",
              "  'We are aware of the issue and are working to resolve it.',\n",
              "  'Fiscal year 2023 net sales were $5.273 billion, compared to $5.927 billion in 2022.',\n",
              "  'We are aware of the issue and are working to resolve it.',\n",
              "  \"Revenue fell 19.4% year on year to $1.79 billion, missed analysts' expectations.\",\n",
              "  'We are aware of the issue and are working to resolve it.',\n",
              "  'Your information may be shared with third parties.',\n",
              "  'Analysts are expecting the business to stay the course heading into the earnings.',\n",
              "  'We are aware of the issue and are working to resolve it.',\n",
              "  'We are aware of the issue and are working to resolve it.'],\n",
              " 'TSLA': ['Italian newspaper says Tesla is in talks for a new plant.',\n",
              "  'Tesla is down 31% this year and off 58% from its all-time high. Netflix is down 76% from its all-time high in November 2021',\n",
              "  'Tesla, Nio, and Rivian are among the best stocks to buy right now.',\n",
              "  'EV maker has lost 6.2% over the past month, underperforming the industry. Earnings Estimate Revisions indicate that analysts are more bullish on the company',\n",
              "  'We are aware of the issue and are working to resolve it.',\n",
              "  'In this video, Motley Fool contributor Parkev Tatevosian looks at where Tesla stock could be in 2030.',\n",
              "  'We are aware of the issue and are working to resolve it.',\n",
              "  'Tesla has been trading in the red this year. Oracle would be a better fit for the group',\n",
              "  'We are aware of the issue and are working to resolve it.',\n",
              "  'Electric car maker is expected to report earnings of $0.63 per share.',\n",
              "  'Your information may be shared with third parties.'],\n",
              " 'BTC': ['We are aware of the issue and are working to resolve it.',\n",
              "  'Your information may be shared with third parties.',\n",
              "  'We are aware of the issue and are working to resolve it.',\n",
              "  'We are aware of the issue and are working to resolve it.',\n",
              "  'We are aware of the issue and are working to resolve it.',\n",
              "  'Prosecutors ask for 40 to 50 years; Bankman-Fried’s lawyers ask for six and a half years.',\n",
              "  'Social trading platform Option2Trade (O2T) is attracting a diverse user base.',\n",
              "  'We are aware of the issue and are working to resolve it.',\n",
              "  'We are aware of the issue and are working to resolve it.',\n",
              "  'We are aware of the issue and are working to resolve it.',\n",
              "  'Tesla to offer US customers a free trial of self-drive technology. Bitcoin falls below $70,000 as crypto rally fades']}"
            ]
          },
          "metadata": {},
          "execution_count": 27
        }
      ]
    },
    {
      "cell_type": "code",
      "source": [
        "summaries['BTC']"
      ],
      "metadata": {
        "colab": {
          "base_uri": "https://localhost:8080/"
        },
        "id": "MUsn4pGXR0ik",
        "outputId": "09036aa5-cf52-4ace-8a67-9c36f52c7e47"
      },
      "execution_count": 28,
      "outputs": [
        {
          "output_type": "execute_result",
          "data": {
            "text/plain": [
              "['We are aware of the issue and are working to resolve it.',\n",
              " 'Your information may be shared with third parties.',\n",
              " 'We are aware of the issue and are working to resolve it.',\n",
              " 'We are aware of the issue and are working to resolve it.',\n",
              " 'We are aware of the issue and are working to resolve it.',\n",
              " 'Prosecutors ask for 40 to 50 years; Bankman-Fried’s lawyers ask for six and a half years.',\n",
              " 'Social trading platform Option2Trade (O2T) is attracting a diverse user base.',\n",
              " 'We are aware of the issue and are working to resolve it.',\n",
              " 'We are aware of the issue and are working to resolve it.',\n",
              " 'We are aware of the issue and are working to resolve it.',\n",
              " 'Tesla to offer US customers a free trial of self-drive technology. Bitcoin falls below $70,000 as crypto rally fades']"
            ]
          },
          "metadata": {},
          "execution_count": 28
        }
      ]
    },
    {
      "cell_type": "code",
      "source": [
        "from transformers import pipeline\n",
        "sentiment = pipeline('sentiment-analysis')"
      ],
      "metadata": {
        "colab": {
          "base_uri": "https://localhost:8080/",
          "height": 200,
          "referenced_widgets": [
            "4a2f13345a344133805bff7bfe851dd7",
            "edfaadf06d9348c4a12371b177129155",
            "e8286643574346d6a68d21921423a010",
            "a6e590646a894c6eaf889b6768c31c66",
            "cf44ff054956494a953994f271fa804b",
            "71137e1f11f24ed3a2f1ae3c72c43be1",
            "4875a4880400465c9207fc9d06ca0fb9",
            "90358a9b30f4454d9819b542fb6ec723",
            "c5ec7dae43544fd2b16dca09df973c4c",
            "5f1fe968e3954ed587b9fe3ca8df6bd0",
            "017cb3f76e4b48658cacf7f87db3f665",
            "a2e41528c8be47c6816c0e1a46fcf641",
            "3d299852a388439592bb9f36d0d36c45",
            "7e9fcb158dd84fd1ac245b5dde06c196",
            "5ab30a3f7ae34d999abf01130131742a",
            "01b498df56af49c28e58aca2862be57b",
            "01fec62a094344059a4ac324daa13edc",
            "17b23a19efd7428fad12bd4000921a9e",
            "c2123a1707614c6099aae8dc5b760b7e",
            "1371f5ad7125427aad5fe6fb17ea3eac",
            "7b0ae860d20749388f4a8cfeaa432429",
            "c729d95f9ddf46f3b0317d4927d5ba19",
            "d7f10132acf34fd89d1120dd5096bfab",
            "814e1c543f494337b8d2f4f7f2fb4e40",
            "b856c3aca7dd457797d4bfa32a1be780",
            "e03b442382474ee1a1b6e28d2c1d616e",
            "c530319796d848c0822c1dae6768a627",
            "ef7ce183822f485094ca4e66f8bfe4ed",
            "bcc753255a624793bb6fed5b80384ddf",
            "c14b975546ea40639f73d17ea52f22a2",
            "8ee58c705bb0442d8c53ca9a52807804",
            "bde0b5a9ca6c475d967a7e34fb72c015",
            "f509ac836f1b443d8a66b788a8470b9a",
            "a9e3a32918cc409c8d74c40d4497686f",
            "01cbad987aff486b83a56fe699e27325",
            "0a3b5d0a0d2349eba1955a9a27eaa5f6",
            "7bf0bbe2eea24a10a8197a2f943c7e25",
            "20b44dddfa7644ab88467cf355d49835",
            "f66511d8efc34599aaa4b98332bdf515",
            "f7bba03b3e6545d48ad1e74189c6fcdb",
            "5d7a1420571f480d9ea5c5a73c27dbbc",
            "2a3038f4433d4f8bbd59185a55bfe1d4",
            "d6908d9d5d27455297a957f2d10d189d",
            "b5dc1cdb32014b738718b0ef76f2f629"
          ]
        },
        "id": "XyGh3Z2OSLFl",
        "outputId": "e0b1619b-baa6-4df5-86c1-655dc4d990d8"
      },
      "execution_count": 29,
      "outputs": [
        {
          "output_type": "stream",
          "name": "stderr",
          "text": [
            "No model was supplied, defaulted to distilbert/distilbert-base-uncased-finetuned-sst-2-english and revision af0f99b (https://huggingface.co/distilbert/distilbert-base-uncased-finetuned-sst-2-english).\n",
            "Using a pipeline without specifying a model name and revision in production is not recommended.\n"
          ]
        },
        {
          "output_type": "display_data",
          "data": {
            "text/plain": [
              "config.json:   0%|          | 0.00/629 [00:00<?, ?B/s]"
            ],
            "application/vnd.jupyter.widget-view+json": {
              "version_major": 2,
              "version_minor": 0,
              "model_id": "4a2f13345a344133805bff7bfe851dd7"
            }
          },
          "metadata": {}
        },
        {
          "output_type": "display_data",
          "data": {
            "text/plain": [
              "model.safetensors:   0%|          | 0.00/268M [00:00<?, ?B/s]"
            ],
            "application/vnd.jupyter.widget-view+json": {
              "version_major": 2,
              "version_minor": 0,
              "model_id": "a2e41528c8be47c6816c0e1a46fcf641"
            }
          },
          "metadata": {}
        },
        {
          "output_type": "display_data",
          "data": {
            "text/plain": [
              "tokenizer_config.json:   0%|          | 0.00/48.0 [00:00<?, ?B/s]"
            ],
            "application/vnd.jupyter.widget-view+json": {
              "version_major": 2,
              "version_minor": 0,
              "model_id": "d7f10132acf34fd89d1120dd5096bfab"
            }
          },
          "metadata": {}
        },
        {
          "output_type": "display_data",
          "data": {
            "text/plain": [
              "vocab.txt:   0%|          | 0.00/232k [00:00<?, ?B/s]"
            ],
            "application/vnd.jupyter.widget-view+json": {
              "version_major": 2,
              "version_minor": 0,
              "model_id": "a9e3a32918cc409c8d74c40d4497686f"
            }
          },
          "metadata": {}
        }
      ]
    },
    {
      "cell_type": "code",
      "source": [
        "sentiment(summaries['BTC'])"
      ],
      "metadata": {
        "colab": {
          "base_uri": "https://localhost:8080/"
        },
        "id": "SZNelw9iSNMb",
        "outputId": "05c644bb-0fc6-4031-e1fc-42b98056e3b7"
      },
      "execution_count": 30,
      "outputs": [
        {
          "output_type": "execute_result",
          "data": {
            "text/plain": [
              "[{'label': 'POSITIVE', 'score': 0.9979088306427002},\n",
              " {'label': 'NEGATIVE', 'score': 0.9903545379638672},\n",
              " {'label': 'POSITIVE', 'score': 0.9979088306427002},\n",
              " {'label': 'POSITIVE', 'score': 0.9979088306427002},\n",
              " {'label': 'POSITIVE', 'score': 0.9979088306427002},\n",
              " {'label': 'NEGATIVE', 'score': 0.9838812351226807},\n",
              " {'label': 'POSITIVE', 'score': 0.9984980821609497},\n",
              " {'label': 'POSITIVE', 'score': 0.9979088306427002},\n",
              " {'label': 'POSITIVE', 'score': 0.9979088306427002},\n",
              " {'label': 'POSITIVE', 'score': 0.9979088306427002},\n",
              " {'label': 'NEGATIVE', 'score': 0.9996228218078613}]"
            ]
          },
          "metadata": {},
          "execution_count": 30
        }
      ]
    },
    {
      "cell_type": "code",
      "source": [
        "scores = {ticker:sentiment(summaries[ticker]) for ticker in monitored_tickers}\n",
        "scores"
      ],
      "metadata": {
        "colab": {
          "base_uri": "https://localhost:8080/"
        },
        "id": "0WstyH_ySW4S",
        "outputId": "117ca342-be31-40a8-bd62-50fc8bb95f92"
      },
      "execution_count": 31,
      "outputs": [
        {
          "output_type": "execute_result",
          "data": {
            "text/plain": [
              "{'GME': [{'label': 'POSITIVE', 'score': 0.9979088306427002},\n",
              "  {'label': 'NEGATIVE', 'score': 0.9992107152938843},\n",
              "  {'label': 'POSITIVE', 'score': 0.9979088306427002},\n",
              "  {'label': 'POSITIVE', 'score': 0.9288461208343506},\n",
              "  {'label': 'POSITIVE', 'score': 0.9979088306427002},\n",
              "  {'label': 'NEGATIVE', 'score': 0.9992019534111023},\n",
              "  {'label': 'POSITIVE', 'score': 0.9979088306427002},\n",
              "  {'label': 'NEGATIVE', 'score': 0.9903545379638672},\n",
              "  {'label': 'NEGATIVE', 'score': 0.99628084897995},\n",
              "  {'label': 'POSITIVE', 'score': 0.9979088306427002},\n",
              "  {'label': 'POSITIVE', 'score': 0.9979088306427002}],\n",
              " 'TSLA': [{'label': 'NEGATIVE', 'score': 0.9174425005912781},\n",
              "  {'label': 'NEGATIVE', 'score': 0.9994245767593384},\n",
              "  {'label': 'POSITIVE', 'score': 0.9998431205749512},\n",
              "  {'label': 'NEGATIVE', 'score': 0.9996353387832642},\n",
              "  {'label': 'POSITIVE', 'score': 0.9979088306427002},\n",
              "  {'label': 'NEGATIVE', 'score': 0.9866054654121399},\n",
              "  {'label': 'POSITIVE', 'score': 0.9979088306427002},\n",
              "  {'label': 'NEGATIVE', 'score': 0.998066246509552},\n",
              "  {'label': 'POSITIVE', 'score': 0.9979088306427002},\n",
              "  {'label': 'NEGATIVE', 'score': 0.9852028489112854},\n",
              "  {'label': 'NEGATIVE', 'score': 0.9903545379638672}],\n",
              " 'BTC': [{'label': 'POSITIVE', 'score': 0.9979088306427002},\n",
              "  {'label': 'NEGATIVE', 'score': 0.9903545379638672},\n",
              "  {'label': 'POSITIVE', 'score': 0.9979088306427002},\n",
              "  {'label': 'POSITIVE', 'score': 0.9979088306427002},\n",
              "  {'label': 'POSITIVE', 'score': 0.9979088306427002},\n",
              "  {'label': 'NEGATIVE', 'score': 0.9838812351226807},\n",
              "  {'label': 'POSITIVE', 'score': 0.9984980821609497},\n",
              "  {'label': 'POSITIVE', 'score': 0.9979088306427002},\n",
              "  {'label': 'POSITIVE', 'score': 0.9979088306427002},\n",
              "  {'label': 'POSITIVE', 'score': 0.9979088306427002},\n",
              "  {'label': 'NEGATIVE', 'score': 0.9996228218078613}]}"
            ]
          },
          "metadata": {},
          "execution_count": 31
        }
      ]
    },
    {
      "cell_type": "code",
      "source": [
        "print(summaries['GME'][3], scores['GME'][3]['label'], scores['GME'][3]['score'])"
      ],
      "metadata": {
        "colab": {
          "base_uri": "https://localhost:8080/"
        },
        "id": "YzrNBIe2SaBm",
        "outputId": "6ea7743f-74a3-45b3-cab0-e1befdad6647"
      },
      "execution_count": 32,
      "outputs": [
        {
          "output_type": "stream",
          "name": "stdout",
          "text": [
            "Fiscal year 2023 net sales were $5.273 billion, compared to $5.927 billion in 2022. POSITIVE 0.9288461208343506\n"
          ]
        }
      ]
    },
    {
      "cell_type": "code",
      "source": [
        "summaries"
      ],
      "metadata": {
        "colab": {
          "base_uri": "https://localhost:8080/"
        },
        "id": "mUeTkp_DSfVr",
        "outputId": "41be13bb-5c16-410a-da9e-9af81d5c4c60"
      },
      "execution_count": 33,
      "outputs": [
        {
          "output_type": "execute_result",
          "data": {
            "text/plain": [
              "{'GME': ['We are aware of the issue and are working to resolve it.',\n",
              "  \"Revenue fell short of analysts' expectations, driven by significant underperformance.\",\n",
              "  'We are aware of the issue and are working to resolve it.',\n",
              "  'Fiscal year 2023 net sales were $5.273 billion, compared to $5.927 billion in 2022.',\n",
              "  'We are aware of the issue and are working to resolve it.',\n",
              "  \"Revenue fell 19.4% year on year to $1.79 billion, missed analysts' expectations.\",\n",
              "  'We are aware of the issue and are working to resolve it.',\n",
              "  'Your information may be shared with third parties.',\n",
              "  'Analysts are expecting the business to stay the course heading into the earnings.',\n",
              "  'We are aware of the issue and are working to resolve it.',\n",
              "  'We are aware of the issue and are working to resolve it.'],\n",
              " 'TSLA': ['Italian newspaper says Tesla is in talks for a new plant.',\n",
              "  'Tesla is down 31% this year and off 58% from its all-time high. Netflix is down 76% from its all-time high in November 2021',\n",
              "  'Tesla, Nio, and Rivian are among the best stocks to buy right now.',\n",
              "  'EV maker has lost 6.2% over the past month, underperforming the industry. Earnings Estimate Revisions indicate that analysts are more bullish on the company',\n",
              "  'We are aware of the issue and are working to resolve it.',\n",
              "  'In this video, Motley Fool contributor Parkev Tatevosian looks at where Tesla stock could be in 2030.',\n",
              "  'We are aware of the issue and are working to resolve it.',\n",
              "  'Tesla has been trading in the red this year. Oracle would be a better fit for the group',\n",
              "  'We are aware of the issue and are working to resolve it.',\n",
              "  'Electric car maker is expected to report earnings of $0.63 per share.',\n",
              "  'Your information may be shared with third parties.'],\n",
              " 'BTC': ['We are aware of the issue and are working to resolve it.',\n",
              "  'Your information may be shared with third parties.',\n",
              "  'We are aware of the issue and are working to resolve it.',\n",
              "  'We are aware of the issue and are working to resolve it.',\n",
              "  'We are aware of the issue and are working to resolve it.',\n",
              "  'Prosecutors ask for 40 to 50 years; Bankman-Fried’s lawyers ask for six and a half years.',\n",
              "  'Social trading platform Option2Trade (O2T) is attracting a diverse user base.',\n",
              "  'We are aware of the issue and are working to resolve it.',\n",
              "  'We are aware of the issue and are working to resolve it.',\n",
              "  'We are aware of the issue and are working to resolve it.',\n",
              "  'Tesla to offer US customers a free trial of self-drive technology. Bitcoin falls below $70,000 as crypto rally fades']}"
            ]
          },
          "metadata": {},
          "execution_count": 33
        }
      ]
    },
    {
      "cell_type": "code",
      "source": [
        "scores"
      ],
      "metadata": {
        "colab": {
          "base_uri": "https://localhost:8080/"
        },
        "id": "34faofXIShFi",
        "outputId": "ee2b4368-fbb2-4a45-a2cb-e56396d47710"
      },
      "execution_count": 34,
      "outputs": [
        {
          "output_type": "execute_result",
          "data": {
            "text/plain": [
              "{'GME': [{'label': 'POSITIVE', 'score': 0.9979088306427002},\n",
              "  {'label': 'NEGATIVE', 'score': 0.9992107152938843},\n",
              "  {'label': 'POSITIVE', 'score': 0.9979088306427002},\n",
              "  {'label': 'POSITIVE', 'score': 0.9288461208343506},\n",
              "  {'label': 'POSITIVE', 'score': 0.9979088306427002},\n",
              "  {'label': 'NEGATIVE', 'score': 0.9992019534111023},\n",
              "  {'label': 'POSITIVE', 'score': 0.9979088306427002},\n",
              "  {'label': 'NEGATIVE', 'score': 0.9903545379638672},\n",
              "  {'label': 'NEGATIVE', 'score': 0.99628084897995},\n",
              "  {'label': 'POSITIVE', 'score': 0.9979088306427002},\n",
              "  {'label': 'POSITIVE', 'score': 0.9979088306427002}],\n",
              " 'TSLA': [{'label': 'NEGATIVE', 'score': 0.9174425005912781},\n",
              "  {'label': 'NEGATIVE', 'score': 0.9994245767593384},\n",
              "  {'label': 'POSITIVE', 'score': 0.9998431205749512},\n",
              "  {'label': 'NEGATIVE', 'score': 0.9996353387832642},\n",
              "  {'label': 'POSITIVE', 'score': 0.9979088306427002},\n",
              "  {'label': 'NEGATIVE', 'score': 0.9866054654121399},\n",
              "  {'label': 'POSITIVE', 'score': 0.9979088306427002},\n",
              "  {'label': 'NEGATIVE', 'score': 0.998066246509552},\n",
              "  {'label': 'POSITIVE', 'score': 0.9979088306427002},\n",
              "  {'label': 'NEGATIVE', 'score': 0.9852028489112854},\n",
              "  {'label': 'NEGATIVE', 'score': 0.9903545379638672}],\n",
              " 'BTC': [{'label': 'POSITIVE', 'score': 0.9979088306427002},\n",
              "  {'label': 'NEGATIVE', 'score': 0.9903545379638672},\n",
              "  {'label': 'POSITIVE', 'score': 0.9979088306427002},\n",
              "  {'label': 'POSITIVE', 'score': 0.9979088306427002},\n",
              "  {'label': 'POSITIVE', 'score': 0.9979088306427002},\n",
              "  {'label': 'NEGATIVE', 'score': 0.9838812351226807},\n",
              "  {'label': 'POSITIVE', 'score': 0.9984980821609497},\n",
              "  {'label': 'POSITIVE', 'score': 0.9979088306427002},\n",
              "  {'label': 'POSITIVE', 'score': 0.9979088306427002},\n",
              "  {'label': 'POSITIVE', 'score': 0.9979088306427002},\n",
              "  {'label': 'NEGATIVE', 'score': 0.9996228218078613}]}"
            ]
          },
          "metadata": {},
          "execution_count": 34
        }
      ]
    },
    {
      "cell_type": "code",
      "source": [
        "cleaned_urls"
      ],
      "metadata": {
        "colab": {
          "base_uri": "https://localhost:8080/"
        },
        "id": "CPzx1f01Sk4p",
        "outputId": "78a1d89b-c67b-468f-9714-ef999c3d3c20"
      },
      "execution_count": 35,
      "outputs": [
        {
          "output_type": "execute_result",
          "data": {
            "text/plain": [
              "{'GME': ['https://finance.yahoo.com/news/gamestop-gme-q4-earnings-revenues-212003206.html',\n",
              "  'https://finance.yahoo.com/news/why-gamestop-gme-shares-trading-162132483.html',\n",
              "  'https://finance.yahoo.com/video/gamestop-plunges-earnings-trump-media-140954471.html',\n",
              "  'https://finance.yahoo.com/news/gamestop-reports-fourth-quarter-fiscal-200500541.html',\n",
              "  'https://finance.yahoo.com/video/gamestop-shares-fall-missing-q4-210828603.html',\n",
              "  'https://finance.yahoo.com/news/gamestop-nyse-gme-misses-q4-200940979.html',\n",
              "  'https://finance.yahoo.com/news/gamestop-gme-q4-earnings-miss-143600702.html',\n",
              "  'https://www.google.com/search?q%3Dyahoo%2Bfinance%2BGME%26tbm%3Dnws%26pccc%3D1',\n",
              "  'https://finance.yahoo.com/news/earnings-watch-gamestop-gme-reports-184241519.html',\n",
              "  'https://finance.yahoo.com/news/unveiling-gamestop-gme-value-really-155119864.html',\n",
              "  'https://finance.yahoo.com/video/fedspeak-pce-print-gamestop-earnings-203144851.html'],\n",
              " 'TSLA': ['https://finance.yahoo.com/news/why-tesla-stock-just-popped-153348183.html',\n",
              "  'https://finance.yahoo.com/news/buy-dip-tesla-stock-forget-183600395.html',\n",
              "  'https://finance.yahoo.com/news/best-stocks-buy-tesla-stock-110000589.html',\n",
              "  'https://finance.yahoo.com/news/know-beyond-why-tesla-inc-130014305.html',\n",
              "  'https://finance.yahoo.com/news/better-electric-vehicle-stock-tesla-135300941.html',\n",
              "  'https://finance.yahoo.com/news/where-tesla-stock-2030-214349914.html',\n",
              "  'https://finance.yahoo.com/video/tesla-gets-another-price-target-151332458.html',\n",
              "  'https://finance.yahoo.com/news/forget-tesla-1-unstoppable-artificial-082700121.html',\n",
              "  'https://finance.yahoo.com/video/tesla-catl-partnership-could-game-194445639.html',\n",
              "  'https://finance.yahoo.com/news/tesla-tsla-outpaces-stock-market-214518882.html',\n",
              "  'https://www.google.com/search?q%3Dyahoo%2Bfinance%2BTSLA%26tbm%3Dnws%26pccc%3D1'],\n",
              " 'BTC': ['https://finance.yahoo.com/video/spot-bitcoin-etf-why-sparked-060048670.html',\n",
              "  'https://www.google.com/search?q%3Dyahoo%2Bfinance%2BBTC%26tbm%3Dnws%26pccc%3D1',\n",
              "  'https://finance.yahoo.com/news/u-eleventh-spot-bitcoin-etf-161427025.html%3Ffr%3Dsycsrp_catchall',\n",
              "  'https://finance.yahoo.com/video/crypto-tax-burden-may-not-154027902.html',\n",
              "  'https://finance.yahoo.com/news/binances-exit-nigeria-means-p2p-193018323.html',\n",
              "  'https://finance.yahoo.com/news/sam-bankman-fried-is-about-to-learn-how-much-prison-time-he-gets-for-ftx-crimes-153316259.html',\n",
              "  'https://finance.yahoo.com/news/o2ts-social-trading-exchange-token-150000071.html',\n",
              "  'https://finance.yahoo.com/news/1-top-cryptocurrency-buy-soars-100000573.html',\n",
              "  'https://finance.yahoo.com/news/hashdexs-defi-begins-trading-spot-191136551.html',\n",
              "  'https://finance.yahoo.com/news/larry-finks-blackrock-deploys-100m-150012952.html',\n",
              "  'https://finance.yahoo.com/news/trump-media-tesla-bitcoin-ds-smith-trending-tickers-091602165.html']}"
            ]
          },
          "metadata": {},
          "execution_count": 35
        }
      ]
    },
    {
      "cell_type": "code",
      "source": [
        "range(len(summaries['GME']))"
      ],
      "metadata": {
        "colab": {
          "base_uri": "https://localhost:8080/"
        },
        "id": "TSRZMKhCSoPt",
        "outputId": "5126a1ed-4540-4af6-b12c-56de5855663d"
      },
      "execution_count": 36,
      "outputs": [
        {
          "output_type": "execute_result",
          "data": {
            "text/plain": [
              "range(0, 11)"
            ]
          },
          "metadata": {},
          "execution_count": 36
        }
      ]
    },
    {
      "cell_type": "code",
      "source": [
        "summaries['GME'][3]"
      ],
      "metadata": {
        "colab": {
          "base_uri": "https://localhost:8080/",
          "height": 36
        },
        "id": "D7i_xp8YSqAq",
        "outputId": "a60910e0-dbfd-4086-f9e6-6b392f1b4ebc"
      },
      "execution_count": 37,
      "outputs": [
        {
          "output_type": "execute_result",
          "data": {
            "text/plain": [
              "'Fiscal year 2023 net sales were $5.273 billion, compared to $5.927 billion in 2022.'"
            ],
            "application/vnd.google.colaboratory.intrinsic+json": {
              "type": "string"
            }
          },
          "metadata": {},
          "execution_count": 37
        }
      ]
    },
    {
      "cell_type": "code",
      "source": [
        "def create_output_array(summaries, scores, urls):\n",
        "    output = []\n",
        "    for ticker in monitored_tickers:\n",
        "        for counter in range(len(summaries[ticker])):\n",
        "            output_this = [\n",
        "                ticker,\n",
        "                summaries[ticker][counter],\n",
        "                scores[ticker][counter]['label'],\n",
        "                scores[ticker][counter]['score'],\n",
        "                urls[ticker][counter]\n",
        "            ]\n",
        "            output.append(output_this)\n",
        "    return output"
      ],
      "metadata": {
        "id": "mVe7UEUlStyM"
      },
      "execution_count": 38,
      "outputs": []
    },
    {
      "cell_type": "code",
      "source": [
        "final_output = create_output_array(summaries, scores, cleaned_urls)\n",
        "final_output"
      ],
      "metadata": {
        "colab": {
          "base_uri": "https://localhost:8080/"
        },
        "id": "agznxgovSvwk",
        "outputId": "ef3f30e3-fcd2-411c-d944-6d3fab362989"
      },
      "execution_count": 39,
      "outputs": [
        {
          "output_type": "execute_result",
          "data": {
            "text/plain": [
              "[['GME',\n",
              "  'We are aware of the issue and are working to resolve it.',\n",
              "  'POSITIVE',\n",
              "  0.9979088306427002,\n",
              "  'https://finance.yahoo.com/news/gamestop-gme-q4-earnings-revenues-212003206.html'],\n",
              " ['GME',\n",
              "  \"Revenue fell short of analysts' expectations, driven by significant underperformance.\",\n",
              "  'NEGATIVE',\n",
              "  0.9992107152938843,\n",
              "  'https://finance.yahoo.com/news/why-gamestop-gme-shares-trading-162132483.html'],\n",
              " ['GME',\n",
              "  'We are aware of the issue and are working to resolve it.',\n",
              "  'POSITIVE',\n",
              "  0.9979088306427002,\n",
              "  'https://finance.yahoo.com/video/gamestop-plunges-earnings-trump-media-140954471.html'],\n",
              " ['GME',\n",
              "  'Fiscal year 2023 net sales were $5.273 billion, compared to $5.927 billion in 2022.',\n",
              "  'POSITIVE',\n",
              "  0.9288461208343506,\n",
              "  'https://finance.yahoo.com/news/gamestop-reports-fourth-quarter-fiscal-200500541.html'],\n",
              " ['GME',\n",
              "  'We are aware of the issue and are working to resolve it.',\n",
              "  'POSITIVE',\n",
              "  0.9979088306427002,\n",
              "  'https://finance.yahoo.com/video/gamestop-shares-fall-missing-q4-210828603.html'],\n",
              " ['GME',\n",
              "  \"Revenue fell 19.4% year on year to $1.79 billion, missed analysts' expectations.\",\n",
              "  'NEGATIVE',\n",
              "  0.9992019534111023,\n",
              "  'https://finance.yahoo.com/news/gamestop-nyse-gme-misses-q4-200940979.html'],\n",
              " ['GME',\n",
              "  'We are aware of the issue and are working to resolve it.',\n",
              "  'POSITIVE',\n",
              "  0.9979088306427002,\n",
              "  'https://finance.yahoo.com/news/gamestop-gme-q4-earnings-miss-143600702.html'],\n",
              " ['GME',\n",
              "  'Your information may be shared with third parties.',\n",
              "  'NEGATIVE',\n",
              "  0.9903545379638672,\n",
              "  'https://www.google.com/search?q%3Dyahoo%2Bfinance%2BGME%26tbm%3Dnws%26pccc%3D1'],\n",
              " ['GME',\n",
              "  'Analysts are expecting the business to stay the course heading into the earnings.',\n",
              "  'NEGATIVE',\n",
              "  0.99628084897995,\n",
              "  'https://finance.yahoo.com/news/earnings-watch-gamestop-gme-reports-184241519.html'],\n",
              " ['GME',\n",
              "  'We are aware of the issue and are working to resolve it.',\n",
              "  'POSITIVE',\n",
              "  0.9979088306427002,\n",
              "  'https://finance.yahoo.com/news/unveiling-gamestop-gme-value-really-155119864.html'],\n",
              " ['GME',\n",
              "  'We are aware of the issue and are working to resolve it.',\n",
              "  'POSITIVE',\n",
              "  0.9979088306427002,\n",
              "  'https://finance.yahoo.com/video/fedspeak-pce-print-gamestop-earnings-203144851.html'],\n",
              " ['TSLA',\n",
              "  'Italian newspaper says Tesla is in talks for a new plant.',\n",
              "  'NEGATIVE',\n",
              "  0.9174425005912781,\n",
              "  'https://finance.yahoo.com/news/why-tesla-stock-just-popped-153348183.html'],\n",
              " ['TSLA',\n",
              "  'Tesla is down 31% this year and off 58% from its all-time high. Netflix is down 76% from its all-time high in November 2021',\n",
              "  'NEGATIVE',\n",
              "  0.9994245767593384,\n",
              "  'https://finance.yahoo.com/news/buy-dip-tesla-stock-forget-183600395.html'],\n",
              " ['TSLA',\n",
              "  'Tesla, Nio, and Rivian are among the best stocks to buy right now.',\n",
              "  'POSITIVE',\n",
              "  0.9998431205749512,\n",
              "  'https://finance.yahoo.com/news/best-stocks-buy-tesla-stock-110000589.html'],\n",
              " ['TSLA',\n",
              "  'EV maker has lost 6.2% over the past month, underperforming the industry. Earnings Estimate Revisions indicate that analysts are more bullish on the company',\n",
              "  'NEGATIVE',\n",
              "  0.9996353387832642,\n",
              "  'https://finance.yahoo.com/news/know-beyond-why-tesla-inc-130014305.html'],\n",
              " ['TSLA',\n",
              "  'We are aware of the issue and are working to resolve it.',\n",
              "  'POSITIVE',\n",
              "  0.9979088306427002,\n",
              "  'https://finance.yahoo.com/news/better-electric-vehicle-stock-tesla-135300941.html'],\n",
              " ['TSLA',\n",
              "  'In this video, Motley Fool contributor Parkev Tatevosian looks at where Tesla stock could be in 2030.',\n",
              "  'NEGATIVE',\n",
              "  0.9866054654121399,\n",
              "  'https://finance.yahoo.com/news/where-tesla-stock-2030-214349914.html'],\n",
              " ['TSLA',\n",
              "  'We are aware of the issue and are working to resolve it.',\n",
              "  'POSITIVE',\n",
              "  0.9979088306427002,\n",
              "  'https://finance.yahoo.com/video/tesla-gets-another-price-target-151332458.html'],\n",
              " ['TSLA',\n",
              "  'Tesla has been trading in the red this year. Oracle would be a better fit for the group',\n",
              "  'NEGATIVE',\n",
              "  0.998066246509552,\n",
              "  'https://finance.yahoo.com/news/forget-tesla-1-unstoppable-artificial-082700121.html'],\n",
              " ['TSLA',\n",
              "  'We are aware of the issue and are working to resolve it.',\n",
              "  'POSITIVE',\n",
              "  0.9979088306427002,\n",
              "  'https://finance.yahoo.com/video/tesla-catl-partnership-could-game-194445639.html'],\n",
              " ['TSLA',\n",
              "  'Electric car maker is expected to report earnings of $0.63 per share.',\n",
              "  'NEGATIVE',\n",
              "  0.9852028489112854,\n",
              "  'https://finance.yahoo.com/news/tesla-tsla-outpaces-stock-market-214518882.html'],\n",
              " ['TSLA',\n",
              "  'Your information may be shared with third parties.',\n",
              "  'NEGATIVE',\n",
              "  0.9903545379638672,\n",
              "  'https://www.google.com/search?q%3Dyahoo%2Bfinance%2BTSLA%26tbm%3Dnws%26pccc%3D1'],\n",
              " ['BTC',\n",
              "  'We are aware of the issue and are working to resolve it.',\n",
              "  'POSITIVE',\n",
              "  0.9979088306427002,\n",
              "  'https://finance.yahoo.com/video/spot-bitcoin-etf-why-sparked-060048670.html'],\n",
              " ['BTC',\n",
              "  'Your information may be shared with third parties.',\n",
              "  'NEGATIVE',\n",
              "  0.9903545379638672,\n",
              "  'https://www.google.com/search?q%3Dyahoo%2Bfinance%2BBTC%26tbm%3Dnws%26pccc%3D1'],\n",
              " ['BTC',\n",
              "  'We are aware of the issue and are working to resolve it.',\n",
              "  'POSITIVE',\n",
              "  0.9979088306427002,\n",
              "  'https://finance.yahoo.com/news/u-eleventh-spot-bitcoin-etf-161427025.html%3Ffr%3Dsycsrp_catchall'],\n",
              " ['BTC',\n",
              "  'We are aware of the issue and are working to resolve it.',\n",
              "  'POSITIVE',\n",
              "  0.9979088306427002,\n",
              "  'https://finance.yahoo.com/video/crypto-tax-burden-may-not-154027902.html'],\n",
              " ['BTC',\n",
              "  'We are aware of the issue and are working to resolve it.',\n",
              "  'POSITIVE',\n",
              "  0.9979088306427002,\n",
              "  'https://finance.yahoo.com/news/binances-exit-nigeria-means-p2p-193018323.html'],\n",
              " ['BTC',\n",
              "  'Prosecutors ask for 40 to 50 years; Bankman-Fried’s lawyers ask for six and a half years.',\n",
              "  'NEGATIVE',\n",
              "  0.9838812351226807,\n",
              "  'https://finance.yahoo.com/news/sam-bankman-fried-is-about-to-learn-how-much-prison-time-he-gets-for-ftx-crimes-153316259.html'],\n",
              " ['BTC',\n",
              "  'Social trading platform Option2Trade (O2T) is attracting a diverse user base.',\n",
              "  'POSITIVE',\n",
              "  0.9984980821609497,\n",
              "  'https://finance.yahoo.com/news/o2ts-social-trading-exchange-token-150000071.html'],\n",
              " ['BTC',\n",
              "  'We are aware of the issue and are working to resolve it.',\n",
              "  'POSITIVE',\n",
              "  0.9979088306427002,\n",
              "  'https://finance.yahoo.com/news/1-top-cryptocurrency-buy-soars-100000573.html'],\n",
              " ['BTC',\n",
              "  'We are aware of the issue and are working to resolve it.',\n",
              "  'POSITIVE',\n",
              "  0.9979088306427002,\n",
              "  'https://finance.yahoo.com/news/hashdexs-defi-begins-trading-spot-191136551.html'],\n",
              " ['BTC',\n",
              "  'We are aware of the issue and are working to resolve it.',\n",
              "  'POSITIVE',\n",
              "  0.9979088306427002,\n",
              "  'https://finance.yahoo.com/news/larry-finks-blackrock-deploys-100m-150012952.html'],\n",
              " ['BTC',\n",
              "  'Tesla to offer US customers a free trial of self-drive technology. Bitcoin falls below $70,000 as crypto rally fades',\n",
              "  'NEGATIVE',\n",
              "  0.9996228218078613,\n",
              "  'https://finance.yahoo.com/news/trump-media-tesla-bitcoin-ds-smith-trending-tickers-091602165.html']]"
            ]
          },
          "metadata": {},
          "execution_count": 39
        }
      ]
    },
    {
      "cell_type": "code",
      "source": [
        "final_output.insert(0, ['Ticker', 'Summary', 'Label', 'Confidence', 'URL'])"
      ],
      "metadata": {
        "id": "8lzxtmMMSzeH"
      },
      "execution_count": 40,
      "outputs": []
    },
    {
      "cell_type": "code",
      "source": [
        "final_output"
      ],
      "metadata": {
        "colab": {
          "base_uri": "https://localhost:8080/"
        },
        "id": "gNs0UIKkS1Ta",
        "outputId": "e654262f-1444-4a4f-c21d-d321449f438a"
      },
      "execution_count": 41,
      "outputs": [
        {
          "output_type": "execute_result",
          "data": {
            "text/plain": [
              "[['Ticker', 'Summary', 'Label', 'Confidence', 'URL'],\n",
              " ['GME',\n",
              "  'We are aware of the issue and are working to resolve it.',\n",
              "  'POSITIVE',\n",
              "  0.9979088306427002,\n",
              "  'https://finance.yahoo.com/news/gamestop-gme-q4-earnings-revenues-212003206.html'],\n",
              " ['GME',\n",
              "  \"Revenue fell short of analysts' expectations, driven by significant underperformance.\",\n",
              "  'NEGATIVE',\n",
              "  0.9992107152938843,\n",
              "  'https://finance.yahoo.com/news/why-gamestop-gme-shares-trading-162132483.html'],\n",
              " ['GME',\n",
              "  'We are aware of the issue and are working to resolve it.',\n",
              "  'POSITIVE',\n",
              "  0.9979088306427002,\n",
              "  'https://finance.yahoo.com/video/gamestop-plunges-earnings-trump-media-140954471.html'],\n",
              " ['GME',\n",
              "  'Fiscal year 2023 net sales were $5.273 billion, compared to $5.927 billion in 2022.',\n",
              "  'POSITIVE',\n",
              "  0.9288461208343506,\n",
              "  'https://finance.yahoo.com/news/gamestop-reports-fourth-quarter-fiscal-200500541.html'],\n",
              " ['GME',\n",
              "  'We are aware of the issue and are working to resolve it.',\n",
              "  'POSITIVE',\n",
              "  0.9979088306427002,\n",
              "  'https://finance.yahoo.com/video/gamestop-shares-fall-missing-q4-210828603.html'],\n",
              " ['GME',\n",
              "  \"Revenue fell 19.4% year on year to $1.79 billion, missed analysts' expectations.\",\n",
              "  'NEGATIVE',\n",
              "  0.9992019534111023,\n",
              "  'https://finance.yahoo.com/news/gamestop-nyse-gme-misses-q4-200940979.html'],\n",
              " ['GME',\n",
              "  'We are aware of the issue and are working to resolve it.',\n",
              "  'POSITIVE',\n",
              "  0.9979088306427002,\n",
              "  'https://finance.yahoo.com/news/gamestop-gme-q4-earnings-miss-143600702.html'],\n",
              " ['GME',\n",
              "  'Your information may be shared with third parties.',\n",
              "  'NEGATIVE',\n",
              "  0.9903545379638672,\n",
              "  'https://www.google.com/search?q%3Dyahoo%2Bfinance%2BGME%26tbm%3Dnws%26pccc%3D1'],\n",
              " ['GME',\n",
              "  'Analysts are expecting the business to stay the course heading into the earnings.',\n",
              "  'NEGATIVE',\n",
              "  0.99628084897995,\n",
              "  'https://finance.yahoo.com/news/earnings-watch-gamestop-gme-reports-184241519.html'],\n",
              " ['GME',\n",
              "  'We are aware of the issue and are working to resolve it.',\n",
              "  'POSITIVE',\n",
              "  0.9979088306427002,\n",
              "  'https://finance.yahoo.com/news/unveiling-gamestop-gme-value-really-155119864.html'],\n",
              " ['GME',\n",
              "  'We are aware of the issue and are working to resolve it.',\n",
              "  'POSITIVE',\n",
              "  0.9979088306427002,\n",
              "  'https://finance.yahoo.com/video/fedspeak-pce-print-gamestop-earnings-203144851.html'],\n",
              " ['TSLA',\n",
              "  'Italian newspaper says Tesla is in talks for a new plant.',\n",
              "  'NEGATIVE',\n",
              "  0.9174425005912781,\n",
              "  'https://finance.yahoo.com/news/why-tesla-stock-just-popped-153348183.html'],\n",
              " ['TSLA',\n",
              "  'Tesla is down 31% this year and off 58% from its all-time high. Netflix is down 76% from its all-time high in November 2021',\n",
              "  'NEGATIVE',\n",
              "  0.9994245767593384,\n",
              "  'https://finance.yahoo.com/news/buy-dip-tesla-stock-forget-183600395.html'],\n",
              " ['TSLA',\n",
              "  'Tesla, Nio, and Rivian are among the best stocks to buy right now.',\n",
              "  'POSITIVE',\n",
              "  0.9998431205749512,\n",
              "  'https://finance.yahoo.com/news/best-stocks-buy-tesla-stock-110000589.html'],\n",
              " ['TSLA',\n",
              "  'EV maker has lost 6.2% over the past month, underperforming the industry. Earnings Estimate Revisions indicate that analysts are more bullish on the company',\n",
              "  'NEGATIVE',\n",
              "  0.9996353387832642,\n",
              "  'https://finance.yahoo.com/news/know-beyond-why-tesla-inc-130014305.html'],\n",
              " ['TSLA',\n",
              "  'We are aware of the issue and are working to resolve it.',\n",
              "  'POSITIVE',\n",
              "  0.9979088306427002,\n",
              "  'https://finance.yahoo.com/news/better-electric-vehicle-stock-tesla-135300941.html'],\n",
              " ['TSLA',\n",
              "  'In this video, Motley Fool contributor Parkev Tatevosian looks at where Tesla stock could be in 2030.',\n",
              "  'NEGATIVE',\n",
              "  0.9866054654121399,\n",
              "  'https://finance.yahoo.com/news/where-tesla-stock-2030-214349914.html'],\n",
              " ['TSLA',\n",
              "  'We are aware of the issue and are working to resolve it.',\n",
              "  'POSITIVE',\n",
              "  0.9979088306427002,\n",
              "  'https://finance.yahoo.com/video/tesla-gets-another-price-target-151332458.html'],\n",
              " ['TSLA',\n",
              "  'Tesla has been trading in the red this year. Oracle would be a better fit for the group',\n",
              "  'NEGATIVE',\n",
              "  0.998066246509552,\n",
              "  'https://finance.yahoo.com/news/forget-tesla-1-unstoppable-artificial-082700121.html'],\n",
              " ['TSLA',\n",
              "  'We are aware of the issue and are working to resolve it.',\n",
              "  'POSITIVE',\n",
              "  0.9979088306427002,\n",
              "  'https://finance.yahoo.com/video/tesla-catl-partnership-could-game-194445639.html'],\n",
              " ['TSLA',\n",
              "  'Electric car maker is expected to report earnings of $0.63 per share.',\n",
              "  'NEGATIVE',\n",
              "  0.9852028489112854,\n",
              "  'https://finance.yahoo.com/news/tesla-tsla-outpaces-stock-market-214518882.html'],\n",
              " ['TSLA',\n",
              "  'Your information may be shared with third parties.',\n",
              "  'NEGATIVE',\n",
              "  0.9903545379638672,\n",
              "  'https://www.google.com/search?q%3Dyahoo%2Bfinance%2BTSLA%26tbm%3Dnws%26pccc%3D1'],\n",
              " ['BTC',\n",
              "  'We are aware of the issue and are working to resolve it.',\n",
              "  'POSITIVE',\n",
              "  0.9979088306427002,\n",
              "  'https://finance.yahoo.com/video/spot-bitcoin-etf-why-sparked-060048670.html'],\n",
              " ['BTC',\n",
              "  'Your information may be shared with third parties.',\n",
              "  'NEGATIVE',\n",
              "  0.9903545379638672,\n",
              "  'https://www.google.com/search?q%3Dyahoo%2Bfinance%2BBTC%26tbm%3Dnws%26pccc%3D1'],\n",
              " ['BTC',\n",
              "  'We are aware of the issue and are working to resolve it.',\n",
              "  'POSITIVE',\n",
              "  0.9979088306427002,\n",
              "  'https://finance.yahoo.com/news/u-eleventh-spot-bitcoin-etf-161427025.html%3Ffr%3Dsycsrp_catchall'],\n",
              " ['BTC',\n",
              "  'We are aware of the issue and are working to resolve it.',\n",
              "  'POSITIVE',\n",
              "  0.9979088306427002,\n",
              "  'https://finance.yahoo.com/video/crypto-tax-burden-may-not-154027902.html'],\n",
              " ['BTC',\n",
              "  'We are aware of the issue and are working to resolve it.',\n",
              "  'POSITIVE',\n",
              "  0.9979088306427002,\n",
              "  'https://finance.yahoo.com/news/binances-exit-nigeria-means-p2p-193018323.html'],\n",
              " ['BTC',\n",
              "  'Prosecutors ask for 40 to 50 years; Bankman-Fried’s lawyers ask for six and a half years.',\n",
              "  'NEGATIVE',\n",
              "  0.9838812351226807,\n",
              "  'https://finance.yahoo.com/news/sam-bankman-fried-is-about-to-learn-how-much-prison-time-he-gets-for-ftx-crimes-153316259.html'],\n",
              " ['BTC',\n",
              "  'Social trading platform Option2Trade (O2T) is attracting a diverse user base.',\n",
              "  'POSITIVE',\n",
              "  0.9984980821609497,\n",
              "  'https://finance.yahoo.com/news/o2ts-social-trading-exchange-token-150000071.html'],\n",
              " ['BTC',\n",
              "  'We are aware of the issue and are working to resolve it.',\n",
              "  'POSITIVE',\n",
              "  0.9979088306427002,\n",
              "  'https://finance.yahoo.com/news/1-top-cryptocurrency-buy-soars-100000573.html'],\n",
              " ['BTC',\n",
              "  'We are aware of the issue and are working to resolve it.',\n",
              "  'POSITIVE',\n",
              "  0.9979088306427002,\n",
              "  'https://finance.yahoo.com/news/hashdexs-defi-begins-trading-spot-191136551.html'],\n",
              " ['BTC',\n",
              "  'We are aware of the issue and are working to resolve it.',\n",
              "  'POSITIVE',\n",
              "  0.9979088306427002,\n",
              "  'https://finance.yahoo.com/news/larry-finks-blackrock-deploys-100m-150012952.html'],\n",
              " ['BTC',\n",
              "  'Tesla to offer US customers a free trial of self-drive technology. Bitcoin falls below $70,000 as crypto rally fades',\n",
              "  'NEGATIVE',\n",
              "  0.9996228218078613,\n",
              "  'https://finance.yahoo.com/news/trump-media-tesla-bitcoin-ds-smith-trending-tickers-091602165.html']]"
            ]
          },
          "metadata": {},
          "execution_count": 41
        }
      ]
    },
    {
      "cell_type": "code",
      "source": [
        "import csv\n",
        "with open('assetsummaries.csv', mode='w', newline='') as f:\n",
        "    csv_writer = csv.writer(f, delimiter=',', quotechar='\"', quoting=csv.QUOTE_MINIMAL)\n",
        "    csv_writer.writerows(final_output)"
      ],
      "metadata": {
        "id": "_G-t8mhHS3KB"
      },
      "execution_count": 42,
      "outputs": []
    }
  ]
}