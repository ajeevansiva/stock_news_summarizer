{
  "nbformat": 4,
  "nbformat_minor": 0,
  "metadata": {
    "colab": {
      "provenance": [],
      "authorship_tag": "ABX9TyNlvbMDLKiqpQYoVDDv3QcB",
      "include_colab_link": true
    },
    "kernelspec": {
      "name": "python3",
      "display_name": "Python 3"
    },
    "language_info": {
      "name": "python"
    }
  },
  "cells": [
    {
      "cell_type": "markdown",
      "metadata": {
        "id": "view-in-github",
        "colab_type": "text"
      },
      "source": [
        "<a href=\"https://colab.research.google.com/github/ajeevansiva/stock_news_summarizer/blob/main/textsummarizing.ipynb\" target=\"_parent\"><img src=\"https://colab.research.google.com/assets/colab-badge.svg\" alt=\"Open In Colab\"/></a>"
      ]
    },
    {
      "cell_type": "code",
      "execution_count": 8,
      "metadata": {
        "colab": {
          "base_uri": "https://localhost:8080/"
        },
        "id": "2MuUN-74Z5Jw",
        "outputId": "89a4fd63-07d1-4115-d7c6-3c90c6e86e96"
      },
      "outputs": [
        {
          "output_type": "stream",
          "name": "stderr",
          "text": [
            "Your max_length is set to 512, but your input_length is only 121. Since this is a summarization task, where outputs shorter than the input are typically wanted, you might consider decreasing max_length manually, e.g. summarizer('...', max_length=60)\n",
            "Your max_length is set to 512, but your input_length is only 127. Since this is a summarization task, where outputs shorter than the input are typically wanted, you might consider decreasing max_length manually, e.g. summarizer('...', max_length=63)\n",
            "Your max_length is set to 512, but your input_length is only 122. Since this is a summarization task, where outputs shorter than the input are typically wanted, you might consider decreasing max_length manually, e.g. summarizer('...', max_length=61)\n",
            "Your max_length is set to 512, but your input_length is only 137. Since this is a summarization task, where outputs shorter than the input are typically wanted, you might consider decreasing max_length manually, e.g. summarizer('...', max_length=68)\n",
            "Your max_length is set to 512, but your input_length is only 159. Since this is a summarization task, where outputs shorter than the input are typically wanted, you might consider decreasing max_length manually, e.g. summarizer('...', max_length=79)\n",
            "Your max_length is set to 512, but your input_length is only 128. Since this is a summarization task, where outputs shorter than the input are typically wanted, you might consider decreasing max_length manually, e.g. summarizer('...', max_length=64)\n",
            "Your max_length is set to 512, but your input_length is only 59. Since this is a summarization task, where outputs shorter than the input are typically wanted, you might consider decreasing max_length manually, e.g. summarizer('...', max_length=29)\n"
          ]
        },
        {
          "output_type": "stream",
          "name": "stdout",
          "text": [
            "Summary:\n",
            "GameStop shares dive in extended-hours hours after missing fourth-quarter earnings estimates, falling short of both revenue — posting $1.79 billion versus an expected $2.05 billion — and adjusted EPS — $0.22 per share versus expected gains of $0.30 per share, forecasts . Yahoo Finance Live breaks down gameStop's journey since the meme stock frenzy of early 2021 . AUDIO LOGO AKIKO FUJITA: We are watching shares of GameStop plummeting after the company sales and adjusted earnings per share missed the Street's expectations . the stock was expecting much more than that. $0.30 a share is what we're looking at. I wonder if we bring this back to what we were talking about with, Josh, and Myles earlier today . we are seeing a big sell off on the back of those results . but when you think about where GameStop is fundamentally, you have to argue the story hasn't necessarily changed since we was talking about it as sort of a memeified stock. What is the strategy in place for this company's turnaround? JOSH LIPTON: \"The bear thesis is kind of still the same on this,\" which is that the industry has fundamentally shifted its digital,\" \"Video game rettachment\" he says this is a reaction to the run up that we saw in GameStop. ailer GameStop (NYSE:GME) missed analysts' expectations in Q4 CY2023, with revenue down 19.4% year on year to $1.79 billion . it made a non-GAAP profit of $0.22 per share, improving from $0.16 per share in the same quarter last year . Free Cash Flow was -$18.7 million, down from $326.6 million in the same quarter last year . GameStop sells new and used video games, consoles, and accessories, as well as pop culture merchandise . after a long day, some of us want to just watch TV, play video games and listen to music, or scroll through ouster . r phones, electronics and gaming retailers sell the technology that makes this possible, plus more. Shoppers can find everything from surround-sound speakers to gaming controllers to home appliances in their stores. Competitive prices and helpful store associates that can talk through topics like the la, the la and the la. \n"
          ]
        }
      ],
      "source": [
        "from transformers import pipeline\n",
        "\n",
        "def summarize_text(input_text, model_name=\"Ajeevan123/NewsSummarization\", max_chunk_len=510):\n",
        "    summarization_pipeline = pipeline(\"summarization\", model=model_name, tokenizer=model_name)\n",
        "\n",
        "    # Split input text into chunks\n",
        "    input_chunks = [input_text[i:i+max_chunk_len] for i in range(0, len(input_text), max_chunk_len)]\n",
        "\n",
        "    # Summarize each chunk and concatenate summaries\n",
        "    concatenated_summary = \"\"\n",
        "    for chunk in input_chunks:\n",
        "        summarized_output = summarization_pipeline(chunk, max_length=512, min_length=40, do_sample=False)\n",
        "        for output in summarized_output:\n",
        "            concatenated_summary += output['summary_text'] + \" \"\n",
        "\n",
        "    return concatenated_summary\n",
        "\n",
        "# Example input text\n",
        "input_text = \"\"\"\n",
        "    GameStop (GME) shares dive in extended-hours hours after missing fourth-quarter earnings estimates, falling short of both revenue — posting $1.79 billion versus an expected $2.05 billion — and adjusted EPS — $0.22 per share versus expected gains of $0.30 per share — forecasts. Yahoo Finance Live breaks down GameStop shares' journey since the meme stock frenzy of early 2021. For more expert insight and the latest market action, click here to watch this full episode of Yahoo Finance Live. Editor's note: This article was written by Luke Carberry Mogan. [AUDIO LOGO] AKIKO FUJITA: We are watching shares of GameStop plummeting after the company sales and adjusted earnings per share during the fourth quarter missed the Street's expectations. You see the stock down nearly 15% right now. Josh, running us through the numbers here in the fiscal fourth quarter GameStop. Reported adjusted earnings of $0.22 a share. The Street was expecting much more than that. $0.30 a share is what we're looking at. The company's revenue coming in at $1.79 billion. That also below expectations. But I wonder if we bring this back to what we were talking about with, Josh, and Myles earlier today. Because yes, we are seeing a big sell off on the back of those results. But when you think about where GameStop is fundamentally, you have to argue the story hasn't necessarily changed since we were talking about it as sort of a memeified stock. What is the strategy in place for this company's turnaround? But yet Myles earlier talking about just how much we have seen a run up in GameStop. So this is obviously investors doing what they do. But just have to wonder, is this just kind of a reaction to the run up that we saw? This being brought down to Earth with the numbers that we got. It's a bit of a reality check. JOSH LIPTON: Yeah, because your question on the fundamentals, Akiko, is a good one. I mean, the bear thesis is kind of still the same on this, which is that the industry has fundamentally shifted its digital,\"\n",
        "    \"Video game retailer GameStop (NYSE:GME) missed analysts' expectations in Q4 CY2023, with revenue down 19.4% year on year to $1.79 billion. It made a non-GAAP profit of $0.22 per share, improving from its profit of $0.16 per share in the same quarter last year. Is now the time to buy GameStop? Find out by accessing our full research report, it's free. Revenue: $1.79 billion vs analyst estimates of $2.05 billion (12.5% miss) EPS (non-GAAP): $0.22 vs analyst expectations of $0.30 (25.4% miss) Gross Margin (GAAP): 23.4%, up from 22.4% in the same quarter last year Free Cash Flow was -$18.7 million, down from $326.6 million in the same quarter last year GME did not provide any forward-looking guidance Market Capitalization: $4.62 billion Drawing gaming fans with demo units set up with the latest releases, GameStop (NYSE:GME) sells new and used video games, consoles, and accessories, as well as pop culture merchandise. After a long day, some of us want to just watch TV, play video games, listen to music, or scroll through our phones; electronics and gaming retailers sell the technology that makes this possible, plus more. Shoppers can find everything from surround-sound speakers to gaming controllers to home appliances in their stores. Competitive prices and helpful store associates that can talk through topics like the la,\n",
        "\n",
        "\"\"\"\n",
        "\n",
        "# Summarize the input text\n",
        "summary = summarize_text(input_text)\n",
        "\n",
        "# Print the summary\n",
        "print(\"Summary:\")\n",
        "print(summary)\n"
      ]
    }
  ]
}