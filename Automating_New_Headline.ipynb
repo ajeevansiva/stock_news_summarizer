{
  "nbformat": 4,
  "nbformat_minor": 0,
  "metadata": {
    "colab": {
      "provenance": [],
      "authorship_tag": "ABX9TyPRm+0oIVxbeYxMMlc1CGZx",
      "include_colab_link": true
    },
    "kernelspec": {
      "name": "python3",
      "display_name": "Python 3"
    },
    "language_info": {
      "name": "python"
    }
  },
  "cells": [
    {
      "cell_type": "markdown",
      "metadata": {
        "id": "view-in-github",
        "colab_type": "text"
      },
      "source": [
        "<a href=\"https://colab.research.google.com/github/ajeevansiva/stock_news_summarizer/blob/main/Automating_New_Headline.ipynb\" target=\"_parent\"><img src=\"https://colab.research.google.com/assets/colab-badge.svg\" alt=\"Open In Colab\"/></a>"
      ]
    },
    {
      "cell_type": "code",
      "execution_count": 7,
      "metadata": {
        "colab": {
          "base_uri": "https://localhost:8080/"
        },
        "id": "m8N0VlxA5Moo",
        "outputId": "83f04e46-dcdd-4343-aac8-c9f3a1be2d50"
      },
      "outputs": [
        {
          "output_type": "stream",
          "name": "stdout",
          "text": [
            "['/?sa=X&ved=0ahUKEwiMnua6t5aFAxWdKkQIHTt4AGcQOwgC', '/search?q=yahoo+finance+%5B%27TSLA%27%5D&sca_esv=f467e1d66e3ba319&ie=UTF-8&tbm=nws&gbv=1&sei=DhwFZozfE53VkPIPu_CBuAY', '/search?q=yahoo+finance+%5B%27TSLA%27%5D&sca_esv=f467e1d66e3ba319&ie=UTF-8&source=lnms&sa=X&ved=0ahUKEwiMnua6t5aFAxWdKkQIHTt4AGcQ_AUIBSgA', '/search?q=yahoo+finance+%5B%27TSLA%27%5D&sca_esv=f467e1d66e3ba319&ie=UTF-8&tbm=isch&source=lnms&sa=X&ved=0ahUKEwiMnua6t5aFAxWdKkQIHTt4AGcQ_AUIBygC', '/search?q=yahoo+finance+%5B%27TSLA%27%5D&sca_esv=f467e1d66e3ba319&ie=UTF-8&tbm=bks&source=lnms&sa=X&ved=0ahUKEwiMnua6t5aFAxWdKkQIHTt4AGcQ_AUICCgD', '/url?q=https://maps.google.com/maps%3Fq%3Dyahoo%2Bfinance%2B%255B%2527TSLA%2527%255D%26um%3D1%26ie%3DUTF-8%26ved%3D1t:200713%26ictx%3D111&opi=89978449&sa=U&ved=0ahUKEwiMnua6t5aFAxWdKkQIHTt4AGcQiaAMCAkoBA&usg=AOvVaw3QiZxMEzhcQSodiEb-ydEt', '/search?q=yahoo+finance+%5B%27TSLA%27%5D&sca_esv=f467e1d66e3ba319&ie=UTF-8&tbm=vid&source=lnms&sa=X&ved=0ahUKEwiMnua6t5aFAxWdKkQIHTt4AGcQ_AUICigF', '/url?q=/search%3Fq%3Dyahoo%2Bfinance%2B%255B%2527TSLA%2527%255D%26sca_esv%3Df467e1d66e3ba319%26ie%3DUTF-8%26tbm%3Dshop%26source%3Dlnms%26ved%3D1t:200713%26ictx%3D111&opi=89978449&sa=U&ved=0ahUKEwiMnua6t5aFAxWdKkQIHTt4AGcQiaAMCAsoBg&usg=AOvVaw0-d4jyhyREGhaJ6J64--Mn', '/advanced_search', '/search?q=yahoo+finance+%5B%27TSLA%27%5D&sca_esv=f467e1d66e3ba319&ie=UTF-8&tbm=nws&source=lnt&tbs=qdr:h&sa=X&ved=0ahUKEwiMnua6t5aFAxWdKkQIHTt4AGcQpwUIDQ', '/search?q=yahoo+finance+%5B%27TSLA%27%5D&sca_esv=f467e1d66e3ba319&ie=UTF-8&tbm=nws&source=lnt&tbs=qdr:d&sa=X&ved=0ahUKEwiMnua6t5aFAxWdKkQIHTt4AGcQpwUIDg', '/search?q=yahoo+finance+%5B%27TSLA%27%5D&sca_esv=f467e1d66e3ba319&ie=UTF-8&tbm=nws&source=lnt&tbs=qdr:w&sa=X&ved=0ahUKEwiMnua6t5aFAxWdKkQIHTt4AGcQpwUIDw', '/search?q=yahoo+finance+%5B%27TSLA%27%5D&sca_esv=f467e1d66e3ba319&ie=UTF-8&tbm=nws&source=lnt&tbs=qdr:m&sa=X&ved=0ahUKEwiMnua6t5aFAxWdKkQIHTt4AGcQpwUIEA', '/search?q=yahoo+finance+%5B%27TSLA%27%5D&sca_esv=f467e1d66e3ba319&ie=UTF-8&tbm=nws&source=lnt&tbs=qdr:y&sa=X&ved=0ahUKEwiMnua6t5aFAxWdKkQIHTt4AGcQpwUIEQ', '/search?q=yahoo+finance+%5B%27TSLA%27%5D&sca_esv=f467e1d66e3ba319&ie=UTF-8&tbm=nws&source=lnt&tbs=ar:1&sa=X&ved=0ahUKEwiMnua6t5aFAxWdKkQIHTt4AGcQpwUIEg', '/search?q=yahoo+finance+%5B%27TSLA%27%5D&sca_esv=f467e1d66e3ba319&ie=UTF-8&tbm=nws&source=lnt&tbs=sbd:1&sa=X&ved=0ahUKEwiMnua6t5aFAxWdKkQIHTt4AGcQpwUIFA', '/url?q=https://finance.yahoo.com/video/magnificent-7-laggards-tesla-stock-151336705.html&sa=U&ved=2ahUKEwiMnua6t5aFAxWdKkQIHTt4AGcQxfQBegQIBRAC&usg=AOvVaw1Ik01xb64p9xBvaPpc6Dws', '/url?q=https://finance.yahoo.com/video/wells-fargo-downgrades-tesla-stock-144556411.html&sa=U&ved=2ahUKEwiMnua6t5aFAxWdKkQIHTt4AGcQxfQBegQICRAC&usg=AOvVaw22OGgWB_31EG2B_h0hOTIw', '/url?q=https://finance.yahoo.com/video/tesla-stock-down-challenges-ford-221746821.html&sa=U&ved=2ahUKEwiMnua6t5aFAxWdKkQIHTt4AGcQxfQBegQIBxAC&usg=AOvVaw1-gGsDrJOquox4PDbECO2i', '/url?q=https://finance.yahoo.com/news/tesla-tsla-hike-prices-model-103000159.html&sa=U&ved=2ahUKEwiMnua6t5aFAxWdKkQIHTt4AGcQxfQBegQIAhAC&usg=AOvVaw05eV5wnH-F4gI2SGAFtknA', '/url?q=https://finance.yahoo.com/video/tesla-shares-under-pressure-bp-121450389.html&sa=U&ved=2ahUKEwiMnua6t5aFAxWdKkQIHTt4AGcQxfQBegQIBhAC&usg=AOvVaw2rRt8QQhXI-RH5N-MFSkat', '/url?q=https://finance.yahoo.com/news/director-robyn-denholm-sells-93-081038324.html&sa=U&ved=2ahUKEwiMnua6t5aFAxWdKkQIHTt4AGcQxfQBegQIBBAC&usg=AOvVaw17bR-PL5WBs4sR2LEmiYIH', '/url?q=https://finance.yahoo.com/news/tesla-inc-tsla-trending-stock-140010134.html&sa=U&ved=2ahUKEwiMnua6t5aFAxWdKkQIHTt4AGcQxfQBegQICBAC&usg=AOvVaw34dUgSFCdn28R6sBGSMHaw', '/url?q=https://finance.yahoo.com/news/tesla-stock-tumbles-7-as-shipments-slump-new-price-cuts-announced-in-china-210846757.html&sa=U&ved=2ahUKEwiMnua6t5aFAxWdKkQIHTt4AGcQxfQBegQIARAC&usg=AOvVaw1aAQ2vvFPlG6W97YuVLmul', '/url?q=https://finance.yahoo.com/news/tesla-stock-falls-12-as-ev-maker-warns-production-growth-will-be-notably-lower-than-2023-210154852.html&sa=U&ved=2ahUKEwiMnua6t5aFAxWdKkQIHTt4AGcQxfQBegQIAxAC&usg=AOvVaw06UVEI_uJ07wRuAUbztgdP', '/url?q=https://finance.yahoo.com/video/tesla-investors-express-bearishness-stock-221541649.html&sa=U&ved=2ahUKEwiMnua6t5aFAxWdKkQIHTt4AGcQxfQBegQIABAC&usg=AOvVaw3TLFSWtsQ4FFsBdZL6kl8h', '/search?q=yahoo+finance+%5B%27TSLA%27%5D&sca_esv=f467e1d66e3ba319&ie=UTF-8&tbm=nws&ei=DhwFZozfE53VkPIPu_CBuAY&start=10&sa=N', '/url?q=https://support.google.com/websearch%3Fp%3Dws_settings_location%26hl%3Den&opi=89978449&sa=U&ved=0ahUKEwiMnua6t5aFAxWdKkQIHTt4AGcQty4IUw&usg=AOvVaw3kLAM4zW-4mqYlmc0pYLAS', '/url?q=https://accounts.google.com/ServiceLogin%3Fcontinue%3Dhttps://www.google.com/search%253Fq%253Dyahoo%252Bfinance%252B%25255B%252527TSLA%252527%25255D%2526tbm%253Dnws%26hl%3Den&opi=89978449&sa=U&ved=0ahUKEwiMnua6t5aFAxWdKkQIHTt4AGcQxs8CCFQ&usg=AOvVaw0qkcgPb39zypPWqituQCxu', 'https://www.google.com/preferences?hl=en&fg=1&sa=X&ved=0ahUKEwiMnua6t5aFAxWdKkQIHTt4AGcQ5fUCCFU', 'https://policies.google.com/privacy?hl=en&fg=1', 'https://policies.google.com/terms?hl=en&fg=1', \"/setprefs?hl=en&prev=https://www.google.com/search?q%3Dyahoo%2Bfinance%2B%255B'TSLA'%255D%26tbm%3Dnws%26pccc%3D1&sig=0_Z0zQ8c53X4YQ7tLrJbE75NUFEsg%3D&cs=2&sa=X&ved=0ahUKEwiMnua6t5aFAxWdKkQIHTt4AGcQjcAJCFY\"]\n"
          ]
        }
      ],
      "source": [
        "import requests\n",
        "from bs4 import BeautifulSoup\n",
        "import time\n",
        "ticker = ['TSLA']\n",
        "def search_for_stock_news_urls(ticker):\n",
        "    search_url = \"https://www.google.com/search?q=yahoo+finance+{}&tbm=nws\".format(ticker)\n",
        "    r = requests.get(search_url)\n",
        "    soup = BeautifulSoup(r.text, 'html.parser')\n",
        "    atags = soup.find_all('a')\n",
        "    hrefs = [link['href'] for link in atags]\n",
        "    return hrefs\n",
        "\n",
        "def scrape_news(url):\n",
        "    try:\n",
        "        # Define headers\n",
        "        headers = {\n",
        "            \"User-Agent\": \"Mozilla/5.0 (Windows NT 10.0; Win64; x64) AppleWebKit/537.36 (KHTML, like Gecko) Chrome/96.0.4664.110 Safari/537.36\"\n",
        "        }\n",
        "\n",
        "        # Send a GET request to the URL with headers\n",
        "        r = requests.get(url, headers=headers)\n",
        "        r.raise_for_status()  # Raise an error for bad status codes\n",
        "\n",
        "        # Parse the HTML content of the page\n",
        "        soup = BeautifulSoup(r.text, 'html.parser')\n",
        "\n",
        "        # Find all paragraphs and filter out messages\n",
        "        paragraphs = soup.find_all('p')\n",
        "        filtered_paragraphs = [p.text.strip() for p in paragraphs if \"Thank you for your patience.\" not in p.text.strip()]\n",
        "\n",
        "        return filtered_paragraphs\n",
        "    except Exception as e:\n",
        "        print(\"Error occurred:\", e)\n",
        "        return None\n",
        "href = search_for_stock_news_urls(ticker)\n",
        "raw_urls = {ticker:search_for_stock_news_urls(ticker) for ticker in ticker}\n",
        "raw_urls\n",
        "print(href)\n",
        "for item in href:\n",
        "\n",
        "  while base:\n",
        "    news = scrape_news(raw_urls)\n",
        "    if news:\n",
        "        print(\"News headlines:\")\n",
        "        for headline in news:\n",
        "            print(\"-\", headline)\n",
        "        base = False\n",
        "    else:\n",
        "        print(\"No news scraped.\")\n",
        "\n",
        "\n",
        "# url = \"https://finance.yahoo.com/news/binances-exit-nigeria-means-p2p-193018323.html\"\n",
        "# base = True; #flag\n",
        "# while base:\n",
        "#     news = scrape_news(url)\n",
        "#     if news:\n",
        "#         print(\"News headlines:\")\n",
        "#         for headline in news:\n",
        "#             print(\"-\", headline)\n",
        "#         base = False\n",
        "#     else:\n",
        "#         print(\"No news scraped.\")\n",
        "\n",
        "    # Wait for some time before making the next request\n",
        "    time.sleep(1)  # Wait for 60 seconds (adjust as needed)\n"
      ]
    }
  ]
}