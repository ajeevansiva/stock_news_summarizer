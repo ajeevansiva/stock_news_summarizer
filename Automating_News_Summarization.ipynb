{
  "cells": [
    {
      "cell_type": "markdown",
      "metadata": {
        "id": "view-in-github",
        "colab_type": "text"
      },
      "source": [
        "<a href=\"https://colab.research.google.com/github/ajeevansiva/stock_news_summarizer/blob/main/Automating_News_Summarization.ipynb\" target=\"_parent\"><img src=\"https://colab.research.google.com/assets/colab-badge.svg\" alt=\"Open In Colab\"/></a>"
      ]
    },
    {
      "cell_type": "code",
      "execution_count": 30,
      "metadata": {
        "colab": {
          "base_uri": "https://localhost:8080/"
        },
        "id": "m8N0VlxA5Moo",
        "outputId": "899f235b-f980-42c7-9cb6-ce71b707a553"
      },
      "outputs": [
        {
          "output_type": "stream",
          "name": "stdout",
          "text": [
            "News headlines:\n",
            "- Apple (AAPL) has been one of the most searched-for stocks on Zacks.com lately. So, you might want to look at some of the facts that could shape the stock's performance in the near term.\n",
            "- Shares of this maker of iPhones, iPads and other products have returned -5.1% over the past month versus the Zacks S&P 500 composite's +3.7% change. The Zacks Computer - Mini computers industry, to which Apple belongs, has lost 5.4% over this period. Now the key question is: Where could the stock be headed in the near term?\n",
            "- Although media reports or rumors about a significant change in a company's business prospects usually cause its stock to trend and lead to an immediate price change, there are always certain fundamental factors that ultimately drive the buy-and-hold decision.\n",
            "- Revisions to Earnings Estimates\n",
            "- Here at Zacks, we prioritize appraising the change in the projection of a company's future earnings over anything else. That's because we believe the present value of its future stream of earnings is what determines the fair value for its stock.\n",
            "- We essentially look at how sell-side analysts covering the stock are revising their earnings estimates to reflect the impact of the latest business trends. And if earnings estimates go up for a company, the fair value for its stock goes up. A higher fair value than the current market price drives investors' interest in buying the stock, leading to its price moving higher. This is why empirical research shows a strong correlation between trends in earnings estimate revisions and near-term stock price movements.\n",
            "- For the current quarter, Apple is expected to post earnings of $1.50 per share, indicating a change of -1.3% from the year-ago quarter. The Zacks Consensus Estimate has changed -0.2% over the last 30 days.\n",
            "- For the current fiscal year, the consensus earnings estimate of $6.55 points to a change of +6.9% from the prior year. Over the last 30 days, this estimate has remained unchanged.\n",
            "- For the next fiscal year, the consensus earnings estimate of $7.11 indicates a change of +8.6% from what Apple is expected to report a year ago. Over the past month, the estimate has remained unchanged.\n",
            "- With an impressive externally audited track record, our proprietary stock rating tool -- the Zacks Rank -- is a more conclusive indicator of a stock's near-term price performance, as it effectively harnesses the power of earnings estimate revisions. The size of the recent change in the consensus estimate, along with three other factors related to earnings estimates, has resulted in a Zacks Rank #3 (Hold) for Apple.\n",
            "- The chart below shows the evolution of the company's forward 12-month consensus EPS estimate:\n",
            "- 12 Month EPS\n",
            "- Revenue Growth Forecast\n",
            "- Even though a company's earnings growth is arguably the best indicator of its financial health, nothing much happens if it cannot raise its revenues. It's almost impossible for a company to grow its earnings without growing its revenue for long periods. Therefore, knowing a company's potential revenue growth is crucial.\n",
            "- For Apple, the consensus sales estimate for the current quarter of $90.38 billion indicates a year-over-year change of -4.7%. For the current and next fiscal years, $385.52 billion and $404.96 billion estimates indicate +0.6% and +5% changes, respectively.\n",
            "- Last Reported Results and Surprise History\n",
            "- Apple reported revenues of $119.58 billion in the last reported quarter, representing a year-over-year change of +2.1%. EPS of $2.18 for the same period compares with $1.88 a year ago.\n",
            "- Compared to the Zacks Consensus Estimate of $117.62 billion, the reported revenues represent a surprise of +1.66%. The EPS surprise was +4.31%.\n",
            "- The company beat consensus EPS estimates in each of the trailing four quarters. The company topped consensus revenue estimates each time over this period.\n",
            "- Valuation\n",
            "- No investment decision can be efficient without considering a stock's valuation. Whether a stock's current price rightly reflects the intrinsic value of the underlying business and the company's growth prospects is an essential determinant of its future price performance.\n",
            "- Comparing the current value of a company's valuation multiples, such as its price-to-earnings (P/E), price-to-sales (P/S), and price-to-cash flow (P/CF), to its own historical values helps ascertain whether its stock is fairly valued, overvalued, or undervalued, whereas comparing the company relative to its peers on these parameters gives a good sense of how reasonable its stock price is.\n",
            "- The Zacks Value Style Score (part of the Zacks Style Scores system), which pays close attention to both traditional and unconventional valuation metrics to grade stocks from A to F (an An is better than a B; a B is better than a C; and so on), is pretty helpful in identifying whether a stock is overvalued, rightly valued, or temporarily undervalued.\n",
            "- Apple is graded D on this front, indicating that it is trading at a premium to its peers. Click here to see the values of some of the valuation metrics that have driven this grade.\n",
            "- Conclusion\n",
            "- The facts discussed here and much other information on Zacks.com might help determine whether or not it's worthwhile paying attention to the market buzz about Apple. However, its Zacks Rank #3 does suggest that it may perform in line with the broader market in the near term.\n",
            "- Want the latest recommendations from Zacks Investment Research? Today, you can download 7 Best Stocks for the Next 30 Days. Click to get this free report\n",
            "- Apple Inc. (AAPL) : Free Stock Analysis Report\n",
            "- To read this article on Zacks.com click here.\n",
            "- Zacks Investment Research\n",
            "- Related Quotes\n"
          ]
        }
      ],
      "source": [
        "import requests\n",
        "from bs4 import BeautifulSoup\n",
        "import time\n",
        "# ticker = ['BTC']\n",
        "# def search_for_stock_news_urls(ticker):\n",
        "#     search_url = \"https://www.google.com/search?q=yahoo+finance+{}&tbm=nws\".format(ticker)\n",
        "#     r = requests.get(search_url)\n",
        "#     soup = BeautifulSoup(r.text, 'html.parser')\n",
        "#     atags = soup.find_all('a')\n",
        "#     hrefs = [link['href'] for link in atags]\n",
        "#     return hrefs\n",
        "\n",
        "def scrape_news(url):\n",
        "    try:\n",
        "        # Define headers\n",
        "        headers = {\n",
        "            \"User-Agent\": \"Mozilla/5.0 (Windows NT 10.0; Win64; x64) AppleWebKit/537.36 (KHTML, like Gecko) Chrome/96.0.4664.110 Safari/537.36\"\n",
        "        }\n",
        "\n",
        "        # Send a GET request to the URL with headers\n",
        "        r = requests.get(url, headers=headers)\n",
        "        r.raise_for_status()  # Raise an error for bad status codes\n",
        "\n",
        "        # Parse the HTML content of the page\n",
        "        soup = BeautifulSoup(r.text, 'html.parser')\n",
        "\n",
        "        # Find all paragraphs and filter out messages\n",
        "        paragraphs = soup.find_all('p')\n",
        "        filtered_paragraphs = [p.text.strip() for p in paragraphs if \"Thank you for your patience.\" not in p.text.strip()]\n",
        "\n",
        "        return filtered_paragraphs\n",
        "    except Exception as e:\n",
        "        print(\"Error occurred:\", e)\n",
        "        return None\n",
        "\n",
        "# for item in href:\n",
        "\n",
        "#   while base:\n",
        "#     news = scrape_news(raw_urls)\n",
        "#     if news:\n",
        "#         print(\"News headlines:\")\n",
        "#         for headline in news:\n",
        "#             print(\"-\", headline)\n",
        "#         base = False\n",
        "#     else:\n",
        "#         print(\"No news scraped.\")\n",
        "\n",
        "\n",
        "url = \"https://finance.yahoo.com/news/trending-stock-apple-inc-aapl-130018800.html\"\n",
        "base = True; #flag\n",
        "\n",
        "news = scrape_news(url)\n",
        "newsString = ' '.join(news)\n",
        "if news:\n",
        "    print(\"News headlines:\")\n",
        "    for headline in news:\n",
        "\n",
        "        print(\"-\", headline)\n",
        "    base = False\n",
        "else:\n",
        "    print(\"No news scraped.\")\n"
      ]
    },
    {
      "cell_type": "code",
      "execution_count": 31,
      "metadata": {
        "colab": {
          "base_uri": "https://localhost:8080/"
        },
        "id": "6c4cM7v6VQKR",
        "outputId": "822e3931-6c26-446c-9bbc-845f7f1a9eb4"
      },
      "outputs": [
        {
          "output_type": "stream",
          "name": "stderr",
          "text": [
            "Token indices sequence length is longer than the specified maximum sequence length for this model (1291 > 512). Running this sequence through the model will result in indexing errors\n"
          ]
        },
        {
          "output_type": "stream",
          "name": "stdout",
          "text": [
            "[{'summary_text': \"Apple Inc. (AAPL) has been one of the most searched-for stocks on Zacks.com lately . a stock rating tool is a more conclusive indicator of a company's near-term price performance, as it effectively harnesses the power of earnings estimate revisions . For the current quarter, the consensus earnings estimate of $6.55 points to a change of +6.9% from what Apple is expected to report a year-over-year change of -4.7% from the prior year\"}]\n",
            "<class 'list'>\n",
            "Summary:\n",
            "Apple Inc. (AAPL) has been one of the most searched-for stocks on Zacks.com lately . a stock rating tool is a more conclusive indicator of a company's near-term price performance, as it effectively harnesses the power of earnings estimate revisions . For the current quarter, the consensus earnings estimate of $6.55 points to a change of +6.9% from what Apple is expected to report a year-over-year change of -4.7% from the prior year\n"
          ]
        }
      ],
      "source": [
        "from transformers import pipeline\n",
        "\n",
        "def summarize_text(input_text, model_name=\"Ajeevan123/NewsSummarization\", max_chunk_len=510):\n",
        "    summarization_pipeline = pipeline(\"summarization\", model=model_name, tokenizer=model_name)\n",
        "\n",
        "    # Split input text into chunks\n",
        "    input_chunks = input_text\n",
        "\n",
        "    summarized_output = summarization_pipeline(input_chunks, max_length=510, min_length=40, do_sample=False)\n",
        "\n",
        "    # Summarize each chunk and concatenate summaries\n",
        "    # concatenated_summary = \"\"\n",
        "    # for chunk in input_chunks:\n",
        "    #     summarized_output = summarization_pipeline(chunk, max_length=510, min_length=40, do_sample=False)\n",
        "    #     for output in summarized_output:\n",
        "    #         concatenated_summary += output['summary_text'] + \" \"\n",
        "\n",
        "    return summarized_output\n",
        "\n",
        "# Example input text\n",
        "input_text = newsString\n",
        "\n",
        "# Summarize the input text\n",
        "summary = summarize_text(input_text)\n",
        "print(summary)\n",
        "sr = str(summary[0]['summary_text'])\n",
        "print(type(summary))\n",
        "# Print the summary\n",
        "print(\"Summary:\")\n",
        "print(sr)"
      ]
    },
    {
      "cell_type": "code",
      "source": [
        "from transformers import pipeline\n",
        "sentiment = pipeline('sentiment-analysis')"
      ],
      "metadata": {
        "colab": {
          "base_uri": "https://localhost:8080/"
        },
        "id": "oHVdz9_4Onfl",
        "outputId": "741dd1dc-c89f-4dea-f31d-fb8a5375d5df"
      },
      "execution_count": 32,
      "outputs": [
        {
          "output_type": "stream",
          "name": "stderr",
          "text": [
            "No model was supplied, defaulted to distilbert/distilbert-base-uncased-finetuned-sst-2-english and revision af0f99b (https://huggingface.co/distilbert/distilbert-base-uncased-finetuned-sst-2-english).\n",
            "Using a pipeline without specifying a model name and revision in production is not recommended.\n"
          ]
        }
      ]
    },
    {
      "cell_type": "code",
      "source": [
        "result = sentiment(sr)\n",
        "print(result)"
      ],
      "metadata": {
        "colab": {
          "base_uri": "https://localhost:8080/"
        },
        "id": "owdtEOMGObs-",
        "outputId": "de1e3a4e-7ad2-4050-a0b0-e25a4905bd57"
      },
      "execution_count": 33,
      "outputs": [
        {
          "output_type": "stream",
          "name": "stdout",
          "text": [
            "[{'label': 'POSITIVE', 'score': 0.9841035604476929}]\n"
          ]
        }
      ]
    },
    {
      "cell_type": "code",
      "execution_count": 34,
      "metadata": {
        "id": "WCl7T8yYMeoy",
        "colab": {
          "base_uri": "https://localhost:8080/"
        },
        "outputId": "0f484b32-75ec-48b2-cbfd-facecd4600ee"
      },
      "outputs": [
        {
          "output_type": "stream",
          "name": "stdout",
          "text": [
            "Summary: Apple Inc. (AAPL) has been one of the most searched-for stocks on Zacks.com lately . a stock rating tool is a more conclusive indicator of a company's near-term price performance, as it effectively harnesses the power of earnings estimate revisions . For the current quarter, the consensus earnings estimate of $6.55 points to a change of +6.9% from what Apple is expected to report a year-over-year change of -4.7% from the prior year\n",
            "Sentiment Analysis: POSITIVE Score: 0.9841035604476929\n"
          ]
        }
      ],
      "source": [
        "print(\"Summary:\", sr)\n",
        "print(\"Sentiment Analysis:\", result[0]['label'], \"Score:\", result[0]['score'])"
      ]
    },
    {
      "cell_type": "code",
      "source": [
        "summary_sentiment_info = \"Summary: \" + sr + \", Sentiment: \" + result[0]['label'] + \", Score: \" + str(result[0]['score'])\n",
        "print(summary_sentiment_info)"
      ],
      "metadata": {
        "colab": {
          "base_uri": "https://localhost:8080/"
        },
        "id": "qz-gaKqpnEW4",
        "outputId": "51683ba9-b06c-4e60-94ce-5f63c72b6727"
      },
      "execution_count": 35,
      "outputs": [
        {
          "output_type": "stream",
          "name": "stdout",
          "text": [
            "Summary: Apple Inc. (AAPL) has been one of the most searched-for stocks on Zacks.com lately . a stock rating tool is a more conclusive indicator of a company's near-term price performance, as it effectively harnesses the power of earnings estimate revisions . For the current quarter, the consensus earnings estimate of $6.55 points to a change of +6.9% from what Apple is expected to report a year-over-year change of -4.7% from the prior year, Sentiment: POSITIVE, Score: 0.9841035604476929\n"
          ]
        }
      ]
    }
  ],
  "metadata": {
    "colab": {
      "provenance": [],
      "authorship_tag": "ABX9TyMrK+w7/9Hoz2N8wt3iBlOc",
      "include_colab_link": true
    },
    "kernelspec": {
      "display_name": "Python 3",
      "name": "python3"
    },
    "language_info": {
      "name": "python"
    }
  },
  "nbformat": 4,
  "nbformat_minor": 0
}